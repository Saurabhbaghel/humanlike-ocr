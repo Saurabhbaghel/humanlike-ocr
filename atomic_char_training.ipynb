{
  "cells": [
    {
      "cell_type": "code",
      "execution_count": 1,
      "metadata": {
        "colab": {
          "base_uri": "https://localhost:8080/"
        },
        "id": "8YVO6ox2TqNF",
        "outputId": "0bcd756a-fd4e-4803-9f6b-bc95dd0dd084"
      },
      "outputs": [
        {
          "name": "stdout",
          "output_type": "stream",
          "text": [
            "Cloning into 'humanlike-ocr'...\n",
            "remote: Enumerating objects: 737, done.\u001b[K\n",
            "remote: Counting objects: 100% (737/737), done.\u001b[K\n",
            "remote: Compressing objects: 100% (485/485), done.\u001b[K\n",
            "remote: Total 737 (delta 296), reused 671 (delta 248), pack-reused 0\u001b[K\n",
            "Receiving objects: 100% (737/737), 3.86 MiB | 9.24 MiB/s, done.\n",
            "Resolving deltas: 100% (296/296), done.\n"
          ]
        }
      ],
      "source": [
        "! git clone https://github.com/Saurabhbaghel/humanlike-ocr.git"
      ]
    },
    {
      "cell_type": "code",
      "execution_count": 2,
      "metadata": {
        "colab": {
          "base_uri": "https://localhost:8080/"
        },
        "id": "1Sac577_nnzm",
        "outputId": "8e4c4bc7-05d1-4c2b-d437-b5700f4f6ad8"
      },
      "outputs": [
        {
          "name": "stdout",
          "output_type": "stream",
          "text": [
            "Looking in indexes: https://pypi.org/simple, https://us-python.pkg.dev/colab-wheels/public/simple/\n",
            "Collecting torchmetrics\n",
            "  Downloading torchmetrics-0.11.4-py3-none-any.whl (519 kB)\n",
            "\u001b[2K     \u001b[90m━━━━━━━━━━━━━━━━━━━━━━━━━━━━━━━━━━━━━━━\u001b[0m \u001b[32m519.2/519.2 kB\u001b[0m \u001b[31m8.9 MB/s\u001b[0m eta \u001b[36m0:00:00\u001b[0m\n",
            "\u001b[?25hRequirement already satisfied: torch>=1.8.1 in /usr/local/lib/python3.10/dist-packages (from torchmetrics) (2.0.0+cu118)\n",
            "Requirement already satisfied: packaging in /usr/local/lib/python3.10/dist-packages (from torchmetrics) (23.1)\n",
            "Requirement already satisfied: numpy>=1.17.2 in /usr/local/lib/python3.10/dist-packages (from torchmetrics) (1.22.4)\n",
            "Requirement already satisfied: filelock in /usr/local/lib/python3.10/dist-packages (from torch>=1.8.1->torchmetrics) (3.12.0)\n",
            "Requirement already satisfied: triton==2.0.0 in /usr/local/lib/python3.10/dist-packages (from torch>=1.8.1->torchmetrics) (2.0.0)\n",
            "Requirement already satisfied: sympy in /usr/local/lib/python3.10/dist-packages (from torch>=1.8.1->torchmetrics) (1.11.1)\n",
            "Requirement already satisfied: networkx in /usr/local/lib/python3.10/dist-packages (from torch>=1.8.1->torchmetrics) (3.1)\n",
            "Requirement already satisfied: typing-extensions in /usr/local/lib/python3.10/dist-packages (from torch>=1.8.1->torchmetrics) (4.5.0)\n",
            "Requirement already satisfied: jinja2 in /usr/local/lib/python3.10/dist-packages (from torch>=1.8.1->torchmetrics) (3.1.2)\n",
            "Requirement already satisfied: lit in /usr/local/lib/python3.10/dist-packages (from triton==2.0.0->torch>=1.8.1->torchmetrics) (16.0.2)\n",
            "Requirement already satisfied: cmake in /usr/local/lib/python3.10/dist-packages (from triton==2.0.0->torch>=1.8.1->torchmetrics) (3.25.2)\n",
            "Requirement already satisfied: MarkupSafe>=2.0 in /usr/local/lib/python3.10/dist-packages (from jinja2->torch>=1.8.1->torchmetrics) (2.1.2)\n",
            "Requirement already satisfied: mpmath>=0.19 in /usr/local/lib/python3.10/dist-packages (from sympy->torch>=1.8.1->torchmetrics) (1.3.0)\n",
            "Installing collected packages: torchmetrics\n",
            "Successfully installed torchmetrics-0.11.4\n"
          ]
        }
      ],
      "source": [
        "! pip install torchmetrics"
      ]
    },
    {
      "cell_type": "code",
      "execution_count": null,
      "metadata": {
        "id": "LSME8DF9TzO6"
      },
      "outputs": [],
      "source": [
        "! python /content/humanlike-ocr/training_atomic_char.py /content/humanlike-ocr/data/atoms_4300.csv 220 /content/humanlike-ocr/data/atoms_4300"
      ]
    },
    {
      "cell_type": "code",
      "execution_count": 1,
      "metadata": {
        "id": "AihVe5DvxDET"
      },
      "outputs": [],
      "source": [
        "devanagari_alphabets = [\n",
        "    \"अ\", \"आ\", \"इ\", \"ई\", \"उ\", \"ऊ\", \"ऋ\", \"ए\", \"ऐ\", \"ओ\", \"औ\",\n",
        "    \"क\", \"ख\", \"ग\", \"घ\", \"ङ\", \"च\", \"छ\", \"ज\", \"झ\", \"ञ\", \"ट\",\n",
        "    \"ठ\", \"ड\", \"ढ\", \"ण\", \"त\", \"थ\", \"द\", \"ध\", \"न\", \"प\", \"फ\",\n",
        "    \"ब\", \"भ\", \"म\", \"य\", \"र\", \"ल\", \"व\", \"श\", \"ष\", \"स\", \"ह\"\n",
        "]\n",
        "\n",
        "char_map = {idx: char for idx, char in enumerate(devanagari_alphabets)}"
      ]
    },
    {
      "cell_type": "code",
      "execution_count": 63,
      "metadata": {},
      "outputs": [
        {
          "data": {
            "text/plain": [
              "'ह'"
            ]
          },
          "execution_count": 63,
          "metadata": {},
          "output_type": "execute_result"
        }
      ],
      "source": [
        "char_map[43]"
      ]
    },
    {
      "cell_type": "code",
      "execution_count": 1,
      "metadata": {
        "id": "2CwSZH1eRLHt"
      },
      "outputs": [],
      "source": [
        "import os, shutil\n",
        "import numpy as np\n",
        "import torch\n",
        "import cv2\n",
        "from torchmetrics.classification import AveragePrecision, MulticlassAccuracy, MulticlassF1Score\n",
        "from sklearn.model_selection import train_test_split\n",
        "import pandas as pd\n",
        "import torchvision as tv\n",
        "import torch.nn as nn\n",
        "import torch.nn.functional as F\n",
        "import matplotlib.pyplot as plt\n",
        "\n",
        "from ntm.encapsulated import EncapsulatedNTM"
      ]
    },
    {
      "cell_type": "code",
      "execution_count": 16,
      "metadata": {
        "id": "JHYuR7ggw49o"
      },
      "outputs": [],
      "source": [
        "class ConvBlock(nn.Module):\n",
        "    def __init__(self, input_channels: int, out_channels: int, kernel_size: tuple = (3, 3)):\n",
        "        \"\"\"Basic Conv Block with convolution layer, etc.\n",
        "\n",
        "        Args:\n",
        "            input_channels (int): _description_\n",
        "            out_channels (int): _description_\n",
        "            kernel_size (tuple, optional): _description_. Defaults to (3, 3).\n",
        "        \"\"\"\n",
        "        super().__init__()\n",
        "        \n",
        "        self.input_channels = input_channels\n",
        "        self.out_channels = out_channels\n",
        "        self.kernel_size = kernel_size\n",
        "        \n",
        "        self.conv = nn.Conv2d(self.input_channels, self.out_channels, self.kernel_size)\n",
        "        self.relu = nn.ReLU()\n",
        "        self.maxpool = nn.MaxPool2d(self.kernel_size)\n",
        "        self.dropout = nn.Dropout2d()\n",
        "        self.batchnorm = nn.BatchNorm2d(self.out_channels)\n",
        "    \n",
        "    def forward(self, x, training:bool = True):\n",
        "        conv_res = self.conv(x)\n",
        "        activated = self.relu(conv_res)\n",
        "        pooled = self.maxpool(activated)\n",
        "        if training:\n",
        "            pooled = self.dropout(pooled)\n",
        "        y = self.batchnorm(pooled)\n",
        "        return y\n",
        "    \n",
        "    def __repr__(self):\n",
        "        return f\"ConvBlock({self.input_channels, self.out_channels, self.kernel_size})\"\n",
        "\n",
        "\n",
        "class FeedforwardController(nn.Module):\n",
        "    def __init__(self, num_inputs:int, num_layers:int) -> None:\n",
        "        super().__init__()\n",
        "        self.num_inputs = num_inputs\n",
        "        # self.num_outputs = num_outputs\n",
        "        self.num_layers = num_layers\n",
        "        # self.batch_size = batch_size\n",
        "        self.device_ = torch.device(\"cuda:0\" if torch.cuda.is_available() else \"cpu\")\n",
        "        # self.layer = [\n",
        "        #     nn.Conv1d(1, 1, 1, device=self.device_),\n",
        "        #     nn.LeakyReLU()\n",
        "        # ]\n",
        "        # self.layers = [\n",
        "        #     nn.Linear(80, 100),\n",
        "        #     nn.ReLU(),\n",
        "        #     nn.Linear(100, 200),\n",
        "        #     nn.ReLU(),\n",
        "        #     nn.Linear(200, 300),\n",
        "        #     nn.ReLU(),\n",
        "        #     nn.Linear(300, 200),\n",
        "        #     nn.ReLU(),\n",
        "        #     nn.Linear(200, 80),\n",
        "        #     nn.ReLU()\n",
        "        # ]\n",
        "        self.model_ = nn.Sequential(\n",
        "            ConvBlock(self.num_inputs, 32, (2,2)),\n",
        "            # ConvBlock(32, 32, (2,2)),\n",
        "            ConvBlock(32, 64, (2,2))\n",
        "            # ConvBlock(32, 64),\n",
        "            # ConvBlock(64, 128),\n",
        "            # ConvBlock(128, 256)\n",
        "        )\n",
        "        self.flatten = nn.Flatten()\n",
        "        # self.fc_ = nn.Linear(64, 44, device=self.device_)\n",
        "        # model_ = resnet50(pretrained=True)\n",
        "        # self.feature_extractor = nn.Sequential(*list(model_.children())[:-1]).to(self.device_)\n",
        "        \n",
        "        # for layer_ in self.layers[::2]:\n",
        "        #     nn.init.kaiming_normal_(layer_.weight)\n",
        "\n",
        "        # self.feedforward = nn.ModuleList(\n",
        "        #     self.layers #* self.num_layers\n",
        "            # )\n",
        "            # nn.LazyLinear(out_features=20, device=self.device_),\n",
        "            # nn.Linear(20, self.num_outputs, device=self.device_)\n",
        "            \n",
        "\n",
        "\n",
        "    def forward(self, x, training:bool=True):\n",
        "        # if x.ndim != 3:\n",
        "        #     x = x.unsqueeze(1)\n",
        "            # raise AssertionError(f\"dimension of the input is {x.ndim} and shape is {x.size()}. It should be a 3d tensor.\")\n",
        "        # for layer in self.feature_extractor:\n",
        "        #     x = layer(x)\n",
        "        \n",
        "        # x1 = ConvBlock(3, 32)(x)\n",
        "        # print(x1.shape)\n",
        "        # x2 = ConvBlock(32, 32)(x1)\n",
        "        # print(x2.shape)\n",
        "        # y = ConvBlock(32, 64)(x2)\n",
        "        # print(y.shape)\n",
        "        \n",
        "        y = self.model_(x)\n",
        "\n",
        "        # outp = self.fc_(y)\n",
        "        return self.flatten(y)\n"
      ]
    },
    {
      "cell_type": "code",
      "execution_count": 21,
      "metadata": {
        "colab": {
          "base_uri": "https://localhost:8080/"
        },
        "id": "bw8uLqftxS0i",
        "outputId": "5abd4dd6-b528-4aac-ade8-0510fdfb85ed"
      },
      "outputs": [
        {
          "data": {
            "text/plain": [
              "torch.Size([2, 5184])"
            ]
          },
          "execution_count": 21,
          "metadata": {},
          "output_type": "execute_result"
        }
      ],
      "source": [
        "test_tensor = torch.randn(size=(2 ,1, 40, 40))\n",
        "model = FeedforwardController(1, 5)\n",
        "\n",
        "\n",
        "y = model(test_tensor).squeeze()\n",
        "# y = nn.Flatten()(y)\n",
        "y.size()"
      ]
    },
    {
      "cell_type": "code",
      "execution_count": null,
      "metadata": {
        "id": "9Z-LLge9xSp5"
      },
      "outputs": [],
      "source": []
    },
    {
      "cell_type": "code",
      "execution_count": 30,
      "metadata": {
        "id": "YMgv1WP_rdHr"
      },
      "outputs": [],
      "source": [
        "num_inputs = 1\n",
        "num_outputs = 44\n",
        "controller_size = 3136 #1024\n",
        "controller_layers = 1\n",
        "num_heads = 4\n",
        "N, M = 10, 10\n",
        "\n",
        "data_csv_path = \"data/atoms_4300.csv\"\n",
        "\n",
        "img_dir = \"data/atoms_4300\"\n",
        "\n",
        "batch_size = 2 #220"
      ]
    },
    {
      "cell_type": "code",
      "execution_count": 31,
      "metadata": {
        "colab": {
          "base_uri": "https://localhost:8080/"
        },
        "id": "ch3oeDdc9ryD",
        "outputId": "0d08ce06-4176-400b-fc27-9a768cbdebd9"
      },
      "outputs": [
        {
          "name": "stderr",
          "output_type": "stream",
          "text": [
            "/media/ashatya/Data/work/envs/torch/lib/python3.10/site-packages/torch/nn/modules/lazy.py:180: UserWarning: Lazy modules are a new feature under heavy development so changes to the API or functionality can happen at any moment.\n",
            "  warnings.warn('Lazy modules are a new feature under heavy development '\n"
          ]
        }
      ],
      "source": [
        "# defining the network\n",
        "net = EncapsulatedNTM(\n",
        "    num_inputs,\n",
        "    num_outputs,\n",
        "    controller_size,\n",
        "    controller_layers,\n",
        "    num_heads,\n",
        "    N,\n",
        "    M\n",
        ")"
      ]
    },
    {
      "cell_type": "code",
      "execution_count": 32,
      "metadata": {
        "id": "O8Rxumk-rdE5"
      },
      "outputs": [
        {
          "data": {
            "text/plain": [
              "EncapsulatedNTM(\n",
              "  (ntm): NTM(\n",
              "    (controller): FeedforwardController(\n",
              "      (model_): Sequential(\n",
              "        (0): ConvBlock((1, 32, (2, 2)))\n",
              "        (1): ConvBlock((32, 64, (2, 2)))\n",
              "      )\n",
              "      (flatten): Flatten(start_dim=1, end_dim=-1)\n",
              "    )\n",
              "    (memory): NTMMemory()\n",
              "    (heads): ModuleList(\n",
              "      (0): NTMReadHead(\n",
              "        (memory): NTMMemory()\n",
              "        (fc_read): Linear(in_features=3136, out_features=16, bias=True)\n",
              "      )\n",
              "      (1): NTMWriteHead(\n",
              "        (memory): NTMMemory()\n",
              "        (fc_write): Linear(in_features=3136, out_features=36, bias=True)\n",
              "      )\n",
              "      (2): NTMReadHead(\n",
              "        (memory): NTMMemory()\n",
              "        (fc_read): Linear(in_features=3136, out_features=16, bias=True)\n",
              "      )\n",
              "      (3): NTMWriteHead(\n",
              "        (memory): NTMMemory()\n",
              "        (fc_write): Linear(in_features=3136, out_features=36, bias=True)\n",
              "      )\n",
              "      (4): NTMReadHead(\n",
              "        (memory): NTMMemory()\n",
              "        (fc_read): Linear(in_features=3136, out_features=16, bias=True)\n",
              "      )\n",
              "      (5): NTMWriteHead(\n",
              "        (memory): NTMMemory()\n",
              "        (fc_write): Linear(in_features=3136, out_features=36, bias=True)\n",
              "      )\n",
              "      (6): NTMReadHead(\n",
              "        (memory): NTMMemory()\n",
              "        (fc_read): Linear(in_features=3136, out_features=16, bias=True)\n",
              "      )\n",
              "      (7): NTMWriteHead(\n",
              "        (memory): NTMMemory()\n",
              "        (fc_write): Linear(in_features=3136, out_features=36, bias=True)\n",
              "      )\n",
              "    )\n",
              "    (fc): LazyLinear(in_features=0, out_features=44, bias=True)\n",
              "  )\n",
              "  (memory): NTMMemory()\n",
              ")"
            ]
          },
          "execution_count": 32,
          "metadata": {},
          "output_type": "execute_result"
        }
      ],
      "source": [
        "device_ = torch.device(\"cuda:0\" if torch.cuda.is_available() else \"cpu\")\n",
        "net.to(device_)"
      ]
    },
    {
      "cell_type": "code",
      "execution_count": null,
      "metadata": {
        "colab": {
          "base_uri": "https://localhost:8080/"
        },
        "id": "zf_ZFtIcrdCG",
        "outputId": "31325170-de7c-4238-edbe-d13cfc9b0d90"
      },
      "outputs": [],
      "source": []
    },
    {
      "cell_type": "code",
      "execution_count": 33,
      "metadata": {
        "id": "KsS9jBrrrc5q"
      },
      "outputs": [],
      "source": [
        "# loss\n",
        "loss_fn = torch.nn.BCELoss()\n",
        "\n",
        "# optimizer\n",
        "optimizer = torch.optim.Adam(net.parameters())\n",
        "\n",
        "# metric\n",
        "# metric = AveragePrecision(task=\"multiclass\", num_classes=num_outputs)\n",
        "metric = MulticlassAccuracy(num_classes=44)"
      ]
    },
    {
      "cell_type": "code",
      "execution_count": null,
      "metadata": {
        "id": "8SF3TG9wycXQ"
      },
      "outputs": [],
      "source": []
    },
    {
      "cell_type": "code",
      "execution_count": 34,
      "metadata": {
        "id": "FV21VMhR4MFV"
      },
      "outputs": [],
      "source": [
        "\n",
        "class dataset(torch.utils.data.Dataset):\n",
        "    def __init__(self, annotations_file, img_dir):\n",
        "        self.images_csv = annotations_file.reset_index(drop=True) #pd.read_csv(annotations_file).reset_index(drop=True)\n",
        "        self.img_dir = img_dir\n",
        "        # self.transforms_ = tv.transforms.Compose([\n",
        "        #     tv.transforms.Resize(40),\n",
        "        #     # tv.transforms.CenterCrop(40),\n",
        "        #     tv.transforms.ConvertImageDtype(torch.float),\n",
        "        #     tv.transforms.Normalize(mean=[0.485, 0.456, 0.406], std=[0.229, 0.224, 0.225])\n",
        "        # ])\n",
        "        \n",
        "    def transforms_(self, image):\n",
        "        gray = cv2.cvtColor(image, cv2.COLOR_BGR2GRAY) if image.ndim == 3 else image\n",
        "        thresh = cv2.adaptiveThreshold(gray, 255, cv2.ADAPTIVE_THRESH_MEAN_C, cv2.THRESH_BINARY_INV, 21, 10)\n",
        "        # normed= cv2.normalize(thresh, None, 0, 1.0, cv2.NORM_MINMAX, dtype=cv2.CV_32F)\n",
        "        skeleton = cv2.ximgproc.thinning(thresh, None, 1)\n",
        "        image = cv2.resize(skeleton, (32, 32))\n",
        "        return image\n",
        "\n",
        "    def __len__(self):\n",
        "        return len(self.images_csv)\n",
        "\n",
        "    def __getitem__(self, index):\n",
        "        img_path = os.path.join(self.img_dir, self.images_csv.iloc[index, 0])\n",
        "        # image = tv.io.image.read_image(img_path)\n",
        "        image = cv2.imread(img_path, cv2.IMREAD_UNCHANGED)\n",
        "        image_ = self.transforms_(image) #.to(device_)\n",
        "        image = torch.from_numpy(image_)\n",
        "        label = self.images_csv.iloc[index, 1]\n",
        "        label = torch.nn.functional.one_hot(torch.tensor(label).to(torch.int64), num_classes=num_outputs)\n",
        "        return image.unsqueeze(0), label"
      ]
    },
    {
      "cell_type": "code",
      "execution_count": 35,
      "metadata": {
        "id": "xKqUZn8u7GhE"
      },
      "outputs": [],
      "source": [
        "# splitting train and test\n",
        "data = pd.read_csv(data_csv_path)\n",
        "training_data, val_data = train_test_split(data, test_size=0.25, train_size=0.75, random_state=4340, shuffle=True)"
      ]
    },
    {
      "cell_type": "code",
      "execution_count": 36,
      "metadata": {
        "id": "v4wVM8g_8Uj7"
      },
      "outputs": [],
      "source": [
        "# creating dataset\n",
        "train_dataset = dataset(training_data, img_dir)\n",
        "val_dataset = dataset(val_data, img_dir)"
      ]
    },
    {
      "cell_type": "code",
      "execution_count": 37,
      "metadata": {
        "id": "4hU8TdnY9OU4"
      },
      "outputs": [],
      "source": [
        "# creating dataloader\n",
        "train_dataloader = torch.utils.data.DataLoader(train_dataset, batch_size=batch_size)\n",
        "val_dataloader = torch.utils.data.DataLoader(val_dataset, batch_size=batch_size)"
      ]
    },
    {
      "cell_type": "code",
      "execution_count": 38,
      "metadata": {
        "colab": {
          "base_uri": "https://localhost:8080/",
          "height": 646
        },
        "id": "zneceespzFVp",
        "outputId": "5f34af4d-9a37-4f93-842e-2f78a58d4068"
      },
      "outputs": [
        {
          "name": "stdout",
          "output_type": "stream",
          "text": [
            "Epoch 0\n"
          ]
        },
        {
          "name": "stderr",
          "output_type": "stream",
          "text": [
            "/media/ashatya/Data/work/self/thesis/humanlike-ocr/ntm/ntm.py:102: UserWarning: Implicit dimension choice for softmax has been deprecated. Change the call to include dim=X as an argument.\n",
            "  return F.softmax(o), self.state\n"
          ]
        },
        {
          "name": "stdout",
          "output_type": "stream",
          "text": [
            "epoch 0, loss 0.000, train acc 0.687\n",
            "Loss train 0.000,  validation 0.006,  val acc 0.964\n",
            "Epoch 1\n",
            "epoch 1, loss 0.006, train acc 0.973\n",
            "Loss train 0.006,  validation 0.003,  val acc 0.979\n",
            "Epoch 2\n",
            "epoch 2, loss 0.001, train acc 0.984\n",
            "Loss train 0.001,  validation 0.002,  val acc 0.991\n",
            "Epoch 3\n"
          ]
        },
        {
          "ename": "KeyboardInterrupt",
          "evalue": "",
          "output_type": "error",
          "traceback": [
            "\u001b[0;31m---------------------------------------------------------------------------\u001b[0m",
            "\u001b[0;31mKeyboardInterrupt\u001b[0m                         Traceback (most recent call last)",
            "Cell \u001b[0;32mIn[38], line 15\u001b[0m\n\u001b[1;32m     12\u001b[0m list_labels \u001b[39m=\u001b[39m []\n\u001b[1;32m     14\u001b[0m net\u001b[39m.\u001b[39mtrain(\u001b[39mTrue\u001b[39;00m)\n\u001b[0;32m---> 15\u001b[0m \u001b[39mfor\u001b[39;00m i, data \u001b[39min\u001b[39;00m \u001b[39menumerate\u001b[39m(train_dataloader):\n\u001b[1;32m     16\u001b[0m     running_loss \u001b[39m=\u001b[39m \u001b[39m0.0\u001b[39m\n\u001b[1;32m     18\u001b[0m     inputs, labels \u001b[39m=\u001b[39m data[\u001b[39m0\u001b[39m]\u001b[39m.\u001b[39mto(device_), data[\u001b[39m1\u001b[39m]\u001b[39m.\u001b[39mto(device_)\n",
            "File \u001b[0;32m/media/ashatya/Data/work/envs/torch/lib/python3.10/site-packages/torch/utils/data/dataloader.py:628\u001b[0m, in \u001b[0;36m_BaseDataLoaderIter.__next__\u001b[0;34m(self)\u001b[0m\n\u001b[1;32m    625\u001b[0m \u001b[39mif\u001b[39;00m \u001b[39mself\u001b[39m\u001b[39m.\u001b[39m_sampler_iter \u001b[39mis\u001b[39;00m \u001b[39mNone\u001b[39;00m:\n\u001b[1;32m    626\u001b[0m     \u001b[39m# TODO(https://github.com/pytorch/pytorch/issues/76750)\u001b[39;00m\n\u001b[1;32m    627\u001b[0m     \u001b[39mself\u001b[39m\u001b[39m.\u001b[39m_reset()  \u001b[39m# type: ignore[call-arg]\u001b[39;00m\n\u001b[0;32m--> 628\u001b[0m data \u001b[39m=\u001b[39m \u001b[39mself\u001b[39;49m\u001b[39m.\u001b[39;49m_next_data()\n\u001b[1;32m    629\u001b[0m \u001b[39mself\u001b[39m\u001b[39m.\u001b[39m_num_yielded \u001b[39m+\u001b[39m\u001b[39m=\u001b[39m \u001b[39m1\u001b[39m\n\u001b[1;32m    630\u001b[0m \u001b[39mif\u001b[39;00m \u001b[39mself\u001b[39m\u001b[39m.\u001b[39m_dataset_kind \u001b[39m==\u001b[39m _DatasetKind\u001b[39m.\u001b[39mIterable \u001b[39mand\u001b[39;00m \\\n\u001b[1;32m    631\u001b[0m         \u001b[39mself\u001b[39m\u001b[39m.\u001b[39m_IterableDataset_len_called \u001b[39mis\u001b[39;00m \u001b[39mnot\u001b[39;00m \u001b[39mNone\u001b[39;00m \u001b[39mand\u001b[39;00m \\\n\u001b[1;32m    632\u001b[0m         \u001b[39mself\u001b[39m\u001b[39m.\u001b[39m_num_yielded \u001b[39m>\u001b[39m \u001b[39mself\u001b[39m\u001b[39m.\u001b[39m_IterableDataset_len_called:\n",
            "File \u001b[0;32m/media/ashatya/Data/work/envs/torch/lib/python3.10/site-packages/torch/utils/data/dataloader.py:671\u001b[0m, in \u001b[0;36m_SingleProcessDataLoaderIter._next_data\u001b[0;34m(self)\u001b[0m\n\u001b[1;32m    669\u001b[0m \u001b[39mdef\u001b[39;00m \u001b[39m_next_data\u001b[39m(\u001b[39mself\u001b[39m):\n\u001b[1;32m    670\u001b[0m     index \u001b[39m=\u001b[39m \u001b[39mself\u001b[39m\u001b[39m.\u001b[39m_next_index()  \u001b[39m# may raise StopIteration\u001b[39;00m\n\u001b[0;32m--> 671\u001b[0m     data \u001b[39m=\u001b[39m \u001b[39mself\u001b[39;49m\u001b[39m.\u001b[39;49m_dataset_fetcher\u001b[39m.\u001b[39;49mfetch(index)  \u001b[39m# may raise StopIteration\u001b[39;00m\n\u001b[1;32m    672\u001b[0m     \u001b[39mif\u001b[39;00m \u001b[39mself\u001b[39m\u001b[39m.\u001b[39m_pin_memory:\n\u001b[1;32m    673\u001b[0m         data \u001b[39m=\u001b[39m _utils\u001b[39m.\u001b[39mpin_memory\u001b[39m.\u001b[39mpin_memory(data, \u001b[39mself\u001b[39m\u001b[39m.\u001b[39m_pin_memory_device)\n",
            "File \u001b[0;32m/media/ashatya/Data/work/envs/torch/lib/python3.10/site-packages/torch/utils/data/_utils/fetch.py:58\u001b[0m, in \u001b[0;36m_MapDatasetFetcher.fetch\u001b[0;34m(self, possibly_batched_index)\u001b[0m\n\u001b[1;32m     56\u001b[0m         data \u001b[39m=\u001b[39m \u001b[39mself\u001b[39m\u001b[39m.\u001b[39mdataset\u001b[39m.\u001b[39m__getitems__(possibly_batched_index)\n\u001b[1;32m     57\u001b[0m     \u001b[39melse\u001b[39;00m:\n\u001b[0;32m---> 58\u001b[0m         data \u001b[39m=\u001b[39m [\u001b[39mself\u001b[39m\u001b[39m.\u001b[39mdataset[idx] \u001b[39mfor\u001b[39;00m idx \u001b[39min\u001b[39;00m possibly_batched_index]\n\u001b[1;32m     59\u001b[0m \u001b[39melse\u001b[39;00m:\n\u001b[1;32m     60\u001b[0m     data \u001b[39m=\u001b[39m \u001b[39mself\u001b[39m\u001b[39m.\u001b[39mdataset[possibly_batched_index]\n",
            "File \u001b[0;32m/media/ashatya/Data/work/envs/torch/lib/python3.10/site-packages/torch/utils/data/_utils/fetch.py:58\u001b[0m, in \u001b[0;36m<listcomp>\u001b[0;34m(.0)\u001b[0m\n\u001b[1;32m     56\u001b[0m         data \u001b[39m=\u001b[39m \u001b[39mself\u001b[39m\u001b[39m.\u001b[39mdataset\u001b[39m.\u001b[39m__getitems__(possibly_batched_index)\n\u001b[1;32m     57\u001b[0m     \u001b[39melse\u001b[39;00m:\n\u001b[0;32m---> 58\u001b[0m         data \u001b[39m=\u001b[39m [\u001b[39mself\u001b[39;49m\u001b[39m.\u001b[39;49mdataset[idx] \u001b[39mfor\u001b[39;00m idx \u001b[39min\u001b[39;00m possibly_batched_index]\n\u001b[1;32m     59\u001b[0m \u001b[39melse\u001b[39;00m:\n\u001b[1;32m     60\u001b[0m     data \u001b[39m=\u001b[39m \u001b[39mself\u001b[39m\u001b[39m.\u001b[39mdataset[possibly_batched_index]\n",
            "Cell \u001b[0;32mIn[34], line 26\u001b[0m, in \u001b[0;36mdataset.__getitem__\u001b[0;34m(self, index)\u001b[0m\n\u001b[1;32m     24\u001b[0m img_path \u001b[39m=\u001b[39m os\u001b[39m.\u001b[39mpath\u001b[39m.\u001b[39mjoin(\u001b[39mself\u001b[39m\u001b[39m.\u001b[39mimg_dir, \u001b[39mself\u001b[39m\u001b[39m.\u001b[39mimages_csv\u001b[39m.\u001b[39miloc[index, \u001b[39m0\u001b[39m])\n\u001b[1;32m     25\u001b[0m \u001b[39m# image = tv.io.image.read_image(img_path)\u001b[39;00m\n\u001b[0;32m---> 26\u001b[0m image \u001b[39m=\u001b[39m cv2\u001b[39m.\u001b[39;49mimread(img_path, cv2\u001b[39m.\u001b[39;49mIMREAD_UNCHANGED)\n\u001b[1;32m     27\u001b[0m image_ \u001b[39m=\u001b[39m \u001b[39mself\u001b[39m\u001b[39m.\u001b[39mtransforms_(image) \u001b[39m#.to(device_)\u001b[39;00m\n\u001b[1;32m     28\u001b[0m image \u001b[39m=\u001b[39m torch\u001b[39m.\u001b[39mfrom_numpy(image_)\n",
            "\u001b[0;31mKeyboardInterrupt\u001b[0m: "
          ]
        }
      ],
      "source": [
        "num_epochs = 5\n",
        "\n",
        "\n",
        "\n",
        "# training loop\n",
        "\n",
        "for epoch in range(num_epochs):\n",
        "    print(\"Epoch {}\".format(epoch))\n",
        "\n",
        "    last_loss = 0.0\n",
        "    list_outputs = []\n",
        "    list_labels = []\n",
        "    \n",
        "    net.train(True)\n",
        "    for i, data in enumerate(train_dataloader):\n",
        "        running_loss = 0.0\n",
        "        \n",
        "        inputs, labels = data[0].to(device_), data[1].to(device_)\n",
        "        # print(inputs.size())\n",
        "        labels = labels.type(torch.float)\n",
        "        optimizer.zero_grad()\n",
        "\n",
        "        net.init_sequence(batch_size)\n",
        "        \n",
        "        training = True\n",
        "        outputs, _ = net(inputs)\n",
        "        avg_loss = loss_fn(outputs, labels)\n",
        "\n",
        "        list_outputs.append(outputs)\n",
        "        list_labels.append(torch.argmax(labels, dim=1))\n",
        "        \n",
        "        # avg_prec = metric(outputs, torch.argmax(labels, dim=1))\n",
        "        # print(torch.argmax(outputs, dim=1), torch.argmax(labels, dim=1))\n",
        "        avg_loss.backward()\n",
        "\n",
        "        optimizer.step()\n",
        "\n",
        "        running_loss += avg_loss.item()\n",
        "        last_loss = running_loss\n",
        "        # last_avg_prec = avg_prec\n",
        "    outputs = torch.cat(list_outputs, dim=0)\n",
        "    labels = torch.cat(list_labels).squeeze()\n",
        "    acc = metric(outputs, labels)\n",
        "    print(\"epoch {}, loss {:.3f}, train acc {:.3f}\".format(epoch, last_loss, acc))\n",
        "    torch.save(net, \"model_new_{}_{}.pt\".format(\"12-05-23\", epoch))\n",
        "    \n",
        "    # validation\n",
        "    list_outputs = []\n",
        "    list_labels = []\n",
        "    \n",
        "    with torch.no_grad():\n",
        "        running_vloss = 0.0\n",
        "        for i, data in enumerate(val_dataloader):\n",
        "            net.init_sequence(batch_size)\n",
        "\n",
        "            vinputs, vlabels = data[0].to(device_), data[1].to(device_)\n",
        "            vlabels = vlabels.type(torch.float)\n",
        "            voutputs, _ = net(vinputs)\n",
        "            list_outputs.append(voutputs)\n",
        "            list_labels.append(torch.argmax(vlabels, dim=1))\n",
        "            vloss = loss_fn(voutputs, vlabels)\n",
        "            running_vloss += vloss\n",
        "        \n",
        "        voutputs = torch.cat(list_outputs, dim=0)\n",
        "        vlabels = torch.cat(list_labels).squeeze()\n",
        "        vacc = metric(voutputs, vlabels)\n",
        "        avg_vloss = running_vloss / (i+1)\n",
        "        print(\"Loss train {:.3f},  validation {:.3f},  val acc {:.3f}\".format(avg_loss, avg_vloss, vacc))\n"
      ]
    },
    {
      "attachments": {},
      "cell_type": "markdown",
      "metadata": {},
      "source": [
        "#### Testing on handwritten characters which are unseen"
      ]
    },
    {
      "cell_type": "code",
      "execution_count": 109,
      "metadata": {},
      "outputs": [
        {
          "data": {
            "text/plain": [
              "tensor([ 0.7688, -1.1404, -0.1704,  0.8131, -1.0099,  1.3997, -1.6841,  1.6109,\n",
              "         0.9257,  1.3935])"
            ]
          },
          "execution_count": 109,
          "metadata": {},
          "output_type": "execute_result"
        }
      ],
      "source": [
        "a1 = torch.randn((5))\n",
        "a2 = torch.randn((5))\n",
        "\n",
        "a3 = torch.cat([a1, a2])\n",
        "a3"
      ]
    },
    {
      "cell_type": "code",
      "execution_count": 21,
      "metadata": {},
      "outputs": [],
      "source": [
        "def transforms_(image, word:bool = False):\n",
        "    \n",
        "    gray = cv2.cvtColor(image, cv2.COLOR_BGR2GRAY) if image.ndim == 3 else image\n",
        "    # thresh = cv2.adaptiveThreshold(gray, 255, cv2.ADAPTIVE_THRESH_MEAN_C, cv2.THRESH_BINARY_INV, 21, 10)\n",
        "    # normed= cv2.normalize(thresh, None, 0, 1.0, cv2.NORM_MINMAX, dtype=cv2.CV_32F)\n",
        "    skeleton = cv2.ximgproc.thinning(gray, None, 1)\n",
        "    image = cv2.resize(skeleton, (96, 32)) if word else cv2.resize(skeleton, (32, 32))\n",
        "    return image"
      ]
    },
    {
      "cell_type": "code",
      "execution_count": 44,
      "metadata": {},
      "outputs": [],
      "source": [
        "img1_path = \"data/DevanagariHandwrittenCharacterDataset/Test/character_1_ka/1339.png\"\n",
        "img2_path = \"data/DevanagariHandwrittenCharacterDataset/Test/character_2_kha/2786.png\"\n",
        "imgs = []\n",
        "for img_path in [img1_path, img2_path]:\n",
        "    image = cv2.imread(img_path, cv2.IMREAD_UNCHANGED)\n",
        "    image = transforms_(image)\n",
        "    image = torch.from_numpy(image).expand(size = (1, 32, 32))\n",
        "    imgs.append(image)\n",
        "inp = torch.stack(imgs, dim=0)\n",
        "# image.shape"
      ]
    },
    {
      "cell_type": "code",
      "execution_count": 45,
      "metadata": {},
      "outputs": [
        {
          "data": {
            "text/plain": [
              "torch.Size([2, 1, 32, 32])"
            ]
          },
          "execution_count": 45,
          "metadata": {},
          "output_type": "execute_result"
        }
      ],
      "source": [
        "inp.shape"
      ]
    },
    {
      "cell_type": "code",
      "execution_count": 46,
      "metadata": {},
      "outputs": [
        {
          "data": {
            "text/plain": [
              "torch.Size([1, 1, 32, 32])"
            ]
          },
          "execution_count": 46,
          "metadata": {},
          "output_type": "execute_result"
        }
      ],
      "source": [
        "image.unsqueeze(0).size()"
      ]
    },
    {
      "cell_type": "code",
      "execution_count": 47,
      "metadata": {},
      "outputs": [
        {
          "data": {
            "text/plain": [
              "tensor([[[  0,   0,   0,  ...,   0,   0,   0],\n",
              "         [  0,   0,   0,  ...,   0,   0,   0],\n",
              "         [  0,   0,   0,  ..., 255,   0,   0],\n",
              "         ...,\n",
              "         [  0,   0,   0,  ...,   0,   0,   0],\n",
              "         [  0,   0,   0,  ...,   0,   0,   0],\n",
              "         [  0,   0,   0,  ...,   0,   0,   0]]], dtype=torch.uint8)"
            ]
          },
          "execution_count": 47,
          "metadata": {},
          "output_type": "execute_result"
        }
      ],
      "source": [
        "image"
      ]
    },
    {
      "cell_type": "code",
      "execution_count": 48,
      "metadata": {},
      "outputs": [
        {
          "data": {
            "text/plain": [
              "<matplotlib.image.AxesImage at 0x7fad6c175f30>"
            ]
          },
          "execution_count": 48,
          "metadata": {},
          "output_type": "execute_result"
        },
        {
          "data": {
            "image/png": "[encoded data removed]",
            "text/plain": [
              "<Figure size 640x480 with 1 Axes>"
            ]
          },
          "metadata": {},
          "output_type": "display_data"
        }
      ],
      "source": [
        "plt.imshow(np.array(image.squeeze(0)))"
      ]
    },
    {
      "cell_type": "code",
      "execution_count": 49,
      "metadata": {},
      "outputs": [
        {
          "name": "stderr",
          "output_type": "stream",
          "text": [
            "/media/ashatya/Data/work/self/thesis/humanlike-ocr/ntm/ntm.py:102: UserWarning: Implicit dimension choice for softmax has been deprecated. Change the call to include dim=X as an argument.\n",
            "  return F.softmax(o), self.state\n"
          ]
        }
      ],
      "source": [
        "# net.init_sequence(2)\n",
        "label, _ = net(inp)"
      ]
    },
    {
      "cell_type": "code",
      "execution_count": 50,
      "metadata": {},
      "outputs": [],
      "source": [
        "labels = torch.argmax(label, dim=1)"
      ]
    },
    {
      "cell_type": "code",
      "execution_count": 56,
      "metadata": {},
      "outputs": [
        {
          "data": {
            "text/plain": [
              "23"
            ]
          },
          "execution_count": 56,
          "metadata": {},
          "output_type": "execute_result"
        }
      ],
      "source": [
        "labels[0].item()"
      ]
    },
    {
      "cell_type": "code",
      "execution_count": 58,
      "metadata": {},
      "outputs": [
        {
          "data": {
            "text/plain": [
              "'ड'"
            ]
          },
          "execution_count": 58,
          "metadata": {},
          "output_type": "execute_result"
        }
      ],
      "source": [
        "char_map[labels[0].item()]"
      ]
    },
    {
      "attachments": {},
      "cell_type": "markdown",
      "metadata": {},
      "source": [
        "# Increasing the memory"
      ]
    },
    {
      "attachments": {},
      "cell_type": "markdown",
      "metadata": {},
      "source": [
        "Now the atomic training is done.<br>\n",
        "Memory is ready"
      ]
    },
    {
      "cell_type": "code",
      "execution_count": 4,
      "metadata": {},
      "outputs": [],
      "source": [
        "net = torch.load(\"model_new_07-05-23_1.pt\")"
      ]
    },
    {
      "cell_type": "code",
      "execution_count": 5,
      "metadata": {
        "id": "BQD_snMqs-5P"
      },
      "outputs": [
        {
          "data": {
            "text/plain": [
              "torch.Size([2, 10, 10])"
            ]
          },
          "execution_count": 5,
          "metadata": {},
          "output_type": "execute_result"
        }
      ],
      "source": [
        "# shape of the memory\n",
        "net.memory.memory.shape"
      ]
    },
    {
      "cell_type": "code",
      "execution_count": 22,
      "metadata": {
        "id": "d1Sdr3dozFQd"
      },
      "outputs": [],
      "source": [
        "t_ = torch.zeros_like(net.memory.memory)"
      ]
    },
    {
      "cell_type": "code",
      "execution_count": 29,
      "metadata": {
        "id": "L6H3r0rLzFN9"
      },
      "outputs": [],
      "source": [
        "a = torch.from_numpy(np.ones((1, 10)))\n",
        "a_ = a.T"
      ]
    },
    {
      "attachments": {},
      "cell_type": "markdown",
      "metadata": {},
      "source": [
        "### trying to get the contours for each character instead of words"
      ]
    },
    {
      "attachments": {},
      "cell_type": "markdown",
      "metadata": {},
      "source": [
        "#### Localizing the words"
      ]
    },
    {
      "cell_type": "code",
      "execution_count": 5,
      "metadata": {},
      "outputs": [],
      "source": [
        "\n"
      ]
    },
    {
      "cell_type": "code",
      "execution_count": 8,
      "metadata": {},
      "outputs": [
        {
          "data": {
            "text/plain": [
              "<matplotlib.image.AxesImage at 0x7fdca680b850>"
            ]
          },
          "execution_count": 8,
          "metadata": {},
          "output_type": "execute_result"
        },
        {
          "data": {
            "image/png": "[encoded data removed]",
            "text/plain": [
              "<Figure size 640x480 with 1 Axes>"
            ]
          },
          "metadata": {},
          "output_type": "display_data"
        }
      ],
      "source": [
        "plt.imshow(img)"
      ]
    },
    {
      "cell_type": "code",
      "execution_count": 11,
      "metadata": {
        "id": "Ko14CfRhzFGx"
      },
      "outputs": [
        {
          "data": {
            "text/plain": [
              "(293, 674)"
            ]
          },
          "execution_count": 11,
          "metadata": {},
          "output_type": "execute_result"
        }
      ],
      "source": [
        "h, w = img.shape\n",
        "h, w"
      ]
    },
    {
      "cell_type": "code",
      "execution_count": 4,
      "metadata": {
        "id": "v7_pq1F7zE9A"
      },
      "outputs": [],
      "source": [
        "def make_and_plot_strips(img_path, word:bool = False):\n",
        "    \n",
        "    # reading the image\n",
        "    img_path = cv2.imread(img_path, cv2.IMREAD_UNCHANGED)\n",
        "\n",
        "    # preprocess / transform\n",
        "    img = transforms_(img_path, word)\n",
        "    \n",
        "    h, _ = img.shape\n",
        "    strip_width = h//3\n",
        "    plt.subplot(3, 1, 1)\n",
        "    plt.imshow(img[:strip_width,:])\n",
        "    plt.subplot(3, 1, 2)\n",
        "    plt.imshow(img[strip_width:int(2.5*strip_width), :])\n",
        "    plt.subplot(3, 1, 3)\n",
        "    plt.imshow(img[int(2.5*strip_width):3*strip_width, :])"
      ]
    },
    {
      "cell_type": "code",
      "execution_count": 21,
      "metadata": {},
      "outputs": [
        {
          "data": {
            "image/png": "[encoded data removed]",
            "text/plain": [
              "<Figure size 640x480 with 3 Axes>"
            ]
          },
          "metadata": {},
          "output_type": "display_data"
        }
      ],
      "source": [
        "img_word1_path = \"data/IIIT-HW-Hindi_v1/HindiSeg/test/6/1/1.jpg\"\n",
        "\n",
        "make_and_plot_strips(img_word1_path, True)"
      ]
    },
    {
      "cell_type": "markdown",
      "metadata": {},
      "source": []
    },
    {
      "cell_type": "code",
      "execution_count": 5,
      "metadata": {},
      "outputs": [
        {
          "data": {
            "image/png": "[encoded data removed]",
            "text/plain": [
              "<Figure size 640x480 with 3 Axes>"
            ]
          },
          "metadata": {},
          "output_type": "display_data"
        }
      ],
      "source": [
        "img_word2_path = \"data/IIIT-HW-Hindi_v1/HindiSeg/test/6/1/7.jpg\"\n",
        "\n",
        "make_and_plot_strips(img_word2_path, True)"
      ]
    },
    {
      "cell_type": "code",
      "execution_count": 6,
      "metadata": {},
      "outputs": [
        {
          "data": {
            "image/png": "[encoded data removed]",
            "text/plain": [
              "<Figure size 640x480 with 3 Axes>"
            ]
          },
          "metadata": {},
          "output_type": "display_data"
        }
      ],
      "source": [
        "img_word2_path = \"data/IIIT-HW-Hindi_v1/HindiSeg/test/6/1/10.jpg\"\n",
        "\n",
        "make_and_plot_strips(img_word2_path, True)"
      ]
    },
    {
      "cell_type": "code",
      "execution_count": 7,
      "metadata": {},
      "outputs": [
        {
          "data": {
            "image/png": "[encoded data removed]",
            "text/plain": [
              "<Figure size 640x480 with 3 Axes>"
            ]
          },
          "metadata": {},
          "output_type": "display_data"
        }
      ],
      "source": [
        "img_word2_path = \"data/IIIT-HW-Hindi_v1/HindiSeg/test/6/1/20.jpg\"\n",
        "\n",
        "make_and_plot_strips(img_word2_path, True)"
      ]
    },
    {
      "cell_type": "code",
      "execution_count": 5,
      "metadata": {},
      "outputs": [
        {
          "data": {
            "text/plain": [
              "(293, 674, 3)"
            ]
          },
          "execution_count": 5,
          "metadata": {},
          "output_type": "execute_result"
        }
      ],
      "source": [
        "img_path = \"data/IIIT-HW-Hindi_v1/HindiSeg/test/6/1/1.jpg\"\n",
        "img = cv2.imread(img_path)\n",
        "img_ = transforms_(img, True)\n",
        "h, _ = img_.shape\n",
        "# np.concatenate([\n",
        "#     img[: h//3, :],\n",
        "    \n",
        "# ])'=\n",
        "img.shape"
      ]
    },
    {
      "cell_type": "code",
      "execution_count": 30,
      "metadata": {},
      "outputs": [
        {
          "data": {
            "text/plain": [
              "<matplotlib.image.AxesImage at 0x7fa345bc9750>"
            ]
          },
          "execution_count": 30,
          "metadata": {},
          "output_type": "execute_result"
        },
        {
          "data": {
            "image/png": "[encoded data removed]",
            "text/plain": [
              "<Figure size 640x480 with 1 Axes>"
            ]
          },
          "metadata": {},
          "output_type": "display_data"
        }
      ],
      "source": [
        "plt.imshow(img_)"
      ]
    },
    {
      "cell_type": "code",
      "execution_count": 6,
      "metadata": {},
      "outputs": [
        {
          "data": {
            "text/plain": [
              "<matplotlib.image.AxesImage at 0x7fad9d96add0>"
            ]
          },
          "execution_count": 6,
          "metadata": {},
          "output_type": "execute_result"
        },
        {
          "data": {
            "image/png": "[encoded data removed]",
            "text/plain": [
              "<Figure size 640x480 with 1 Axes>"
            ]
          },
          "metadata": {},
          "output_type": "display_data"
        }
      ],
      "source": [
        "img_ = cv2.resize(img, (96, 32))\n",
        "plt.imshow(img_)"
      ]
    },
    {
      "cell_type": "code",
      "execution_count": null,
      "metadata": {},
      "outputs": [],
      "source": []
    },
    {
      "cell_type": "code",
      "execution_count": 33,
      "metadata": {},
      "outputs": [
        {
          "data": {
            "image/png": "[encoded data removed]",
            "text/plain": [
              "<Figure size 640x480 with 3 Axes>"
            ]
          },
          "metadata": {},
          "output_type": "display_data"
        }
      ],
      "source": [
        "make_and_plot_strips(img_path, True)"
      ]
    },
    {
      "cell_type": "code",
      "execution_count": 34,
      "metadata": {},
      "outputs": [
        {
          "data": {
            "text/plain": [
              "<matplotlib.image.AxesImage at 0x7f4ef21ccdf0>"
            ]
          },
          "execution_count": 34,
          "metadata": {},
          "output_type": "execute_result"
        },
        {
          "data": {
            "image/png": "[encoded data removed]",
            "text/plain": [
              "<Figure size 640x480 with 1 Axes>"
            ]
          },
          "metadata": {},
          "output_type": "display_data"
        }
      ],
      "source": [
        "plt.imshow(img)"
      ]
    },
    {
      "cell_type": "code",
      "execution_count": 7,
      "metadata": {},
      "outputs": [],
      "source": [
        "# img = np.resize(img, (32, 96))\n",
        "img_2 = transforms_(img_, True)\n",
        "img_2 = img_2.astype(np.uint8)\n",
        "\n",
        "cntrs, _ = cv2.findContours(img_2, cv2.RETR_EXTERNAL, cv2.CHAIN_APPROX_NONE)\n",
        "# cv2.drawContours(img_, cntrs, -1, (0, 255, 0), 3)\n",
        "# plt.imshow(img_)"
      ]
    },
    {
      "cell_type": "code",
      "execution_count": 51,
      "metadata": {},
      "outputs": [
        {
          "data": {
            "text/plain": [
              "<matplotlib.image.AxesImage at 0x7fa33c279720>"
            ]
          },
          "execution_count": 51,
          "metadata": {},
          "output_type": "execute_result"
        },
        {
          "data": {
            "image/png": "[encoded data removed]",
            "text/plain": [
              "<Figure size 640x480 with 1 Axes>"
            ]
          },
          "metadata": {},
          "output_type": "display_data"
        }
      ],
      "source": [
        "plt.imshow(img_2)"
      ]
    },
    {
      "attachments": {},
      "cell_type": "markdown",
      "metadata": {},
      "source": [
        "# Evaluation on Handwritten Atoms"
      ]
    },
    {
      "cell_type": "code",
      "execution_count": 32,
      "metadata": {},
      "outputs": [],
      "source": [
        "# load model\n",
        "net = torch.load(\"model_new_11-05-23_2.pt\")"
      ]
    },
    {
      "cell_type": "code",
      "execution_count": 128,
      "metadata": {},
      "outputs": [],
      "source": [
        "# # # make a dataset\n",
        "\n",
        "# # # dest directory\n",
        "dest = \"data/atoms_evaluation_handwritten\"\n",
        "\n",
        "# # number of images to sample for each atom\n",
        "# NUM_IMAGES = 20\n",
        "\n",
        "# # directory of handwritten atoms\n",
        "hw_dir_path = \"data/DevanagariHandwrittenCharacterDataset/Test\"\n",
        "\n",
        "# # labels_dict\n",
        "labels_dict = {\"filename\": [], \"label\": []}\n",
        " \n",
        "# # list of the directories in the handwritten atoms directory\n",
        "# for subfolder in os.listdir(hw_dir_path):\n",
        "#     if \"character\" in subfolder:\n",
        "#         base_idx = subfolder.split(\"_\")[1]\n",
        "#         if int(base_idx) < 34:\n",
        "#             for hw_atom in os.listdir(os.path.join(hw_dir_path, subfolder))[:NUM_IMAGES]:\n",
        "#                 label = int(base_idx) + 10\n",
        "#                 shutil.copy(os.path.join(hw_dir_path, subfolder, hw_atom), dest)\n",
        "#                 labels_dict[\"filename\"].append(hw_atom)\n",
        "#                 labels_dict[\"label\"].append(label)"
      ]
    },
    {
      "cell_type": "code",
      "execution_count": 127,
      "metadata": {},
      "outputs": [],
      "source": [
        "# # saving the dictionary as csv\n",
        "annotations_csv = \"data/evaluation_handwritten_atoms.csv\"\n",
        "# pd.DataFrame(labels_dict).to_csv(annotations_csv, index=False)"
      ]
    },
    {
      "cell_type": "code",
      "execution_count": 130,
      "metadata": {},
      "outputs": [],
      "source": [
        "batch_size = 2\n",
        "\n",
        "annotations_file = pd.read_csv(annotations_csv)\n",
        "eval_dataset = dataset(annotations_file, dest)\n",
        "eval_dataloader = torch.utils.data.DataLoader(eval_dataset, batch_size)"
      ]
    },
    {
      "cell_type": "code",
      "execution_count": 131,
      "metadata": {},
      "outputs": [
        {
          "name": "stderr",
          "output_type": "stream",
          "text": [
            "/media/ashatya/Data/work/self/thesis/humanlike-ocr/ntm/ntm.py:102: UserWarning: Implicit dimension choice for softmax has been deprecated. Change the call to include dim=X as an argument.\n",
            "  return F.softmax(o), self.state\n"
          ]
        },
        {
          "name": "stdout",
          "output_type": "stream",
          "text": [
            "epoch 3, loss 0.821, train acc 0.002\n"
          ]
        }
      ],
      "source": [
        "list_outputs = []\n",
        "list_labels = []\n",
        "for i, data in enumerate(eval_dataloader):\n",
        "    with torch.no_grad():  \n",
        "        running_loss = 0.0\n",
        "        \n",
        "        inputs, labels = data[0].to(device_), data[1].to(device_)\n",
        "        # print(inputs.size())\n",
        "        labels = labels.type(torch.float)\n",
        "        # optimizer.zero_grad()\n",
        "\n",
        "        # net.init_sequence(batch_size)\n",
        "        \n",
        "        training = False\n",
        "        net.eval()\n",
        "        outputs, _ = net(inputs)\n",
        "        avg_loss = loss_fn(outputs, labels)\n",
        "        list_outputs.append(outputs)\n",
        "        list_labels.append(torch.argmax(labels, dim=1))\n",
        "    \n",
        "    #     avg_prec = metric(outputs, torch.argmax(labels, dim=1))\n",
        "    #     print(torch.argmax(outputs, dim=1), torch.argmax(labels, dim=1))\n",
        "        # print(torch.argmax(outputs, dim=1), torch.argmax(labels, dim=1))\n",
        "        # avg_loss.backward()\n",
        "\n",
        "        # optimizer.step()\n",
        "\n",
        "        running_loss += avg_loss.item()\n",
        "        last_loss = running_loss\n",
        "        outputs = torch.cat(list_outputs, dim=0)\n",
        "labels = torch.cat(list_labels).squeeze()\n",
        "acc = metric(outputs, labels)\n",
        "print(\"epoch {}, loss {:.3f}, train acc {:.3f}\".format(epoch, last_loss, acc))\n",
        "\n",
        "    # # validation\n",
        "    # with torch.no_grad():\n",
        "    #     running_vloss = 0.0\n",
        "    #     for i, data in enumerate(val_dataloader):\n",
        "    #         net.init_sequence(batch_size)\n",
        "\n",
        "    #         vinputs, vlabels = data[0].to(device_), data[1].to(device_)\n",
        "    #         vlabels = vlabels.type(torch.float)\n",
        "    #         voutputs, _ = net(vinputs)\n",
        "    #         vavg_prec = metric(voutputs, torch.argmax(vlabels, dim=1))\n",
        "    #         vloss = loss_fn(voutputs, vlabels)\n",
        "    #         running_vloss += vloss\n",
        "\n",
        "    #     avg_vloss = running_vloss / (i+1)\n",
        "    #     print(\"Loss train {:.3f},  validation {:.3f},  val avg prec {:.3f}\".format(avg_loss, avg_vloss, vavg_prec))\n"
      ]
    },
    {
      "attachments": {},
      "cell_type": "markdown",
      "metadata": {},
      "source": [
        "<i>So, the result on the handwritten characters is poor, we shall now try to train on hand written characters and evaluate on both.</i>"
      ]
    },
    {
      "attachments": {},
      "cell_type": "markdown",
      "metadata": {},
      "source": [
        "# Reversing the order.\n",
        "##### Training on handwritten atoms and evaluating on the handwritten and printed"
      ]
    },
    {
      "cell_type": "code",
      "execution_count": 6,
      "metadata": {},
      "outputs": [],
      "source": [
        "# creating a bigger dataset for Evaluation\n",
        "# make a dataset for Eval\n",
        "\n",
        "# dest directory\n",
        "dest_validation = \"data/atoms_evaluation_handwritten\"\n",
        "\n",
        "# annotations file for validation set\n",
        "annotations_file_validation = \"data/atoms_eval_handwritten.csv\"\n",
        "\n"
      ]
    },
    {
      "cell_type": "code",
      "execution_count": null,
      "metadata": {},
      "outputs": [],
      "source": [
        "\n",
        "# number of images to sample for each atom\n",
        "NUM_IMAGES = 30\n",
        "\n",
        "# directory of handwritten atoms\n",
        "hw_dir_path = \"data/DevanagariHandwrittenCharacterDataset/Test\"\n"
      ]
    },
    {
      "cell_type": "code",
      "execution_count": null,
      "metadata": {},
      "outputs": [],
      "source": [
        "\n",
        "# labels_dict\n",
        "labels_dict = {\"filename\": [], \"label\": []}\n",
        " \n",
        "# list of the directories in the handwritten atoms directory\n",
        "for subfolder in os.listdir(hw_dir_path):\n",
        "    if \"character\" in subfolder:\n",
        "        base_idx = subfolder.split(\"_\")[1]\n",
        "        if int(base_idx) < 34:\n",
        "            for hw_atom in os.listdir(os.path.join(hw_dir_path, subfolder))[:NUM_IMAGES]:\n",
        "                label = int(base_idx) + 10\n",
        "                shutil.copy(os.path.join(hw_dir_path, subfolder, hw_atom), dest_validation)\n",
        "                labels_dict[\"filename\"].append(hw_atom)\n",
        "                labels_dict[\"label\"].append(label)"
      ]
    },
    {
      "cell_type": "code",
      "execution_count": 57,
      "metadata": {},
      "outputs": [],
      "source": [
        "# saving the csv for the evaluation images\n",
        "pd.DataFrame(labels_dict).to_csv(annotations_file_validation, index=False)"
      ]
    },
    {
      "cell_type": "code",
      "execution_count": 5,
      "metadata": {},
      "outputs": [],
      "source": [
        "# make dataset for training\n",
        "# creating a bigger dataset for Evaluation\n",
        "# make a dataset for Eval\n",
        "\n",
        "# dest directory\n",
        "dest_train = \"data/atoms_training_handwritten\"\n",
        "\n",
        "# annotations file for training\n",
        "annotations_file_training = \"data/atoms_train_handwritten.csv\""
      ]
    },
    {
      "cell_type": "code",
      "execution_count": null,
      "metadata": {},
      "outputs": [],
      "source": [
        "\n",
        "# number of images to sample for each atom\n",
        "NUM_IMAGES = 100\n",
        "\n",
        "# directory of handwritten atoms\n",
        "hw_dir_path = \"data/DevanagariHandwrittenCharacterDataset/Test\"\n",
        "\n",
        "# labels_dict\n",
        "labels_dict = {\"filename\": [], \"label\": []}\n",
        " \n",
        "# list of the directories in the handwritten atoms directory\n",
        "for subfolder in os.listdir(hw_dir_path):\n",
        "    if \"character\" in subfolder:\n",
        "        base_idx = subfolder.split(\"_\")[1]\n",
        "        if int(base_idx) < 34:\n",
        "            for hw_atom in os.listdir(os.path.join(hw_dir_path, subfolder))[50:50+NUM_IMAGES]:\n",
        "                label = int(base_idx) + 10\n",
        "                shutil.copy(os.path.join(hw_dir_path, subfolder, hw_atom), dest_train)\n",
        "                labels_dict[\"filename\"].append(hw_atom)\n",
        "                labels_dict[\"label\"].append(label)"
      ]
    },
    {
      "cell_type": "code",
      "execution_count": 59,
      "metadata": {},
      "outputs": [],
      "source": [
        "# saving the annotations file for the training set\n",
        "pd.DataFrame(labels_dict).to_csv(annotations_file_training, index=False)"
      ]
    },
    {
      "cell_type": "code",
      "execution_count": 7,
      "metadata": {},
      "outputs": [],
      "source": [
        "# making dataset\n",
        "\n",
        "class dataset(torch.utils.data.Dataset):\n",
        "    def __init__(self, annotations_file, img_dir):\n",
        "        self.images_csv = annotations_file.reset_index(drop=True) #pd.read_csv(annotations_file).reset_index(drop=True)\n",
        "        self.img_dir = img_dir\n",
        "        # self.transforms_ = tv.transforms.Compose([\n",
        "        #     tv.transforms.Resize(40),\n",
        "        #     # tv.transforms.CenterCrop(40),\n",
        "        #     tv.transforms.ConvertImageDtype(torch.float),\n",
        "        #     tv.transforms.Normalize(mean=[0.485, 0.456, 0.406], std=[0.229, 0.224, 0.225])\n",
        "        # ])\n",
        "        \n",
        "    def transforms_(self, image):\n",
        "        gray = cv2.cvtColor(image, cv2.COLOR_BGR2GRAY) if image.ndim == 3 else image\n",
        "        thresh = cv2.adaptiveThreshold(gray, 255, cv2.ADAPTIVE_THRESH_MEAN_C, cv2.THRESH_BINARY_INV, 21, 10)\n",
        "        # normed= cv2.normalize(thresh, None, 0, 1.0, cv2.NORM_MINMAX, dtype=cv2.CV_32F)\n",
        "        skeleton = cv2.ximgproc.thinning(thresh, None, 1)\n",
        "        image = cv2.resize(skeleton, (32, 32))\n",
        "        return image\n",
        "\n",
        "    def __len__(self):\n",
        "        return len(self.images_csv)\n",
        "\n",
        "    def __getitem__(self, index):\n",
        "        img_path = os.path.join(self.img_dir, self.images_csv.iloc[index, 0])\n",
        "        # image = tv.io.image.read_image(img_path)\n",
        "        image = cv2.imread(img_path, cv2.IMREAD_UNCHANGED)\n",
        "        image_ = self.transforms_(image) #.to(device_)\n",
        "        image = torch.from_numpy(image_)\n",
        "        label = self.images_csv.iloc[index, 1]\n",
        "        label = torch.nn.functional.one_hot(torch.tensor(label).to(torch.int64), num_classes=num_outputs)\n",
        "        return image.unsqueeze(0), label"
      ]
    },
    {
      "cell_type": "code",
      "execution_count": 9,
      "metadata": {},
      "outputs": [],
      "source": [
        "batch_size = 2\n",
        "\n",
        "# train and validation dataset\n",
        "train_dataset = dataset(pd.read_csv(annotations_file_training), dest_train)\n",
        "train_dataloader = torch.utils.data.DataLoader(train_dataset, batch_size=batch_size)\n",
        "\n",
        "# repeating for valid\n",
        "val_dataset = dataset(pd.read_csv(annotations_file_validation), dest_validation)\n",
        "val_dataloader = torch.utils.data.DataLoader(val_dataset, batch_size=batch_size)"
      ]
    },
    {
      "cell_type": "code",
      "execution_count": 10,
      "metadata": {},
      "outputs": [
        {
          "data": {
            "text/html": [
              "<div>\n",
              "<style scoped>\n",
              "    .dataframe tbody tr th:only-of-type {\n",
              "        vertical-align: middle;\n",
              "    }\n",
              "\n",
              "    .dataframe tbody tr th {\n",
              "        vertical-align: top;\n",
              "    }\n",
              "\n",
              "    .dataframe thead th {\n",
              "        text-align: right;\n",
              "    }\n",
              "</style>\n",
              "<table border=\"1\" class=\"dataframe\">\n",
              "  <thead>\n",
              "    <tr style=\"text-align: right;\">\n",
              "      <th></th>\n",
              "      <th>filename</th>\n",
              "      <th>label</th>\n",
              "    </tr>\n",
              "  </thead>\n",
              "  <tbody>\n",
              "    <tr>\n",
              "      <th>0</th>\n",
              "      <td>26100.png</td>\n",
              "      <td>36</td>\n",
              "    </tr>\n",
              "    <tr>\n",
              "      <th>1</th>\n",
              "      <td>26103.png</td>\n",
              "      <td>36</td>\n",
              "    </tr>\n",
              "    <tr>\n",
              "      <th>2</th>\n",
              "      <td>26104.png</td>\n",
              "      <td>36</td>\n",
              "    </tr>\n",
              "    <tr>\n",
              "      <th>3</th>\n",
              "      <td>26107.png</td>\n",
              "      <td>36</td>\n",
              "    </tr>\n",
              "    <tr>\n",
              "      <th>4</th>\n",
              "      <td>26111.png</td>\n",
              "      <td>36</td>\n",
              "    </tr>\n",
              "    <tr>\n",
              "      <th>...</th>\n",
              "      <td>...</td>\n",
              "      <td>...</td>\n",
              "    </tr>\n",
              "    <tr>\n",
              "      <th>3295</th>\n",
              "      <td>4457.png</td>\n",
              "      <td>19</td>\n",
              "    </tr>\n",
              "    <tr>\n",
              "      <th>3296</th>\n",
              "      <td>4461.png</td>\n",
              "      <td>19</td>\n",
              "    </tr>\n",
              "    <tr>\n",
              "      <th>3297</th>\n",
              "      <td>4472.png</td>\n",
              "      <td>19</td>\n",
              "    </tr>\n",
              "    <tr>\n",
              "      <th>3298</th>\n",
              "      <td>4478.png</td>\n",
              "      <td>19</td>\n",
              "    </tr>\n",
              "    <tr>\n",
              "      <th>3299</th>\n",
              "      <td>4482.png</td>\n",
              "      <td>19</td>\n",
              "    </tr>\n",
              "  </tbody>\n",
              "</table>\n",
              "<p>3300 rows × 2 columns</p>\n",
              "</div>"
            ],
            "text/plain": [
              "       filename  label\n",
              "0     26100.png     36\n",
              "1     26103.png     36\n",
              "2     26104.png     36\n",
              "3     26107.png     36\n",
              "4     26111.png     36\n",
              "...         ...    ...\n",
              "3295   4457.png     19\n",
              "3296   4461.png     19\n",
              "3297   4472.png     19\n",
              "3298   4478.png     19\n",
              "3299   4482.png     19\n",
              "\n",
              "[3300 rows x 2 columns]"
            ]
          },
          "execution_count": 10,
          "metadata": {},
          "output_type": "execute_result"
        }
      ],
      "source": [
        "pd.read_csv(annotations_file_training)"
      ]
    },
    {
      "cell_type": "code",
      "execution_count": 14,
      "metadata": {},
      "outputs": [
        {
          "name": "stderr",
          "output_type": "stream",
          "text": [
            "/media/ashatya/Data/work/envs/torch/lib/python3.10/site-packages/torch/nn/modules/lazy.py:180: UserWarning: Lazy modules are a new feature under heavy development so changes to the API or functionality can happen at any moment.\n",
            "  warnings.warn('Lazy modules are a new feature under heavy development '\n"
          ]
        }
      ],
      "source": [
        "num_inputs = 1\n",
        "num_outputs = 44\n",
        "controller_size = 3136 #1024\n",
        "controller_layers = 1\n",
        "num_heads = 4\n",
        "N, M = 10, 10\n",
        "\n",
        "# data_csv_path = \"data/atoms_4300.csv\"\n",
        "\n",
        "# img_dir = \"data/atoms_4300\"\n",
        "\n",
        "batch_size = 2 #220\n",
        "\n",
        "# defining the network\n",
        "net = EncapsulatedNTM(\n",
        "    num_inputs,\n",
        "    num_outputs,\n",
        "    controller_size,\n",
        "    controller_layers,\n",
        "    num_heads,\n",
        "    N,\n",
        "    M\n",
        ")"
      ]
    },
    {
      "cell_type": "code",
      "execution_count": 16,
      "metadata": {},
      "outputs": [
        {
          "data": {
            "text/plain": [
              "EncapsulatedNTM(\n",
              "  (ntm): NTM(\n",
              "    (controller): FeedforwardController(\n",
              "      (model_): Sequential(\n",
              "        (0): ConvBlock((1, 32, (2, 2)))\n",
              "        (1): ConvBlock((32, 64, (2, 2)))\n",
              "      )\n",
              "      (flatten): Flatten(start_dim=1, end_dim=-1)\n",
              "    )\n",
              "    (memory): NTMMemory()\n",
              "    (heads): ModuleList(\n",
              "      (0): NTMReadHead(\n",
              "        (memory): NTMMemory()\n",
              "        (fc_read): Linear(in_features=3136, out_features=16, bias=True)\n",
              "      )\n",
              "      (1): NTMWriteHead(\n",
              "        (memory): NTMMemory()\n",
              "        (fc_write): Linear(in_features=3136, out_features=36, bias=True)\n",
              "      )\n",
              "      (2): NTMReadHead(\n",
              "        (memory): NTMMemory()\n",
              "        (fc_read): Linear(in_features=3136, out_features=16, bias=True)\n",
              "      )\n",
              "      (3): NTMWriteHead(\n",
              "        (memory): NTMMemory()\n",
              "        (fc_write): Linear(in_features=3136, out_features=36, bias=True)\n",
              "      )\n",
              "      (4): NTMReadHead(\n",
              "        (memory): NTMMemory()\n",
              "        (fc_read): Linear(in_features=3136, out_features=16, bias=True)\n",
              "      )\n",
              "      (5): NTMWriteHead(\n",
              "        (memory): NTMMemory()\n",
              "        (fc_write): Linear(in_features=3136, out_features=36, bias=True)\n",
              "      )\n",
              "      (6): NTMReadHead(\n",
              "        (memory): NTMMemory()\n",
              "        (fc_read): Linear(in_features=3136, out_features=16, bias=True)\n",
              "      )\n",
              "      (7): NTMWriteHead(\n",
              "        (memory): NTMMemory()\n",
              "        (fc_write): Linear(in_features=3136, out_features=36, bias=True)\n",
              "      )\n",
              "    )\n",
              "    (fc): LazyLinear(in_features=0, out_features=44, bias=True)\n",
              "  )\n",
              "  (memory): NTMMemory()\n",
              ")"
            ]
          },
          "execution_count": 16,
          "metadata": {},
          "output_type": "execute_result"
        }
      ],
      "source": [
        "device_ = torch.device(\"cuda:0\" if torch.cuda.is_available() else \"cpu\")\n",
        "\n",
        "net.to(device_)"
      ]
    },
    {
      "cell_type": "code",
      "execution_count": 18,
      "metadata": {},
      "outputs": [],
      "source": [
        "# loss\n",
        "loss_fn = torch.nn.BCELoss()\n",
        "\n",
        "# optimizer\n",
        "optimizer = torch.optim.Adam(net.parameters())\n",
        "\n",
        "# metric\n",
        "# metric = AveragePrecision(task=\"multiclass\", num_classes=num_outputs)\n",
        "metric = MulticlassAccuracy(num_classes=44)"
      ]
    },
    {
      "cell_type": "code",
      "execution_count": 19,
      "metadata": {},
      "outputs": [
        {
          "name": "stdout",
          "output_type": "stream",
          "text": [
            "Epoch 0\n"
          ]
        },
        {
          "name": "stderr",
          "output_type": "stream",
          "text": [
            "/media/ashatya/Data/work/self/thesis/humanlike-ocr/ntm/ntm.py:102: UserWarning: Implicit dimension choice for softmax has been deprecated. Change the call to include dim=X as an argument.\n",
            "  return F.softmax(o), self.state\n"
          ]
        },
        {
          "name": "stdout",
          "output_type": "stream",
          "text": [
            "epoch 0, loss 0.009, train acc 0.286\n",
            "Loss train 0.009,  validation 0.278,  val acc 0.055\n",
            "Epoch 1\n",
            "epoch 1, loss 0.002, train acc 0.312\n",
            "Loss train 0.002,  validation 0.264,  val acc 0.070\n",
            "Epoch 2\n",
            "epoch 2, loss 0.000, train acc 0.409\n",
            "Loss train 0.000,  validation 0.258,  val acc 0.077\n",
            "Epoch 3\n",
            "epoch 3, loss 0.026, train acc 0.451\n",
            "Loss train 0.026,  validation 0.269,  val acc 0.102\n",
            "Epoch 4\n",
            "epoch 4, loss 0.001, train acc 0.397\n",
            "Loss train 0.001,  validation 0.235,  val acc 0.135\n",
            "Epoch 5\n",
            "epoch 5, loss 0.000, train acc 0.406\n",
            "Loss train 0.000,  validation 0.253,  val acc 0.142\n",
            "Epoch 6\n",
            "epoch 6, loss 0.000, train acc 0.459\n",
            "Loss train 0.000,  validation 0.301,  val acc 0.131\n",
            "Epoch 7\n",
            "epoch 7, loss 0.000, train acc 0.440\n",
            "Loss train 0.000,  validation 0.311,  val acc 0.145\n",
            "Epoch 8\n",
            "epoch 8, loss 2.535, train acc 0.273\n",
            "Loss train 2.535,  validation 2.708,  val acc 0.038\n",
            "Epoch 9\n",
            "epoch 9, loss 4.545, train acc 0.023\n",
            "Loss train 4.545,  validation 4.401,  val acc 0.023\n",
            "Epoch 10\n",
            "epoch 10, loss 4.545, train acc 0.023\n",
            "Loss train 4.545,  validation 4.402,  val acc 0.023\n",
            "Epoch 11\n",
            "epoch 11, loss 4.545, train acc 0.023\n",
            "Loss train 4.545,  validation 4.400,  val acc 0.023\n",
            "Epoch 12\n",
            "epoch 12, loss 4.545, train acc 0.023\n",
            "Loss train 4.545,  validation 4.399,  val acc 0.023\n",
            "Epoch 13\n",
            "epoch 13, loss 4.545, train acc 0.023\n",
            "Loss train 4.545,  validation 4.402,  val acc 0.023\n",
            "Epoch 14\n",
            "epoch 14, loss 4.545, train acc 0.023\n",
            "Loss train 4.545,  validation 4.401,  val acc 0.023\n",
            "Epoch 15\n",
            "epoch 15, loss 4.545, train acc 0.023\n",
            "Loss train 4.545,  validation 4.399,  val acc 0.023\n",
            "Epoch 16\n",
            "epoch 16, loss 4.545, train acc 0.023\n",
            "Loss train 4.545,  validation 4.399,  val acc 0.023\n",
            "Epoch 17\n",
            "epoch 17, loss 4.545, train acc 0.023\n",
            "Loss train 4.545,  validation 4.400,  val acc 0.023\n",
            "Epoch 18\n",
            "epoch 18, loss 4.545, train acc 0.023\n",
            "Loss train 4.545,  validation 4.401,  val acc 0.023\n",
            "Epoch 19\n",
            "epoch 19, loss 4.545, train acc 0.023\n",
            "Loss train 4.545,  validation 4.401,  val acc 0.023\n",
            "Epoch 20\n",
            "epoch 20, loss 4.545, train acc 0.023\n",
            "Loss train 4.545,  validation 4.403,  val acc 0.023\n",
            "Epoch 21\n",
            "epoch 21, loss 4.545, train acc 0.023\n",
            "Loss train 4.545,  validation 4.403,  val acc 0.023\n",
            "Epoch 22\n",
            "epoch 22, loss 4.545, train acc 0.023\n",
            "Loss train 4.545,  validation 4.403,  val acc 0.023\n",
            "Epoch 23\n",
            "epoch 23, loss 4.545, train acc 0.023\n",
            "Loss train 4.545,  validation 4.400,  val acc 0.023\n",
            "Epoch 24\n",
            "epoch 24, loss 4.545, train acc 0.023\n",
            "Loss train 4.545,  validation 4.401,  val acc 0.023\n",
            "Epoch 25\n",
            "epoch 25, loss 4.545, train acc 0.023\n",
            "Loss train 4.545,  validation 4.401,  val acc 0.023\n",
            "Epoch 26\n",
            "epoch 26, loss 4.545, train acc 0.023\n",
            "Loss train 4.545,  validation 4.401,  val acc 0.023\n",
            "Epoch 27\n",
            "epoch 27, loss 4.545, train acc 0.023\n",
            "Loss train 4.545,  validation 4.400,  val acc 0.023\n",
            "Epoch 28\n",
            "epoch 28, loss 4.545, train acc 0.003\n",
            "Loss train 4.545,  validation 4.408,  val acc 0.023\n",
            "Epoch 29\n",
            "epoch 29, loss 4.545, train acc 0.023\n",
            "Loss train 4.545,  validation 4.408,  val acc 0.023\n",
            "Epoch 30\n",
            "epoch 30, loss 4.545, train acc 0.023\n",
            "Loss train 4.545,  validation 4.408,  val acc 0.023\n",
            "Epoch 31\n",
            "epoch 31, loss 4.545, train acc 0.023\n",
            "Loss train 4.545,  validation 4.408,  val acc 0.023\n",
            "Epoch 32\n",
            "epoch 32, loss 4.545, train acc 0.023\n",
            "Loss train 4.545,  validation 4.408,  val acc 0.023\n",
            "Epoch 33\n",
            "epoch 33, loss 4.545, train acc 0.023\n",
            "Loss train 4.545,  validation 4.408,  val acc 0.023\n",
            "Epoch 34\n",
            "epoch 34, loss 4.545, train acc 0.023\n",
            "Loss train 4.545,  validation 4.408,  val acc 0.023\n",
            "Epoch 35\n",
            "epoch 35, loss 4.545, train acc 0.023\n",
            "Loss train 4.545,  validation 4.408,  val acc 0.023\n",
            "Epoch 36\n"
          ]
        },
        {
          "ename": "KeyboardInterrupt",
          "evalue": "",
          "output_type": "error",
          "traceback": [
            "\u001b[0;31m---------------------------------------------------------------------------\u001b[0m",
            "\u001b[0;31mKeyboardInterrupt\u001b[0m                         Traceback (most recent call last)",
            "Cell \u001b[0;32mIn[19], line 24\u001b[0m\n\u001b[1;32m     21\u001b[0m net\u001b[39m.\u001b[39minit_sequence(batch_size)\n\u001b[1;32m     23\u001b[0m training \u001b[39m=\u001b[39m \u001b[39mTrue\u001b[39;00m\n\u001b[0;32m---> 24\u001b[0m outputs, _ \u001b[39m=\u001b[39m net(inputs)\n\u001b[1;32m     25\u001b[0m avg_loss \u001b[39m=\u001b[39m loss_fn(outputs, labels)\n\u001b[1;32m     27\u001b[0m list_outputs\u001b[39m.\u001b[39mappend(outputs)\n",
            "File \u001b[0;32m/media/ashatya/Data/work/envs/torch/lib/python3.10/site-packages/torch/nn/modules/module.py:1194\u001b[0m, in \u001b[0;36mModule._call_impl\u001b[0;34m(self, *input, **kwargs)\u001b[0m\n\u001b[1;32m   1190\u001b[0m \u001b[39m# If we don't have any hooks, we want to skip the rest of the logic in\u001b[39;00m\n\u001b[1;32m   1191\u001b[0m \u001b[39m# this function, and just call forward.\u001b[39;00m\n\u001b[1;32m   1192\u001b[0m \u001b[39mif\u001b[39;00m \u001b[39mnot\u001b[39;00m (\u001b[39mself\u001b[39m\u001b[39m.\u001b[39m_backward_hooks \u001b[39mor\u001b[39;00m \u001b[39mself\u001b[39m\u001b[39m.\u001b[39m_forward_hooks \u001b[39mor\u001b[39;00m \u001b[39mself\u001b[39m\u001b[39m.\u001b[39m_forward_pre_hooks \u001b[39mor\u001b[39;00m _global_backward_hooks\n\u001b[1;32m   1193\u001b[0m         \u001b[39mor\u001b[39;00m _global_forward_hooks \u001b[39mor\u001b[39;00m _global_forward_pre_hooks):\n\u001b[0;32m-> 1194\u001b[0m     \u001b[39mreturn\u001b[39;00m forward_call(\u001b[39m*\u001b[39;49m\u001b[39minput\u001b[39;49m, \u001b[39m*\u001b[39;49m\u001b[39m*\u001b[39;49mkwargs)\n\u001b[1;32m   1195\u001b[0m \u001b[39m# Do not call functions when jit is used\u001b[39;00m\n\u001b[1;32m   1196\u001b[0m full_backward_hooks, non_full_backward_hooks \u001b[39m=\u001b[39m [], []\n",
            "File \u001b[0;32m/media/ashatya/Data/work/self/thesis/humanlike-ocr/ntm/encapsulated.py:51\u001b[0m, in \u001b[0;36mEncapsulatedNTM.forward\u001b[0;34m(self, x)\u001b[0m\n\u001b[1;32m     49\u001b[0m     x \u001b[39m=\u001b[39m torch\u001b[39m.\u001b[39mzeros(\u001b[39mself\u001b[39m\u001b[39m.\u001b[39mbatch_size, \u001b[39mself\u001b[39m\u001b[39m.\u001b[39mnum_inputs, dtype\u001b[39m=\u001b[39mtorch\u001b[39m.\u001b[39mfloat32)\n\u001b[1;32m     50\u001b[0m x \u001b[39m=\u001b[39m x\u001b[39m.\u001b[39mtype(torch\u001b[39m.\u001b[39mfloat)\n\u001b[0;32m---> 51\u001b[0m o, \u001b[39mself\u001b[39m\u001b[39m.\u001b[39mprevious_state \u001b[39m=\u001b[39m \u001b[39mself\u001b[39;49m\u001b[39m.\u001b[39;49mntm(x, \u001b[39mself\u001b[39;49m\u001b[39m.\u001b[39;49mprevious_state)\n\u001b[1;32m     52\u001b[0m \u001b[39mreturn\u001b[39;00m o, \u001b[39mself\u001b[39m\u001b[39m.\u001b[39mprevious_state\n",
            "File \u001b[0;32m/media/ashatya/Data/work/envs/torch/lib/python3.10/site-packages/torch/nn/modules/module.py:1194\u001b[0m, in \u001b[0;36mModule._call_impl\u001b[0;34m(self, *input, **kwargs)\u001b[0m\n\u001b[1;32m   1190\u001b[0m \u001b[39m# If we don't have any hooks, we want to skip the rest of the logic in\u001b[39;00m\n\u001b[1;32m   1191\u001b[0m \u001b[39m# this function, and just call forward.\u001b[39;00m\n\u001b[1;32m   1192\u001b[0m \u001b[39mif\u001b[39;00m \u001b[39mnot\u001b[39;00m (\u001b[39mself\u001b[39m\u001b[39m.\u001b[39m_backward_hooks \u001b[39mor\u001b[39;00m \u001b[39mself\u001b[39m\u001b[39m.\u001b[39m_forward_hooks \u001b[39mor\u001b[39;00m \u001b[39mself\u001b[39m\u001b[39m.\u001b[39m_forward_pre_hooks \u001b[39mor\u001b[39;00m _global_backward_hooks\n\u001b[1;32m   1193\u001b[0m         \u001b[39mor\u001b[39;00m _global_forward_hooks \u001b[39mor\u001b[39;00m _global_forward_pre_hooks):\n\u001b[0;32m-> 1194\u001b[0m     \u001b[39mreturn\u001b[39;00m forward_call(\u001b[39m*\u001b[39;49m\u001b[39minput\u001b[39;49m, \u001b[39m*\u001b[39;49m\u001b[39m*\u001b[39;49mkwargs)\n\u001b[1;32m   1195\u001b[0m \u001b[39m# Do not call functions when jit is used\u001b[39;00m\n\u001b[1;32m   1196\u001b[0m full_backward_hooks, non_full_backward_hooks \u001b[39m=\u001b[39m [], []\n",
            "File \u001b[0;32m/media/ashatya/Data/work/self/thesis/humanlike-ocr/ntm/ntm.py:91\u001b[0m, in \u001b[0;36mNTM.forward\u001b[0;34m(self, x, prev_state, training)\u001b[0m\n\u001b[1;32m     89\u001b[0m         reads \u001b[39m+\u001b[39m\u001b[39m=\u001b[39m [r]\n\u001b[1;32m     90\u001b[0m     \u001b[39melse\u001b[39;00m:\n\u001b[0;32m---> 91\u001b[0m         head_state \u001b[39m=\u001b[39m head(controller_outp, prev_head_state)\n\u001b[1;32m     92\u001b[0m     heads_states \u001b[39m+\u001b[39m\u001b[39m=\u001b[39m [head_state]\n\u001b[1;32m     94\u001b[0m \u001b[39m# Generate Output \u001b[39;00m\n",
            "File \u001b[0;32m/media/ashatya/Data/work/envs/torch/lib/python3.10/site-packages/torch/nn/modules/module.py:1194\u001b[0m, in \u001b[0;36mModule._call_impl\u001b[0;34m(self, *input, **kwargs)\u001b[0m\n\u001b[1;32m   1190\u001b[0m \u001b[39m# If we don't have any hooks, we want to skip the rest of the logic in\u001b[39;00m\n\u001b[1;32m   1191\u001b[0m \u001b[39m# this function, and just call forward.\u001b[39;00m\n\u001b[1;32m   1192\u001b[0m \u001b[39mif\u001b[39;00m \u001b[39mnot\u001b[39;00m (\u001b[39mself\u001b[39m\u001b[39m.\u001b[39m_backward_hooks \u001b[39mor\u001b[39;00m \u001b[39mself\u001b[39m\u001b[39m.\u001b[39m_forward_hooks \u001b[39mor\u001b[39;00m \u001b[39mself\u001b[39m\u001b[39m.\u001b[39m_forward_pre_hooks \u001b[39mor\u001b[39;00m _global_backward_hooks\n\u001b[1;32m   1193\u001b[0m         \u001b[39mor\u001b[39;00m _global_forward_hooks \u001b[39mor\u001b[39;00m _global_forward_pre_hooks):\n\u001b[0;32m-> 1194\u001b[0m     \u001b[39mreturn\u001b[39;00m forward_call(\u001b[39m*\u001b[39;49m\u001b[39minput\u001b[39;49m, \u001b[39m*\u001b[39;49m\u001b[39m*\u001b[39;49mkwargs)\n\u001b[1;32m   1195\u001b[0m \u001b[39m# Do not call functions when jit is used\u001b[39;00m\n\u001b[1;32m   1196\u001b[0m full_backward_hooks, non_full_backward_hooks \u001b[39m=\u001b[39m [], []\n",
            "File \u001b[0;32m/media/ashatya/Data/work/self/thesis/humanlike-ocr/ntm/head.py:126\u001b[0m, in \u001b[0;36mNTMWriteHead.forward\u001b[0;34m(self, embeddings, w_prev)\u001b[0m\n\u001b[1;32m    124\u001b[0m \u001b[39m# write to memory\u001b[39;00m\n\u001b[1;32m    125\u001b[0m w \u001b[39m=\u001b[39m \u001b[39mself\u001b[39m\u001b[39m.\u001b[39m_address_memory(k, beta, g, s, gamma, w_prev)\n\u001b[0;32m--> 126\u001b[0m \u001b[39mself\u001b[39;49m\u001b[39m.\u001b[39;49mmemory\u001b[39m.\u001b[39;49mwrite(w, e, a)\n\u001b[1;32m    128\u001b[0m \u001b[39mreturn\u001b[39;00m w\n",
            "File \u001b[0;32m/media/ashatya/Data/work/self/thesis/humanlike-ocr/ntm/memory.py:58\u001b[0m, in \u001b[0;36mNTMMemory.write\u001b[0;34m(self, w, e, a)\u001b[0m\n\u001b[1;32m     56\u001b[0m \u001b[39mself\u001b[39m\u001b[39m.\u001b[39mmemory \u001b[39m=\u001b[39m torch\u001b[39m.\u001b[39mTensor(\u001b[39mself\u001b[39m\u001b[39m.\u001b[39mbatch_size, \u001b[39mself\u001b[39m\u001b[39m.\u001b[39mN, \u001b[39mself\u001b[39m\u001b[39m.\u001b[39mM)\n\u001b[1;32m     57\u001b[0m erase \u001b[39m=\u001b[39m torch\u001b[39m.\u001b[39mmatmul(w\u001b[39m.\u001b[39munsqueeze(\u001b[39m-\u001b[39m\u001b[39m1\u001b[39m), e\u001b[39m.\u001b[39munsqueeze(\u001b[39m1\u001b[39m))\n\u001b[0;32m---> 58\u001b[0m add \u001b[39m=\u001b[39m torch\u001b[39m.\u001b[39;49mmatmul(w\u001b[39m.\u001b[39;49munsqueeze(\u001b[39m-\u001b[39;49m\u001b[39m1\u001b[39;49m), a\u001b[39m.\u001b[39;49munsqueeze(\u001b[39m1\u001b[39;49m))\n\u001b[1;32m     59\u001b[0m \u001b[39mself\u001b[39m\u001b[39m.\u001b[39mmemory \u001b[39m=\u001b[39m \u001b[39mself\u001b[39m\u001b[39m.\u001b[39mprev_mem \u001b[39m*\u001b[39m (\u001b[39m1\u001b[39m\u001b[39m-\u001b[39merase) \u001b[39m+\u001b[39m add\n",
            "\u001b[0;31mKeyboardInterrupt\u001b[0m: "
          ]
        }
      ],
      "source": [
        "num_epochs = 50\n",
        "\n",
        "\n",
        "# training loop\n",
        "for epoch in range(num_epochs):\n",
        "    print(\"Epoch {}\".format(epoch))\n",
        "\n",
        "    last_loss = 0.0\n",
        "    list_outputs = []\n",
        "    list_labels = []\n",
        "    \n",
        "    net.train(True)\n",
        "    for i, data in enumerate(train_dataloader):\n",
        "        running_loss = 0.0\n",
        "        \n",
        "        inputs, labels = data[0].to(device_), data[1].to(device_)\n",
        "        # print(inputs.size())\n",
        "        labels = labels.type(torch.float)\n",
        "        optimizer.zero_grad()\n",
        "\n",
        "        net.init_sequence(batch_size)\n",
        "        \n",
        "        training = True\n",
        "        outputs, _ = net(inputs)\n",
        "        avg_loss = loss_fn(outputs, labels)\n",
        "\n",
        "        list_outputs.append(outputs)\n",
        "        list_labels.append(torch.argmax(labels, dim=1))\n",
        "        \n",
        "        # avg_prec = metric(outputs, torch.argmax(labels, dim=1))\n",
        "        # print(torch.argmax(outputs, dim=1), torch.argmax(labels, dim=1))\n",
        "        avg_loss.backward()\n",
        "\n",
        "        optimizer.step()\n",
        "\n",
        "        running_loss += avg_loss.item()\n",
        "        last_loss = running_loss\n",
        "        # last_avg_prec = avg_prec\n",
        "    outputs = torch.cat(list_outputs, dim=0)\n",
        "    labels = torch.cat(list_labels).squeeze()\n",
        "    acc = metric(outputs, labels)\n",
        "    print(\"epoch {}, loss {:.3f}, train acc {:.3f}\".format(epoch, last_loss, acc))\n",
        "    torch.save(net, \"model_new_hw_{}_{}.pt\".format(\"11-05-23\", epoch))\n",
        "    \n",
        "    # validation\n",
        "    list_outputs = []\n",
        "    list_labels = []\n",
        "    \n",
        "    with torch.no_grad():\n",
        "        running_vloss = 0.0\n",
        "        for i, data in enumerate(val_dataloader):\n",
        "            net.init_sequence(batch_size)\n",
        "\n",
        "            vinputs, vlabels = data[0].to(device_), data[1].to(device_)\n",
        "            vlabels = vlabels.type(torch.float)\n",
        "            voutputs, _ = net(vinputs)\n",
        "            list_outputs.append(voutputs)\n",
        "            list_labels.append(torch.argmax(vlabels, dim=1))\n",
        "            vloss = loss_fn(voutputs, vlabels)\n",
        "            running_vloss += vloss\n",
        "        \n",
        "        voutputs = torch.cat(list_outputs, dim=0)\n",
        "        vlabels = torch.cat(list_labels).squeeze()\n",
        "        vacc = metric(voutputs, vlabels)\n",
        "        avg_vloss = running_vloss / (i+1)\n",
        "        print(\"Loss train {:.3f},  validation {:.3f},  val acc {:.3f}\".format(avg_loss, avg_vloss, vacc))\n"
      ]
    },
    {
      "attachments": {},
      "cell_type": "markdown",
      "metadata": {},
      "source": [
        "# Pre training on printed, training again on Handwritten\n",
        "### Evaluating on both"
      ]
    },
    {
      "cell_type": "code",
      "execution_count": 20,
      "metadata": {},
      "outputs": [],
      "source": [
        "# Constants\n",
        "\n",
        "num_inputs = 1\n",
        "num_outputs = 44\n",
        "controller_size = 3136 #1024\n",
        "controller_layers = 1\n",
        "num_heads = 4\n",
        "N, M = 10, 10\n",
        "\n",
        "data_csv_path = \"data/atoms_4300.csv\"\n",
        "\n",
        "img_dir = \"data/atoms_4300\"\n",
        "\n",
        "batch_size = 2 #220"
      ]
    },
    {
      "cell_type": "code",
      "execution_count": 21,
      "metadata": {},
      "outputs": [
        {
          "name": "stderr",
          "output_type": "stream",
          "text": [
            "/media/ashatya/Data/work/envs/torch/lib/python3.10/site-packages/torch/nn/modules/lazy.py:180: UserWarning: Lazy modules are a new feature under heavy development so changes to the API or functionality can happen at any moment.\n",
            "  warnings.warn('Lazy modules are a new feature under heavy development '\n"
          ]
        }
      ],
      "source": [
        "# defining the network\n",
        "net = EncapsulatedNTM(\n",
        "    num_inputs,\n",
        "    num_outputs,\n",
        "    controller_size,\n",
        "    controller_layers,\n",
        "    num_heads,\n",
        "    N,\n",
        "    M\n",
        ")"
      ]
    },
    {
      "cell_type": "code",
      "execution_count": 22,
      "metadata": {},
      "outputs": [
        {
          "data": {
            "text/plain": [
              "EncapsulatedNTM(\n",
              "  (ntm): NTM(\n",
              "    (controller): FeedforwardController(\n",
              "      (model_): Sequential(\n",
              "        (0): ConvBlock((1, 32, (2, 2)))\n",
              "        (1): ConvBlock((32, 64, (2, 2)))\n",
              "      )\n",
              "      (flatten): Flatten(start_dim=1, end_dim=-1)\n",
              "    )\n",
              "    (memory): NTMMemory()\n",
              "    (heads): ModuleList(\n",
              "      (0): NTMReadHead(\n",
              "        (memory): NTMMemory()\n",
              "        (fc_read): Linear(in_features=3136, out_features=16, bias=True)\n",
              "      )\n",
              "      (1): NTMWriteHead(\n",
              "        (memory): NTMMemory()\n",
              "        (fc_write): Linear(in_features=3136, out_features=36, bias=True)\n",
              "      )\n",
              "      (2): NTMReadHead(\n",
              "        (memory): NTMMemory()\n",
              "        (fc_read): Linear(in_features=3136, out_features=16, bias=True)\n",
              "      )\n",
              "      (3): NTMWriteHead(\n",
              "        (memory): NTMMemory()\n",
              "        (fc_write): Linear(in_features=3136, out_features=36, bias=True)\n",
              "      )\n",
              "      (4): NTMReadHead(\n",
              "        (memory): NTMMemory()\n",
              "        (fc_read): Linear(in_features=3136, out_features=16, bias=True)\n",
              "      )\n",
              "      (5): NTMWriteHead(\n",
              "        (memory): NTMMemory()\n",
              "        (fc_write): Linear(in_features=3136, out_features=36, bias=True)\n",
              "      )\n",
              "      (6): NTMReadHead(\n",
              "        (memory): NTMMemory()\n",
              "        (fc_read): Linear(in_features=3136, out_features=16, bias=True)\n",
              "      )\n",
              "      (7): NTMWriteHead(\n",
              "        (memory): NTMMemory()\n",
              "        (fc_write): Linear(in_features=3136, out_features=36, bias=True)\n",
              "      )\n",
              "    )\n",
              "    (fc): LazyLinear(in_features=0, out_features=44, bias=True)\n",
              "  )\n",
              "  (memory): NTMMemory()\n",
              ")"
            ]
          },
          "execution_count": 22,
          "metadata": {},
          "output_type": "execute_result"
        }
      ],
      "source": [
        "device_ = torch.device(\"cuda:0\" if torch.cuda.is_available() else \"cpu\")\n",
        "net.to(device_)"
      ]
    },
    {
      "cell_type": "code",
      "execution_count": null,
      "metadata": {},
      "outputs": [],
      "source": []
    },
    {
      "cell_type": "code",
      "execution_count": 24,
      "metadata": {},
      "outputs": [],
      "source": [
        "\n",
        "class dataset(torch.utils.data.Dataset):\n",
        "    def __init__(self, annotations_file, img_dir):\n",
        "        self.images_csv = annotations_file.reset_index(drop=True) #pd.read_csv(annotations_file).reset_index(drop=True)\n",
        "        self.img_dir = img_dir\n",
        "        # self.transforms_ = tv.transforms.Compose([\n",
        "        #     tv.transforms.Resize(40),\n",
        "        #     # tv.transforms.CenterCrop(40),\n",
        "        #     tv.transforms.ConvertImageDtype(torch.float),\n",
        "        #     tv.transforms.Normalize(mean=[0.485, 0.456, 0.406], std=[0.229, 0.224, 0.225])\n",
        "        # ])\n",
        "        \n",
        "    def transforms_(self, image):\n",
        "        gray = cv2.cvtColor(image, cv2.COLOR_BGR2GRAY) if image.ndim == 3 else image\n",
        "        thresh = cv2.adaptiveThreshold(gray, 255, cv2.ADAPTIVE_THRESH_MEAN_C, cv2.THRESH_BINARY_INV, 21, 10)\n",
        "        # normed= cv2.normalize(thresh, None, 0, 1.0, cv2.NORM_MINMAX, dtype=cv2.CV_32F)\n",
        "        skeleton = cv2.ximgproc.thinning(thresh, None, 1)\n",
        "        image = cv2.resize(skeleton, (32, 32))\n",
        "        return image\n",
        "\n",
        "    def __len__(self):\n",
        "        return len(self.images_csv)\n",
        "\n",
        "    def __getitem__(self, index):\n",
        "        img_path = os.path.join(self.img_dir, self.images_csv.iloc[index, 0])\n",
        "        # image = tv.io.image.read_image(img_path)\n",
        "        image = cv2.imread(img_path, cv2.IMREAD_UNCHANGED)\n",
        "        image_ = self.transforms_(image) #.to(device_)\n",
        "        image = torch.from_numpy(image_)\n",
        "        label = self.images_csv.iloc[index, 1]\n",
        "        label = torch.nn.functional.one_hot(torch.tensor(label).to(torch.int64), num_classes=num_outputs)\n",
        "        return image.unsqueeze(0), label"
      ]
    },
    {
      "cell_type": "code",
      "execution_count": 28,
      "metadata": {},
      "outputs": [],
      "source": [
        "# loss\n",
        "loss_fn = torch.nn.BCELoss()\n",
        "\n",
        "# optimizer\n",
        "optimizer = torch.optim.Adam(net.parameters())\n",
        "\n",
        "# metric\n",
        "# metric = AveragePrecision(task=\"multiclass\", num_classes=num_outputs)\n",
        "# metric = MulticlassAccuracy(num_classes=44)\n",
        "metric = MulticlassF1Score(num_classes=44)"
      ]
    },
    {
      "cell_type": "code",
      "execution_count": 29,
      "metadata": {},
      "outputs": [
        {
          "name": "stdout",
          "output_type": "stream",
          "text": [
            "Epoch 0\n"
          ]
        },
        {
          "name": "stderr",
          "output_type": "stream",
          "text": [
            "/media/ashatya/Data/work/self/thesis/humanlike-ocr/ntm/ntm.py:102: UserWarning: Implicit dimension choice for softmax has been deprecated. Change the call to include dim=X as an argument.\n",
            "  return F.softmax(o), self.state\n"
          ]
        },
        {
          "name": "stdout",
          "output_type": "stream",
          "text": [
            "epoch 0, loss 1.050, train acc 0.303\n",
            "Loss train 1.050,  validation 0.586,  val acc 0.083\n",
            "Epoch 1\n",
            "epoch 1, loss 4.545, train acc 0.048\n",
            "Loss train 4.545,  validation 4.383,  val acc 0.001\n",
            "Epoch 2\n",
            "epoch 2, loss 4.545, train acc 0.001\n",
            "Loss train 4.545,  validation 4.383,  val acc 0.001\n",
            "Epoch 3\n",
            "epoch 3, loss 4.545, train acc 0.001\n",
            "Loss train 4.545,  validation 4.383,  val acc 0.001\n",
            "Epoch 4\n",
            "epoch 4, loss 4.545, train acc 0.001\n",
            "Loss train 4.545,  validation 4.382,  val acc 0.001\n",
            "Epoch 5\n",
            "epoch 5, loss 4.545, train acc 0.004\n",
            "Loss train 4.545,  validation 4.383,  val acc 0.001\n",
            "Epoch 6\n",
            "epoch 6, loss 4.545, train acc 0.006\n",
            "Loss train 4.545,  validation 4.373,  val acc 0.001\n",
            "Epoch 7\n",
            "epoch 7, loss 4.545, train acc 0.002\n",
            "Loss train 4.545,  validation 4.402,  val acc 0.001\n",
            "Epoch 8\n",
            "epoch 8, loss 4.545, train acc 0.001\n",
            "Loss train 4.545,  validation 4.402,  val acc 0.001\n",
            "Epoch 9\n",
            "epoch 9, loss 4.545, train acc 0.001\n",
            "Loss train 4.545,  validation 4.403,  val acc 0.001\n",
            "Epoch 10\n",
            "epoch 10, loss 4.545, train acc 0.001\n",
            "Loss train 4.545,  validation 4.403,  val acc 0.001\n",
            "Epoch 11\n",
            "epoch 11, loss 4.545, train acc 0.001\n",
            "Loss train 4.545,  validation 4.402,  val acc 0.001\n",
            "Epoch 12\n",
            "epoch 12, loss 4.545, train acc 0.001\n",
            "Loss train 4.545,  validation 4.402,  val acc 0.001\n",
            "Epoch 13\n",
            "epoch 13, loss 4.545, train acc 0.001\n",
            "Loss train 4.545,  validation 4.403,  val acc 0.001\n",
            "Epoch 14\n",
            "epoch 14, loss 4.545, train acc 0.001\n",
            "Loss train 4.545,  validation 4.403,  val acc 0.001\n",
            "Epoch 15\n",
            "epoch 15, loss 4.545, train acc 0.001\n",
            "Loss train 4.545,  validation 4.402,  val acc 0.001\n",
            "Epoch 16\n",
            "epoch 16, loss 4.545, train acc 0.001\n",
            "Loss train 4.545,  validation 4.401,  val acc 0.001\n",
            "Epoch 17\n",
            "epoch 17, loss 4.545, train acc 0.001\n",
            "Loss train 4.545,  validation 4.402,  val acc 0.001\n",
            "Epoch 18\n",
            "epoch 18, loss 4.545, train acc 0.001\n",
            "Loss train 4.545,  validation 4.400,  val acc 0.001\n",
            "Epoch 19\n",
            "epoch 19, loss 4.545, train acc 0.001\n",
            "Loss train 4.545,  validation 4.400,  val acc 0.001\n",
            "Epoch 20\n",
            "epoch 20, loss 4.545, train acc 0.001\n",
            "Loss train 4.545,  validation 4.401,  val acc 0.001\n",
            "Epoch 21\n",
            "epoch 21, loss 4.545, train acc 0.001\n",
            "Loss train 4.545,  validation 4.401,  val acc 0.001\n",
            "Epoch 22\n",
            "epoch 22, loss 4.545, train acc 0.001\n",
            "Loss train 4.545,  validation 4.400,  val acc 0.001\n",
            "Epoch 23\n",
            "epoch 23, loss 4.545, train acc 0.001\n",
            "Loss train 4.545,  validation 4.401,  val acc 0.001\n",
            "Epoch 24\n",
            "epoch 24, loss 4.545, train acc 0.001\n",
            "Loss train 4.545,  validation 4.401,  val acc 0.001\n",
            "Epoch 25\n",
            "epoch 25, loss 4.545, train acc 0.001\n",
            "Loss train 4.545,  validation 4.401,  val acc 0.001\n",
            "Epoch 26\n",
            "epoch 26, loss 4.545, train acc 0.001\n",
            "Loss train 4.545,  validation 4.402,  val acc 0.001\n",
            "Epoch 27\n",
            "epoch 27, loss 4.545, train acc 0.006\n",
            "Loss train 4.545,  validation 4.408,  val acc 0.001\n",
            "Epoch 28\n",
            "epoch 28, loss 4.545, train acc 0.001\n",
            "Loss train 4.545,  validation 4.408,  val acc 0.001\n",
            "Epoch 29\n",
            "epoch 29, loss 4.545, train acc 0.001\n",
            "Loss train 4.545,  validation 4.408,  val acc 0.001\n",
            "Epoch 30\n",
            "epoch 30, loss 4.545, train acc 0.001\n",
            "Loss train 4.545,  validation 4.408,  val acc 0.001\n",
            "Epoch 31\n",
            "epoch 31, loss 4.545, train acc 0.001\n",
            "Loss train 4.545,  validation 4.408,  val acc 0.001\n",
            "Epoch 32\n",
            "epoch 32, loss 4.545, train acc 0.001\n",
            "Loss train 4.545,  validation 4.408,  val acc 0.001\n",
            "Epoch 33\n",
            "epoch 33, loss 4.545, train acc 0.001\n",
            "Loss train 4.545,  validation 4.408,  val acc 0.001\n",
            "Epoch 34\n",
            "epoch 34, loss 4.545, train acc 0.001\n",
            "Loss train 4.545,  validation 4.408,  val acc 0.001\n",
            "Epoch 35\n",
            "epoch 35, loss 4.545, train acc 0.001\n",
            "Loss train 4.545,  validation 4.408,  val acc 0.001\n",
            "Epoch 36\n",
            "epoch 36, loss 4.545, train acc 0.001\n",
            "Loss train 4.545,  validation 4.408,  val acc 0.001\n",
            "Epoch 37\n",
            "epoch 37, loss 4.545, train acc 0.001\n",
            "Loss train 4.545,  validation 4.408,  val acc 0.001\n",
            "Epoch 38\n",
            "epoch 38, loss 4.545, train acc 0.001\n",
            "Loss train 4.545,  validation 4.408,  val acc 0.001\n",
            "Epoch 39\n",
            "epoch 39, loss 4.545, train acc 0.001\n",
            "Loss train 4.545,  validation 4.408,  val acc 0.001\n",
            "Epoch 40\n",
            "epoch 40, loss 4.545, train acc 0.001\n",
            "Loss train 4.545,  validation 4.408,  val acc 0.001\n",
            "Epoch 41\n",
            "epoch 41, loss 4.545, train acc 0.001\n",
            "Loss train 4.545,  validation 4.408,  val acc 0.001\n",
            "Epoch 42\n",
            "epoch 42, loss 4.545, train acc 0.001\n",
            "Loss train 4.545,  validation 4.408,  val acc 0.001\n",
            "Epoch 43\n",
            "epoch 43, loss 4.545, train acc 0.001\n",
            "Loss train 4.545,  validation 4.408,  val acc 0.001\n",
            "Epoch 44\n",
            "epoch 44, loss 4.545, train acc 0.001\n",
            "Loss train 4.545,  validation 4.408,  val acc 0.001\n",
            "Epoch 45\n",
            "epoch 45, loss 4.545, train acc 0.001\n",
            "Loss train 4.545,  validation 4.408,  val acc 0.001\n",
            "Epoch 46\n",
            "epoch 46, loss 4.545, train acc 0.001\n",
            "Loss train 4.545,  validation 4.408,  val acc 0.001\n",
            "Epoch 47\n",
            "epoch 47, loss 4.545, train acc 0.001\n",
            "Loss train 4.545,  validation 4.408,  val acc 0.001\n",
            "Epoch 48\n",
            "epoch 48, loss 4.545, train acc 0.001\n",
            "Loss train 4.545,  validation 4.408,  val acc 0.001\n",
            "Epoch 49\n",
            "epoch 49, loss 4.545, train acc 0.001\n",
            "Loss train 4.545,  validation 4.408,  val acc 0.001\n"
          ]
        }
      ],
      "source": [
        "num_epochs = 50\n",
        "\n",
        "\n",
        "# training loop\n",
        "for epoch in range(num_epochs):\n",
        "    print(\"Epoch {}\".format(epoch))\n",
        "\n",
        "    last_loss = 0.0\n",
        "    list_outputs = []\n",
        "    list_labels = []\n",
        "    \n",
        "    net.train(True)\n",
        "    for i, data in enumerate(train_dataloader):\n",
        "        running_loss = 0.0\n",
        "        \n",
        "        inputs, labels = data[0].to(device_), data[1].to(device_)\n",
        "        # print(inputs.size())\n",
        "        labels = labels.type(torch.float)\n",
        "        optimizer.zero_grad()\n",
        "\n",
        "        net.init_sequence(batch_size)\n",
        "        \n",
        "        training = True\n",
        "        outputs, _ = net(inputs)\n",
        "        avg_loss = loss_fn(outputs, labels)\n",
        "\n",
        "        list_outputs.append(outputs)\n",
        "        list_labels.append(torch.argmax(labels, dim=1))\n",
        "        \n",
        "        # avg_prec = metric(outputs, torch.argmax(labels, dim=1))\n",
        "        # print(torch.argmax(outputs, dim=1), torch.argmax(labels, dim=1))\n",
        "        avg_loss.backward()\n",
        "\n",
        "        optimizer.step()\n",
        "\n",
        "        running_loss += avg_loss.item()\n",
        "        last_loss = running_loss\n",
        "        # last_avg_prec = avg_prec\n",
        "    outputs = torch.cat(list_outputs, dim=0)\n",
        "    labels = torch.cat(list_labels).squeeze()\n",
        "    acc = metric(outputs, labels)\n",
        "    print(\"epoch {}, loss {:.3f}, train acc {:.3f}\".format(epoch, last_loss, acc))\n",
        "    torch.save(net, \"model_new_hw_{}_{}.pt\".format(\"11-05-23\", epoch))\n",
        "    \n",
        "    # validation\n",
        "    list_outputs = []\n",
        "    list_labels = []\n",
        "    \n",
        "    with torch.no_grad():\n",
        "        running_vloss = 0.0\n",
        "        for i, data in enumerate(val_dataloader):\n",
        "            net.init_sequence(batch_size)\n",
        "\n",
        "            vinputs, vlabels = data[0].to(device_), data[1].to(device_)\n",
        "            vlabels = vlabels.type(torch.float)\n",
        "            voutputs, _ = net(vinputs)\n",
        "            list_outputs.append(voutputs)\n",
        "            list_labels.append(torch.argmax(vlabels, dim=1))\n",
        "            vloss = loss_fn(voutputs, vlabels)\n",
        "            running_vloss += vloss\n",
        "        \n",
        "        voutputs = torch.cat(list_outputs, dim=0)\n",
        "        vlabels = torch.cat(list_labels).squeeze()\n",
        "        vacc = metric(voutputs, vlabels)\n",
        "        avg_vloss = running_vloss / (i+1)\n",
        "        print(\"Loss train {:.3f},  validation {:.3f},  val acc {:.3f}\".format(avg_loss, avg_vloss, vacc))\n"
      ]
    },
    {
      "attachments": {},
      "cell_type": "markdown",
      "metadata": {},
      "source": [
        "## Training on top of the pretrained model"
      ]
    },
    {
      "cell_type": "code",
      "execution_count": 1,
      "metadata": {},
      "outputs": [],
      "source": [
        "import torch\n",
        "import config\n",
        "from dataset import dataset, dataloader\n",
        "from training_loop import training\n",
        "import pandas as pd"
      ]
    },
    {
      "cell_type": "code",
      "execution_count": 2,
      "metadata": {},
      "outputs": [],
      "source": [
        "# pretrained model Path\n",
        "pretrained_model_path = \"model_new_11-05-23_1.pt\"\n",
        "\n",
        "# loading the pretrained model \n",
        "pretrained_model = torch.load(pretrained_model_path)"
      ]
    },
    {
      "cell_type": "code",
      "execution_count": 3,
      "metadata": {},
      "outputs": [],
      "source": [
        "net = pretrained_model\n"
      ]
    },
    {
      "cell_type": "code",
      "execution_count": null,
      "metadata": {},
      "outputs": [],
      "source": []
    },
    {
      "cell_type": "code",
      "execution_count": 9,
      "metadata": {},
      "outputs": [],
      "source": [
        "# defining the dataset\n",
        "hw_train_dataset = dataset(pd.read_csv(config.annotation_hw_training), config.hw_img_train_dir)\n",
        "hw_val_dataset = dataset(pd.read_csv(config.annotation_hw_validation), config.hw_img_val_dir)\n",
        "\n",
        "# defining the dataloader\n",
        "hw_train_dataloader = torch.utils.data.DataLoader(hw_train_dataset, config.batch_size)\n",
        "hw_val_dataloader = torch.utils.data.DataLoader(hw_val_dataset, config.batch_size)\n"
      ]
    },
    {
      "cell_type": "code",
      "execution_count": 10,
      "metadata": {},
      "outputs": [
        {
          "name": "stdout",
          "output_type": "stream",
          "text": [
            "Epoch 0\n"
          ]
        },
        {
          "name": "stderr",
          "output_type": "stream",
          "text": [
            "/media/ashatya/Data/work/self/thesis/humanlike-ocr/ntm/ntm.py:102: UserWarning: Implicit dimension choice for softmax has been deprecated. Change the call to include dim=X as an argument.\n",
            "  return F.softmax(o), self.state\n"
          ]
        },
        {
          "name": "stdout",
          "output_type": "stream",
          "text": [
            "epoch 0, loss 0.239, train acc 0.011\n",
            "Loss train 0.239,  validation 0.234,  val acc 0.004\n",
            "Epoch 1\n",
            "epoch 1, loss 0.161, train acc 0.012\n",
            "Loss train 0.161,  validation 0.230,  val acc 0.005\n",
            "Epoch 2\n",
            "epoch 2, loss 0.174, train acc 0.012\n",
            "Loss train 0.174,  validation 0.231,  val acc 0.008\n",
            "Epoch 3\n",
            "epoch 3, loss 0.251, train acc 0.012\n",
            "Loss train 0.251,  validation 0.232,  val acc 0.006\n",
            "Epoch 4\n",
            "epoch 4, loss 0.190, train acc 0.014\n",
            "Loss train 0.190,  validation 0.233,  val acc 0.005\n",
            "Epoch 5\n",
            "epoch 5, loss 0.220, train acc 0.011\n",
            "Loss train 0.220,  validation 0.233,  val acc 0.010\n",
            "Epoch 6\n",
            "epoch 6, loss 0.207, train acc 0.013\n",
            "Loss train 0.207,  validation 0.234,  val acc 0.009\n",
            "Epoch 7\n"
          ]
        },
        {
          "ename": "KeyboardInterrupt",
          "evalue": "",
          "output_type": "error",
          "traceback": [
            "\u001b[0;31m---------------------------------------------------------------------------\u001b[0m",
            "\u001b[0;31mKeyboardInterrupt\u001b[0m                         Traceback (most recent call last)",
            "Cell \u001b[0;32mIn[10], line 3\u001b[0m\n\u001b[1;32m      1\u001b[0m \u001b[39m# beginning the training\u001b[39;00m\n\u001b[0;32m----> 3\u001b[0m training(\n\u001b[1;32m      4\u001b[0m     net, \n\u001b[1;32m      5\u001b[0m     config\u001b[39m.\u001b[39;49mnum_epochs, \n\u001b[1;32m      6\u001b[0m     config\u001b[39m.\u001b[39;49mbatch_size, \n\u001b[1;32m      7\u001b[0m     hw_train_dataloader, \n\u001b[1;32m      8\u001b[0m     hw_val_dataloader, \n\u001b[1;32m      9\u001b[0m     config\u001b[39m.\u001b[39;49moptimizer, \n\u001b[1;32m     10\u001b[0m     config\u001b[39m.\u001b[39;49mmetric, \n\u001b[1;32m     11\u001b[0m     config\u001b[39m.\u001b[39;49mloss_fn\n\u001b[1;32m     12\u001b[0m     )\n",
            "File \u001b[0;32m/media/ashatya/Data/work/self/thesis/humanlike-ocr/training_loop.py:35\u001b[0m, in \u001b[0;36mtraining\u001b[0;34m(net, num_epochs, batch_size, train_dataloader, val_dataloader, optimizer, metric, loss_fn)\u001b[0m\n\u001b[1;32m     31\u001b[0m list_labels\u001b[39m.\u001b[39mappend(torch\u001b[39m.\u001b[39margmax(labels, dim\u001b[39m=\u001b[39m\u001b[39m1\u001b[39m))\n\u001b[1;32m     33\u001b[0m \u001b[39m# avg_prec = metric(outputs, torch.argmax(labels, dim=1))\u001b[39;00m\n\u001b[1;32m     34\u001b[0m \u001b[39m# print(torch.argmax(outputs, dim=1), torch.argmax(labels, dim=1))\u001b[39;00m\n\u001b[0;32m---> 35\u001b[0m avg_loss\u001b[39m.\u001b[39;49mbackward()\n\u001b[1;32m     37\u001b[0m optimizer\u001b[39m.\u001b[39mstep()\n\u001b[1;32m     39\u001b[0m running_loss \u001b[39m+\u001b[39m\u001b[39m=\u001b[39m avg_loss\u001b[39m.\u001b[39mitem()\n",
            "File \u001b[0;32m/media/ashatya/Data/work/envs/torch/lib/python3.10/site-packages/torch/_tensor.py:488\u001b[0m, in \u001b[0;36mTensor.backward\u001b[0;34m(self, gradient, retain_graph, create_graph, inputs)\u001b[0m\n\u001b[1;32m    478\u001b[0m \u001b[39mif\u001b[39;00m has_torch_function_unary(\u001b[39mself\u001b[39m):\n\u001b[1;32m    479\u001b[0m     \u001b[39mreturn\u001b[39;00m handle_torch_function(\n\u001b[1;32m    480\u001b[0m         Tensor\u001b[39m.\u001b[39mbackward,\n\u001b[1;32m    481\u001b[0m         (\u001b[39mself\u001b[39m,),\n\u001b[0;32m   (...)\u001b[0m\n\u001b[1;32m    486\u001b[0m         inputs\u001b[39m=\u001b[39minputs,\n\u001b[1;32m    487\u001b[0m     )\n\u001b[0;32m--> 488\u001b[0m torch\u001b[39m.\u001b[39;49mautograd\u001b[39m.\u001b[39;49mbackward(\n\u001b[1;32m    489\u001b[0m     \u001b[39mself\u001b[39;49m, gradient, retain_graph, create_graph, inputs\u001b[39m=\u001b[39;49minputs\n\u001b[1;32m    490\u001b[0m )\n",
            "File \u001b[0;32m/media/ashatya/Data/work/envs/torch/lib/python3.10/site-packages/torch/autograd/__init__.py:197\u001b[0m, in \u001b[0;36mbackward\u001b[0;34m(tensors, grad_tensors, retain_graph, create_graph, grad_variables, inputs)\u001b[0m\n\u001b[1;32m    192\u001b[0m     retain_graph \u001b[39m=\u001b[39m create_graph\n\u001b[1;32m    194\u001b[0m \u001b[39m# The reason we repeat same the comment below is that\u001b[39;00m\n\u001b[1;32m    195\u001b[0m \u001b[39m# some Python versions print out the first line of a multi-line function\u001b[39;00m\n\u001b[1;32m    196\u001b[0m \u001b[39m# calls in the traceback and some print out the last line\u001b[39;00m\n\u001b[0;32m--> 197\u001b[0m Variable\u001b[39m.\u001b[39;49m_execution_engine\u001b[39m.\u001b[39;49mrun_backward(  \u001b[39m# Calls into the C++ engine to run the backward pass\u001b[39;49;00m\n\u001b[1;32m    198\u001b[0m     tensors, grad_tensors_, retain_graph, create_graph, inputs,\n\u001b[1;32m    199\u001b[0m     allow_unreachable\u001b[39m=\u001b[39;49m\u001b[39mTrue\u001b[39;49;00m, accumulate_grad\u001b[39m=\u001b[39;49m\u001b[39mTrue\u001b[39;49;00m)\n",
            "\u001b[0;31mKeyboardInterrupt\u001b[0m: "
          ]
        }
      ],
      "source": [
        "# beginning the training\n",
        "\n",
        "training(\n",
        "    net, \n",
        "    config.num_epochs, \n",
        "    config.batch_size, \n",
        "    hw_train_dataloader, \n",
        "    hw_val_dataloader, \n",
        "    config.optimizer, \n",
        "    config.metric, \n",
        "    config.loss_fn\n",
        "    )"
      ]
    },
    {
      "attachments": {},
      "cell_type": "markdown",
      "metadata": {},
      "source": [
        "## Increasing the capability of the model\n",
        "#### Then we will retry the same experiments"
      ]
    },
    {
      "cell_type": "code",
      "execution_count": 1,
      "metadata": {},
      "outputs": [],
      "source": [
        "from headers import *\n",
        "from config import configuration\n",
        "from dataset import dataset, dataloader\n",
        "from training_loop import training"
      ]
    },
    {
      "cell_type": "code",
      "execution_count": 2,
      "metadata": {},
      "outputs": [
        {
          "name": "stderr",
          "output_type": "stream",
          "text": [
            "/media/ashatya/Data/work/envs/torch/lib/python3.10/site-packages/torch/nn/modules/lazy.py:180: UserWarning: Lazy modules are a new feature under heavy development so changes to the API or functionality can happen at any moment.\n",
            "  warnings.warn('Lazy modules are a new feature under heavy development '\n"
          ]
        }
      ],
      "source": [
        "# initializing the configurations\n",
        "config = configuration()\n",
        "\n",
        "# initializing the constants\n",
        "config.constants(\n",
        "    N=50,\n",
        "    M=50\n",
        ")\n",
        "\n",
        "# initializing the loss, optimizer and metric\n",
        "loss_fn, optimizer, metric = config.loss_optimizer_metric()\n",
        "\n",
        "# initializing the net\n",
        "model = config.net()\n",
        "\n",
        "# getting the train paths\n",
        "annotations_train_csv_path, dir_train_path = config.paths(printed=False, train=True)\n",
        "\n",
        "# getting the validation paths\n",
        "annotations_val_csv_path, dir_val_path = config.paths(printed=False, train=False)"
      ]
    },
    {
      "attachments": {},
      "cell_type": "markdown",
      "metadata": {},
      "source": [
        "<i>The memory size increased to 50*50.</i>"
      ]
    },
    {
      "cell_type": "code",
      "execution_count": 3,
      "metadata": {},
      "outputs": [],
      "source": [
        "# preparing the dataset\n",
        "# train dataset\n",
        "train_dataset = dataset(annotations_train_csv_path, dir_train_path, config.num_classes)\n",
        "\n",
        "# train dataloader\n",
        "train_dataloader = dataloader(train_dataset, config.batch_size)\n",
        "\n",
        "# validation dataset\n",
        "val_dataset = dataset(annotations_val_csv_path, dir_val_path, config.num_classes)\n",
        "\n",
        "# validation dataloader\n",
        "val_dataloader = dataloader(val_dataset, config.batch_size)"
      ]
    },
    {
      "cell_type": "code",
      "execution_count": 4,
      "metadata": {},
      "outputs": [
        {
          "name": "stdout",
          "output_type": "stream",
          "text": [
            "Epoch 0\n"
          ]
        },
        {
          "name": "stderr",
          "output_type": "stream",
          "text": [
            "/media/ashatya/Data/work/self/thesis/humanlike-ocr/ntm/ntm.py:102: UserWarning: Implicit dimension choice for softmax has been deprecated. Change the call to include dim=X as an argument.\n",
            "  return F.softmax(o), self.state\n"
          ]
        },
        {
          "name": "stdout",
          "output_type": "stream",
          "text": [
            "epoch 0, loss 0.110, train acc 0.020\n",
            "Loss train 0.110,  validation 0.111,  val acc 0.011\n",
            "Epoch 1\n",
            "epoch 1, loss 0.110, train acc 0.016\n",
            "Loss train 0.110,  validation 0.111,  val acc 0.018\n",
            "Epoch 2\n",
            "epoch 2, loss 0.102, train acc 0.018\n",
            "Loss train 0.102,  validation 0.111,  val acc 0.015\n",
            "Epoch 3\n",
            "epoch 3, loss 0.108, train acc 0.015\n",
            "Loss train 0.108,  validation 0.111,  val acc 0.021\n",
            "Epoch 4\n",
            "epoch 4, loss 0.102, train acc 0.013\n",
            "Loss train 0.102,  validation 0.111,  val acc 0.014\n",
            "Epoch 5\n",
            "epoch 5, loss 0.112, train acc 0.016\n",
            "Loss train 0.112,  validation 0.111,  val acc 0.021\n",
            "Epoch 6\n",
            "epoch 6, loss 0.112, train acc 0.018\n",
            "Loss train 0.112,  validation 0.111,  val acc 0.020\n",
            "Epoch 7\n",
            "epoch 7, loss 0.105, train acc 0.019\n",
            "Loss train 0.105,  validation 0.111,  val acc 0.014\n",
            "Epoch 8\n",
            "epoch 8, loss 0.115, train acc 0.016\n",
            "Loss train 0.115,  validation 0.111,  val acc 0.016\n",
            "Epoch 9\n",
            "epoch 9, loss 0.112, train acc 0.017\n",
            "Loss train 0.112,  validation 0.111,  val acc 0.018\n",
            "Epoch 10\n",
            "epoch 10, loss 0.100, train acc 0.018\n",
            "Loss train 0.100,  validation 0.111,  val acc 0.022\n",
            "Epoch 11\n",
            "epoch 11, loss 0.102, train acc 0.020\n",
            "Loss train 0.102,  validation 0.111,  val acc 0.023\n",
            "Epoch 12\n",
            "epoch 12, loss 0.104, train acc 0.014\n",
            "Loss train 0.104,  validation 0.110,  val acc 0.014\n",
            "Epoch 13\n"
          ]
        }
      ],
      "source": [
        "# training loop\n",
        "training(\n",
        "    net=model,\n",
        "    num_epochs=config.num_epochs,\n",
        "    batch_size=config.batch_size,\n",
        "    train_dataloader=train_dataloader,\n",
        "    val_dataloader=val_dataloader,\n",
        "    optimizer=optimizer,\n",
        "    metric=metric,\n",
        "    loss_fn=loss_fn\n",
        ")"
      ]
    },
    {
      "cell_type": "code",
      "execution_count": null,
      "metadata": {},
      "outputs": [],
      "source": []
    },
    {
      "cell_type": "code",
      "execution_count": null,
      "metadata": {},
      "outputs": [],
      "source": []
    },
    {
      "cell_type": "code",
      "execution_count": 40,
      "metadata": {},
      "outputs": [],
      "source": [
        "img_ka_ = \"data/DevanagariHandwrittenCharacterDataset/Train/character_1_ka/1340.png\"\n",
        "img_ka_ = cv2.imread(img_ka_)\n",
        "img_ka = transforms_(img_ka_, False)"
      ]
    },
    {
      "cell_type": "code",
      "execution_count": 42,
      "metadata": {},
      "outputs": [
        {
          "data": {
            "text/plain": [
              "<matplotlib.image.AxesImage at 0x7fad6c123fd0>"
            ]
          },
          "execution_count": 42,
          "metadata": {},
          "output_type": "execute_result"
        },
        {
          "data": {
            "image/png": "[encoded data removed]",
            "text/plain": [
              "<Figure size 640x480 with 1 Axes>"
            ]
          },
          "metadata": {},
          "output_type": "display_data"
        }
      ],
      "source": [
        "plt.imshow(img_ka)"
      ]
    },
    {
      "cell_type": "code",
      "execution_count": 13,
      "metadata": {},
      "outputs": [
        {
          "data": {
            "text/plain": [
              "EncapsulatedNTM(\n",
              "  (ntm): NTM(\n",
              "    (controller): FeedforwardController(\n",
              "      (model_): Sequential(\n",
              "        (0): ConvBlock((1, 32, (2, 2)))\n",
              "        (1): ConvBlock((32, 64, (2, 2)))\n",
              "      )\n",
              "      (flatten): Flatten(start_dim=1, end_dim=-1)\n",
              "    )\n",
              "    (memory): NTMMemory()\n",
              "    (heads): ModuleList(\n",
              "      (0): NTMReadHead(\n",
              "        (memory): NTMMemory()\n",
              "        (fc_read): Linear(in_features=3136, out_features=16, bias=True)\n",
              "      )\n",
              "      (1): NTMWriteHead(\n",
              "        (memory): NTMMemory()\n",
              "        (fc_write): Linear(in_features=3136, out_features=36, bias=True)\n",
              "      )\n",
              "      (2): NTMReadHead(\n",
              "        (memory): NTMMemory()\n",
              "        (fc_read): Linear(in_features=3136, out_features=16, bias=True)\n",
              "      )\n",
              "      (3): NTMWriteHead(\n",
              "        (memory): NTMMemory()\n",
              "        (fc_write): Linear(in_features=3136, out_features=36, bias=True)\n",
              "      )\n",
              "      (4): NTMReadHead(\n",
              "        (memory): NTMMemory()\n",
              "        (fc_read): Linear(in_features=3136, out_features=16, bias=True)\n",
              "      )\n",
              "      (5): NTMWriteHead(\n",
              "        (memory): NTMMemory()\n",
              "        (fc_write): Linear(in_features=3136, out_features=36, bias=True)\n",
              "      )\n",
              "      (6): NTMReadHead(\n",
              "        (memory): NTMMemory()\n",
              "        (fc_read): Linear(in_features=3136, out_features=16, bias=True)\n",
              "      )\n",
              "      (7): NTMWriteHead(\n",
              "        (memory): NTMMemory()\n",
              "        (fc_write): Linear(in_features=3136, out_features=36, bias=True)\n",
              "      )\n",
              "    )\n",
              "    (fc): Linear(in_features=3176, out_features=44, bias=True)\n",
              "  )\n",
              "  (memory): NTMMemory()\n",
              ")"
            ]
          },
          "execution_count": 13,
          "metadata": {},
          "output_type": "execute_result"
        }
      ],
      "source": [
        "net"
      ]
    },
    {
      "cell_type": "code",
      "execution_count": 43,
      "metadata": {},
      "outputs": [
        {
          "name": "stderr",
          "output_type": "stream",
          "text": [
            "/media/ashatya/Data/work/envs/torch/lib/python3.10/site-packages/torch/nn/functional.py:1338: UserWarning: dropout2d: Received a 3D input to dropout2d and assuming that channel-wise 1D dropout behavior is desired - input is interpreted as shape (N, C, L), where C is the channel dim. This behavior will change in a future release to interpret the input as one without a batch dimension, i.e. shape (C, H, W). To maintain the 1D channel-wise dropout behavior, please switch to using dropout1d instead.\n",
            "  warnings.warn(\"dropout2d: Received a 3D input to dropout2d and assuming that channel-wise \"\n"
          ]
        },
        {
          "ename": "ValueError",
          "evalue": "expected 4D input (got 3D input)",
          "output_type": "error",
          "traceback": [
            "\u001b[0;31m---------------------------------------------------------------------------\u001b[0m",
            "\u001b[0;31mValueError\u001b[0m                                Traceback (most recent call last)",
            "Cell \u001b[0;32mIn[43], line 1\u001b[0m\n\u001b[0;32m----> 1\u001b[0m net(torch\u001b[39m.\u001b[39;49mfrom_numpy(img_ka)\u001b[39m.\u001b[39;49munsqueeze(\u001b[39m0\u001b[39;49m))\n",
            "File \u001b[0;32m/media/ashatya/Data/work/envs/torch/lib/python3.10/site-packages/torch/nn/modules/module.py:1194\u001b[0m, in \u001b[0;36mModule._call_impl\u001b[0;34m(self, *input, **kwargs)\u001b[0m\n\u001b[1;32m   1190\u001b[0m \u001b[39m# If we don't have any hooks, we want to skip the rest of the logic in\u001b[39;00m\n\u001b[1;32m   1191\u001b[0m \u001b[39m# this function, and just call forward.\u001b[39;00m\n\u001b[1;32m   1192\u001b[0m \u001b[39mif\u001b[39;00m \u001b[39mnot\u001b[39;00m (\u001b[39mself\u001b[39m\u001b[39m.\u001b[39m_backward_hooks \u001b[39mor\u001b[39;00m \u001b[39mself\u001b[39m\u001b[39m.\u001b[39m_forward_hooks \u001b[39mor\u001b[39;00m \u001b[39mself\u001b[39m\u001b[39m.\u001b[39m_forward_pre_hooks \u001b[39mor\u001b[39;00m _global_backward_hooks\n\u001b[1;32m   1193\u001b[0m         \u001b[39mor\u001b[39;00m _global_forward_hooks \u001b[39mor\u001b[39;00m _global_forward_pre_hooks):\n\u001b[0;32m-> 1194\u001b[0m     \u001b[39mreturn\u001b[39;00m forward_call(\u001b[39m*\u001b[39;49m\u001b[39minput\u001b[39;49m, \u001b[39m*\u001b[39;49m\u001b[39m*\u001b[39;49mkwargs)\n\u001b[1;32m   1195\u001b[0m \u001b[39m# Do not call functions when jit is used\u001b[39;00m\n\u001b[1;32m   1196\u001b[0m full_backward_hooks, non_full_backward_hooks \u001b[39m=\u001b[39m [], []\n",
            "File \u001b[0;32m/media/ashatya/Data/work/self/thesis/humanlike-ocr/ntm/encapsulated.py:51\u001b[0m, in \u001b[0;36mEncapsulatedNTM.forward\u001b[0;34m(self, x)\u001b[0m\n\u001b[1;32m     49\u001b[0m     x \u001b[39m=\u001b[39m torch\u001b[39m.\u001b[39mzeros(\u001b[39mself\u001b[39m\u001b[39m.\u001b[39mbatch_size, \u001b[39mself\u001b[39m\u001b[39m.\u001b[39mnum_inputs, dtype\u001b[39m=\u001b[39mtorch\u001b[39m.\u001b[39mfloat32)\n\u001b[1;32m     50\u001b[0m x \u001b[39m=\u001b[39m x\u001b[39m.\u001b[39mtype(torch\u001b[39m.\u001b[39mfloat)\n\u001b[0;32m---> 51\u001b[0m o, \u001b[39mself\u001b[39m\u001b[39m.\u001b[39mprevious_state \u001b[39m=\u001b[39m \u001b[39mself\u001b[39;49m\u001b[39m.\u001b[39;49mntm(x, \u001b[39mself\u001b[39;49m\u001b[39m.\u001b[39;49mprevious_state)\n\u001b[1;32m     52\u001b[0m \u001b[39mreturn\u001b[39;00m o, \u001b[39mself\u001b[39m\u001b[39m.\u001b[39mprevious_state\n",
            "File \u001b[0;32m/media/ashatya/Data/work/envs/torch/lib/python3.10/site-packages/torch/nn/modules/module.py:1194\u001b[0m, in \u001b[0;36mModule._call_impl\u001b[0;34m(self, *input, **kwargs)\u001b[0m\n\u001b[1;32m   1190\u001b[0m \u001b[39m# If we don't have any hooks, we want to skip the rest of the logic in\u001b[39;00m\n\u001b[1;32m   1191\u001b[0m \u001b[39m# this function, and just call forward.\u001b[39;00m\n\u001b[1;32m   1192\u001b[0m \u001b[39mif\u001b[39;00m \u001b[39mnot\u001b[39;00m (\u001b[39mself\u001b[39m\u001b[39m.\u001b[39m_backward_hooks \u001b[39mor\u001b[39;00m \u001b[39mself\u001b[39m\u001b[39m.\u001b[39m_forward_hooks \u001b[39mor\u001b[39;00m \u001b[39mself\u001b[39m\u001b[39m.\u001b[39m_forward_pre_hooks \u001b[39mor\u001b[39;00m _global_backward_hooks\n\u001b[1;32m   1193\u001b[0m         \u001b[39mor\u001b[39;00m _global_forward_hooks \u001b[39mor\u001b[39;00m _global_forward_pre_hooks):\n\u001b[0;32m-> 1194\u001b[0m     \u001b[39mreturn\u001b[39;00m forward_call(\u001b[39m*\u001b[39;49m\u001b[39minput\u001b[39;49m, \u001b[39m*\u001b[39;49m\u001b[39m*\u001b[39;49mkwargs)\n\u001b[1;32m   1195\u001b[0m \u001b[39m# Do not call functions when jit is used\u001b[39;00m\n\u001b[1;32m   1196\u001b[0m full_backward_hooks, non_full_backward_hooks \u001b[39m=\u001b[39m [], []\n",
            "File \u001b[0;32m/media/ashatya/Data/work/self/thesis/humanlike-ocr/ntm/ntm.py:81\u001b[0m, in \u001b[0;36mNTM.forward\u001b[0;34m(self, x, prev_state, training)\u001b[0m\n\u001b[1;32m     77\u001b[0m inp \u001b[39m=\u001b[39m x\n\u001b[1;32m     78\u001b[0m \u001b[39m# print(inp)\u001b[39;00m\n\u001b[1;32m     79\u001b[0m \u001b[39m# print(inp.size())\u001b[39;00m\n\u001b[1;32m     80\u001b[0m \u001b[39m# controller_outp, controller_state = self.controller(inp, prev_controller_state) # prev_controller_state = float32\u001b[39;00m\n\u001b[0;32m---> 81\u001b[0m controller_outp \u001b[39m=\u001b[39m \u001b[39mself\u001b[39;49m\u001b[39m.\u001b[39;49mcontroller(inp, training)\u001b[39m.\u001b[39msqueeze() \u001b[39m# this controller is FCN\u001b[39;00m\n\u001b[1;32m     82\u001b[0m \u001b[39m# print(controller_outp)\u001b[39;00m\n\u001b[1;32m     83\u001b[0m \u001b[39m# Read/Write from the list of heads\u001b[39;00m\n\u001b[1;32m     84\u001b[0m reads \u001b[39m=\u001b[39m []\n",
            "File \u001b[0;32m/media/ashatya/Data/work/envs/torch/lib/python3.10/site-packages/torch/nn/modules/module.py:1194\u001b[0m, in \u001b[0;36mModule._call_impl\u001b[0;34m(self, *input, **kwargs)\u001b[0m\n\u001b[1;32m   1190\u001b[0m \u001b[39m# If we don't have any hooks, we want to skip the rest of the logic in\u001b[39;00m\n\u001b[1;32m   1191\u001b[0m \u001b[39m# this function, and just call forward.\u001b[39;00m\n\u001b[1;32m   1192\u001b[0m \u001b[39mif\u001b[39;00m \u001b[39mnot\u001b[39;00m (\u001b[39mself\u001b[39m\u001b[39m.\u001b[39m_backward_hooks \u001b[39mor\u001b[39;00m \u001b[39mself\u001b[39m\u001b[39m.\u001b[39m_forward_hooks \u001b[39mor\u001b[39;00m \u001b[39mself\u001b[39m\u001b[39m.\u001b[39m_forward_pre_hooks \u001b[39mor\u001b[39;00m _global_backward_hooks\n\u001b[1;32m   1193\u001b[0m         \u001b[39mor\u001b[39;00m _global_forward_hooks \u001b[39mor\u001b[39;00m _global_forward_pre_hooks):\n\u001b[0;32m-> 1194\u001b[0m     \u001b[39mreturn\u001b[39;00m forward_call(\u001b[39m*\u001b[39;49m\u001b[39minput\u001b[39;49m, \u001b[39m*\u001b[39;49m\u001b[39m*\u001b[39;49mkwargs)\n\u001b[1;32m   1195\u001b[0m \u001b[39m# Do not call functions when jit is used\u001b[39;00m\n\u001b[1;32m   1196\u001b[0m full_backward_hooks, non_full_backward_hooks \u001b[39m=\u001b[39m [], []\n",
            "File \u001b[0;32m/media/ashatya/Data/work/self/thesis/humanlike-ocr/ntm/controller.py:155\u001b[0m, in \u001b[0;36mFeedforwardController.forward\u001b[0;34m(self, x, training)\u001b[0m\n\u001b[1;32m    141\u001b[0m \u001b[39mdef\u001b[39;00m \u001b[39mforward\u001b[39m(\u001b[39mself\u001b[39m, x, training:\u001b[39mbool\u001b[39m\u001b[39m=\u001b[39m\u001b[39mTrue\u001b[39;00m):\n\u001b[1;32m    142\u001b[0m     \u001b[39m# if x.ndim != 3:\u001b[39;00m\n\u001b[1;32m    143\u001b[0m     \u001b[39m#     x = x.unsqueeze(1)\u001b[39;00m\n\u001b[0;32m   (...)\u001b[0m\n\u001b[1;32m    152\u001b[0m     \u001b[39m# y = ConvBlock(32, 64)(x2)\u001b[39;00m\n\u001b[1;32m    153\u001b[0m     \u001b[39m# print(y.shape)\u001b[39;00m\n\u001b[0;32m--> 155\u001b[0m     y \u001b[39m=\u001b[39m \u001b[39mself\u001b[39;49m\u001b[39m.\u001b[39;49mmodel_(x)\n\u001b[1;32m    157\u001b[0m     \u001b[39m# outp = self.fc_(y)\u001b[39;00m\n\u001b[1;32m    158\u001b[0m     \u001b[39mreturn\u001b[39;00m \u001b[39mself\u001b[39m\u001b[39m.\u001b[39mflatten(y)\n",
            "File \u001b[0;32m/media/ashatya/Data/work/envs/torch/lib/python3.10/site-packages/torch/nn/modules/module.py:1194\u001b[0m, in \u001b[0;36mModule._call_impl\u001b[0;34m(self, *input, **kwargs)\u001b[0m\n\u001b[1;32m   1190\u001b[0m \u001b[39m# If we don't have any hooks, we want to skip the rest of the logic in\u001b[39;00m\n\u001b[1;32m   1191\u001b[0m \u001b[39m# this function, and just call forward.\u001b[39;00m\n\u001b[1;32m   1192\u001b[0m \u001b[39mif\u001b[39;00m \u001b[39mnot\u001b[39;00m (\u001b[39mself\u001b[39m\u001b[39m.\u001b[39m_backward_hooks \u001b[39mor\u001b[39;00m \u001b[39mself\u001b[39m\u001b[39m.\u001b[39m_forward_hooks \u001b[39mor\u001b[39;00m \u001b[39mself\u001b[39m\u001b[39m.\u001b[39m_forward_pre_hooks \u001b[39mor\u001b[39;00m _global_backward_hooks\n\u001b[1;32m   1193\u001b[0m         \u001b[39mor\u001b[39;00m _global_forward_hooks \u001b[39mor\u001b[39;00m _global_forward_pre_hooks):\n\u001b[0;32m-> 1194\u001b[0m     \u001b[39mreturn\u001b[39;00m forward_call(\u001b[39m*\u001b[39;49m\u001b[39minput\u001b[39;49m, \u001b[39m*\u001b[39;49m\u001b[39m*\u001b[39;49mkwargs)\n\u001b[1;32m   1195\u001b[0m \u001b[39m# Do not call functions when jit is used\u001b[39;00m\n\u001b[1;32m   1196\u001b[0m full_backward_hooks, non_full_backward_hooks \u001b[39m=\u001b[39m [], []\n",
            "File \u001b[0;32m/media/ashatya/Data/work/envs/torch/lib/python3.10/site-packages/torch/nn/modules/container.py:204\u001b[0m, in \u001b[0;36mSequential.forward\u001b[0;34m(self, input)\u001b[0m\n\u001b[1;32m    202\u001b[0m \u001b[39mdef\u001b[39;00m \u001b[39mforward\u001b[39m(\u001b[39mself\u001b[39m, \u001b[39minput\u001b[39m):\n\u001b[1;32m    203\u001b[0m     \u001b[39mfor\u001b[39;00m module \u001b[39min\u001b[39;00m \u001b[39mself\u001b[39m:\n\u001b[0;32m--> 204\u001b[0m         \u001b[39minput\u001b[39m \u001b[39m=\u001b[39m module(\u001b[39minput\u001b[39;49m)\n\u001b[1;32m    205\u001b[0m     \u001b[39mreturn\u001b[39;00m \u001b[39minput\u001b[39m\n",
            "File \u001b[0;32m/media/ashatya/Data/work/envs/torch/lib/python3.10/site-packages/torch/nn/modules/module.py:1194\u001b[0m, in \u001b[0;36mModule._call_impl\u001b[0;34m(self, *input, **kwargs)\u001b[0m\n\u001b[1;32m   1190\u001b[0m \u001b[39m# If we don't have any hooks, we want to skip the rest of the logic in\u001b[39;00m\n\u001b[1;32m   1191\u001b[0m \u001b[39m# this function, and just call forward.\u001b[39;00m\n\u001b[1;32m   1192\u001b[0m \u001b[39mif\u001b[39;00m \u001b[39mnot\u001b[39;00m (\u001b[39mself\u001b[39m\u001b[39m.\u001b[39m_backward_hooks \u001b[39mor\u001b[39;00m \u001b[39mself\u001b[39m\u001b[39m.\u001b[39m_forward_hooks \u001b[39mor\u001b[39;00m \u001b[39mself\u001b[39m\u001b[39m.\u001b[39m_forward_pre_hooks \u001b[39mor\u001b[39;00m _global_backward_hooks\n\u001b[1;32m   1193\u001b[0m         \u001b[39mor\u001b[39;00m _global_forward_hooks \u001b[39mor\u001b[39;00m _global_forward_pre_hooks):\n\u001b[0;32m-> 1194\u001b[0m     \u001b[39mreturn\u001b[39;00m forward_call(\u001b[39m*\u001b[39;49m\u001b[39minput\u001b[39;49m, \u001b[39m*\u001b[39;49m\u001b[39m*\u001b[39;49mkwargs)\n\u001b[1;32m   1195\u001b[0m \u001b[39m# Do not call functions when jit is used\u001b[39;00m\n\u001b[1;32m   1196\u001b[0m full_backward_hooks, non_full_backward_hooks \u001b[39m=\u001b[39m [], []\n",
            "File \u001b[0;32m/media/ashatya/Data/work/self/thesis/humanlike-ocr/ntm/controller.py:86\u001b[0m, in \u001b[0;36mConvBlock.forward\u001b[0;34m(self, x, training)\u001b[0m\n\u001b[1;32m     84\u001b[0m \u001b[39mif\u001b[39;00m training:\n\u001b[1;32m     85\u001b[0m     pooled \u001b[39m=\u001b[39m \u001b[39mself\u001b[39m\u001b[39m.\u001b[39mdropout(pooled)\n\u001b[0;32m---> 86\u001b[0m y \u001b[39m=\u001b[39m \u001b[39mself\u001b[39;49m\u001b[39m.\u001b[39;49mbatchnorm(pooled)\n\u001b[1;32m     87\u001b[0m \u001b[39mreturn\u001b[39;00m y\n",
            "File \u001b[0;32m/media/ashatya/Data/work/envs/torch/lib/python3.10/site-packages/torch/nn/modules/module.py:1194\u001b[0m, in \u001b[0;36mModule._call_impl\u001b[0;34m(self, *input, **kwargs)\u001b[0m\n\u001b[1;32m   1190\u001b[0m \u001b[39m# If we don't have any hooks, we want to skip the rest of the logic in\u001b[39;00m\n\u001b[1;32m   1191\u001b[0m \u001b[39m# this function, and just call forward.\u001b[39;00m\n\u001b[1;32m   1192\u001b[0m \u001b[39mif\u001b[39;00m \u001b[39mnot\u001b[39;00m (\u001b[39mself\u001b[39m\u001b[39m.\u001b[39m_backward_hooks \u001b[39mor\u001b[39;00m \u001b[39mself\u001b[39m\u001b[39m.\u001b[39m_forward_hooks \u001b[39mor\u001b[39;00m \u001b[39mself\u001b[39m\u001b[39m.\u001b[39m_forward_pre_hooks \u001b[39mor\u001b[39;00m _global_backward_hooks\n\u001b[1;32m   1193\u001b[0m         \u001b[39mor\u001b[39;00m _global_forward_hooks \u001b[39mor\u001b[39;00m _global_forward_pre_hooks):\n\u001b[0;32m-> 1194\u001b[0m     \u001b[39mreturn\u001b[39;00m forward_call(\u001b[39m*\u001b[39;49m\u001b[39minput\u001b[39;49m, \u001b[39m*\u001b[39;49m\u001b[39m*\u001b[39;49mkwargs)\n\u001b[1;32m   1195\u001b[0m \u001b[39m# Do not call functions when jit is used\u001b[39;00m\n\u001b[1;32m   1196\u001b[0m full_backward_hooks, non_full_backward_hooks \u001b[39m=\u001b[39m [], []\n",
            "File \u001b[0;32m/media/ashatya/Data/work/envs/torch/lib/python3.10/site-packages/torch/nn/modules/batchnorm.py:138\u001b[0m, in \u001b[0;36m_BatchNorm.forward\u001b[0;34m(self, input)\u001b[0m\n\u001b[1;32m    137\u001b[0m \u001b[39mdef\u001b[39;00m \u001b[39mforward\u001b[39m(\u001b[39mself\u001b[39m, \u001b[39minput\u001b[39m: Tensor) \u001b[39m-\u001b[39m\u001b[39m>\u001b[39m Tensor:\n\u001b[0;32m--> 138\u001b[0m     \u001b[39mself\u001b[39;49m\u001b[39m.\u001b[39;49m_check_input_dim(\u001b[39minput\u001b[39;49m)\n\u001b[1;32m    140\u001b[0m     \u001b[39m# exponential_average_factor is set to self.momentum\u001b[39;00m\n\u001b[1;32m    141\u001b[0m     \u001b[39m# (when it is available) only so that it gets updated\u001b[39;00m\n\u001b[1;32m    142\u001b[0m     \u001b[39m# in ONNX graph when this node is exported to ONNX.\u001b[39;00m\n\u001b[1;32m    143\u001b[0m     \u001b[39mif\u001b[39;00m \u001b[39mself\u001b[39m\u001b[39m.\u001b[39mmomentum \u001b[39mis\u001b[39;00m \u001b[39mNone\u001b[39;00m:\n",
            "File \u001b[0;32m/media/ashatya/Data/work/envs/torch/lib/python3.10/site-packages/torch/nn/modules/batchnorm.py:410\u001b[0m, in \u001b[0;36mBatchNorm2d._check_input_dim\u001b[0;34m(self, input)\u001b[0m\n\u001b[1;32m    408\u001b[0m \u001b[39mdef\u001b[39;00m \u001b[39m_check_input_dim\u001b[39m(\u001b[39mself\u001b[39m, \u001b[39minput\u001b[39m):\n\u001b[1;32m    409\u001b[0m     \u001b[39mif\u001b[39;00m \u001b[39minput\u001b[39m\u001b[39m.\u001b[39mdim() \u001b[39m!=\u001b[39m \u001b[39m4\u001b[39m:\n\u001b[0;32m--> 410\u001b[0m         \u001b[39mraise\u001b[39;00m \u001b[39mValueError\u001b[39;00m(\u001b[39m\"\u001b[39m\u001b[39mexpected 4D input (got \u001b[39m\u001b[39m{}\u001b[39;00m\u001b[39mD input)\u001b[39m\u001b[39m\"\u001b[39m\u001b[39m.\u001b[39mformat(\u001b[39minput\u001b[39m\u001b[39m.\u001b[39mdim()))\n",
            "\u001b[0;31mValueError\u001b[0m: expected 4D input (got 3D input)"
          ]
        }
      ],
      "source": [
        "tensor_ka = torch.from_numpy(img_ka).unsqueeze(0)\n",
        "net()"
      ]
    },
    {
      "cell_type": "code",
      "execution_count": null,
      "metadata": {},
      "outputs": [],
      "source": []
    },
    {
      "cell_type": "code",
      "execution_count": null,
      "metadata": {},
      "outputs": [],
      "source": []
    },
    {
      "attachments": {},
      "cell_type": "markdown",
      "metadata": {},
      "source": [
        "# Experimentation for Object detection "
      ]
    },
    {
      "cell_type": "code",
      "execution_count": 49,
      "metadata": {
        "id": "O8IutO9nx5jB"
      },
      "outputs": [
        {
          "data": {
            "text/plain": [
              "<matplotlib.image.AxesImage at 0x7fa345d8ae60>"
            ]
          },
          "execution_count": 49,
          "metadata": {},
          "output_type": "execute_result"
        },
        {
          "data": {
            "image/png": "[encoded data removed]",
            "text/plain": [
              "<Figure size 640x480 with 1 Axes>"
            ]
          },
          "metadata": {},
          "output_type": "display_data"
        }
      ],
      "source": [
        "devanagari_contours = []\n",
        "# for contour in cntrs:\n",
        "#     x, y, w, h = cv2.boundingRect(contour)\n",
        "#     aspect_ratio = w / float(h)\n",
        "#     area = cv2.contourArea(contour)\n",
        "#     if aspect_ratio > 0.5 and area > 100:\n",
        "#         devanagari_contours.append(contour)\n",
        "\n",
        "# Draw bounding boxes around the Devanagari characters\n",
        "for contour in cntrs:\n",
        "    # x, y, w, h = cv2.boundingRect(contour)\n",
        "    # cv2.rectangle(img_, (x, y), (x + w, y + h), (0, 0, 255), 1)\n",
        "    convexHull = cv2.convexHull(contour)\n",
        "    cv2.drawContours(img_, [convexHull], -1, (0, 255, 0), 1)\n",
        "plt.imshow(img_)"
      ]
    },
    {
      "cell_type": "code",
      "execution_count": 24,
      "metadata": {
        "id": "ZltI5pZtac1a"
      },
      "outputs": [
        {
          "data": {
            "text/plain": [
              "<matplotlib.image.AxesImage at 0x7fa345b21a80>"
            ]
          },
          "execution_count": 24,
          "metadata": {},
          "output_type": "execute_result"
        },
        {
          "data": {
            "image/png": "[encoded data removed]",
            "text/plain": [
              "<Figure size 640x480 with 1 Axes>"
            ]
          },
          "metadata": {},
          "output_type": "display_data"
        }
      ],
      "source": [
        "plt.imshow(img_2)"
      ]
    },
    {
      "cell_type": "code",
      "execution_count": null,
      "metadata": {},
      "outputs": [],
      "source": [
        "import sys\n",
        "from math import sin, cos, sqrt, pi\n",
        "import cv2\n",
        "# src = cv2.LoadImage('draw.jpg')\n",
        "# cv2.NamedWindow(\"Source\", 1)\n",
        "# cv2.NamedWindow(\"Result\", 1)\n",
        "# dst = cv.CreateImage(cv.GetSize(src), 8, 1)\n",
        "# color_dst = cv.CreateImage(cv.GetSize(src), 8, 3)\n",
        "# storage = cv.CreateMemStorage(0)\n",
        "lines = 0\n",
        "canny_ = cv2.Canny(img_,1.0, 4.0, aperture_size=3)\n",
        "cv2.CvtColor(canny_, color_dst, cv.CV_GRAY2BGR)\n",
        "lines = cv.HoughLines2(dst, storage, cv.CV_HOUGH_PROBABILISTIC, 1, pi / 180, 10, 0, 10)\n",
        "for line in lines:\n",
        "    cv.Line(color_dst, line[0], line[1], cv.CV_RGB(0, 255, 0), 2, 8)\n",
        "cornerMap = cv.CreateMat(dst.height, dst.width, cv.CV_32FC1)\n",
        "cv.CornerHarris(dst,cornerMap,3)\n",
        "for y in range(0,dst.height):\n",
        "    for x in range (0, dst.width):\n",
        "        harris = cv.Get2D(cornerMap, y, x)\n",
        "        if harris[0] >10e-06:\n",
        "            cv.Circle(color_dst, (x,y),2,cv.RGB(115,0,25))\n",
        "cv.ShowImage(\"Source\", src)\n",
        "cv.ShowImage(\"Hough\", color_dst)\n",
        "cv2.SaveImage(\"draw_det.png\", color_dst)\n",
        "cv2.WaitKey()"
      ]
    },
    {
      "cell_type": "code",
      "execution_count": 1,
      "metadata": {},
      "outputs": [
        {
          "ename": "ModuleNotFoundError",
          "evalue": "No module named 'cv2'",
          "output_type": "error",
          "traceback": [
            "\u001b[0;31m---------------------------------------------------------------------------\u001b[0m",
            "\u001b[0;31mModuleNotFoundError\u001b[0m                       Traceback (most recent call last)",
            "Cell \u001b[0;32mIn[1], line 1\u001b[0m\n\u001b[0;32m----> 1\u001b[0m \u001b[39mimport\u001b[39;00m \u001b[39mcv2\u001b[39;00m\n",
            "\u001b[0;31mModuleNotFoundError\u001b[0m: No module named 'cv2'"
          ]
        }
      ],
      "source": [
        "import cv2"
      ]
    },
    {
      "cell_type": "code",
      "execution_count": 8,
      "metadata": {},
      "outputs": [
        {
          "data": {
            "text/plain": [
              "<matplotlib.image.AxesImage at 0x7fad8c769570>"
            ]
          },
          "execution_count": 8,
          "metadata": {},
          "output_type": "execute_result"
        },
        {
          "data": {
            "image/png": "[encoded data removed]",
            "text/plain": [
              "<Figure size 640x480 with 1 Axes>"
            ]
          },
          "metadata": {},
          "output_type": "display_data"
        }
      ],
      "source": [
        "skeleton = cv2.ximgproc.thinning(img_2, None, 1)\n",
        "plt.imshow(skeleton)"
      ]
    },
    {
      "cell_type": "code",
      "execution_count": 9,
      "metadata": {},
      "outputs": [],
      "source": [
        "contours, _ = cv2.findContours(skeleton, cv2.RETR_EXTERNAL, cv2.CHAIN_APPROX_SIMPLE)\n",
        "for contour in contours:\n",
        "    convexHull = cv2.convexHull(contour)\n",
        "    cv2.drawContours(img_, [convexHull], -1, (255, 0, 0), 1)"
      ]
    },
    {
      "cell_type": "code",
      "execution_count": 10,
      "metadata": {},
      "outputs": [
        {
          "data": {
            "text/plain": [
              "<matplotlib.image.AxesImage at 0x7fad8c7d8eb0>"
            ]
          },
          "execution_count": 10,
          "metadata": {},
          "output_type": "execute_result"
        },
        {
          "data": {
            "image/png": "[encoded data removed]",
            "text/plain": [
              "<Figure size 640x480 with 1 Axes>"
            ]
          },
          "metadata": {},
          "output_type": "display_data"
        }
      ],
      "source": [
        "plt.imshow(img_)"
      ]
    },
    {
      "cell_type": "code",
      "execution_count": null,
      "metadata": {},
      "outputs": [],
      "source": []
    },
    {
      "attachments": {},
      "cell_type": "markdown",
      "metadata": {},
      "source": [
        "# Experimentations"
      ]
    },
    {
      "cell_type": "markdown",
      "metadata": {
        "id": "BFk-cMc8pvKY"
      },
      "source": [
        "## Training Resnet50 on atoms"
      ]
    },
    {
      "cell_type": "code",
      "execution_count": null,
      "metadata": {
        "id": "mMNl8DpDpu8X"
      },
      "outputs": [],
      "source": [
        "import torch\n",
        "import torch.nn as nn\n",
        "import torch.nn.functional as F\n",
        "from torchvision.models.resnet import resnet50"
      ]
    },
    {
      "cell_type": "code",
      "execution_count": null,
      "metadata": {
        "id": "js1L0XcTpu5l"
      },
      "outputs": [],
      "source": [
        "class Feature_Generator(nn.Module):\n",
        "    def __init__(self):\n",
        "        super().__init__()\n",
        "        self.backbone = resnet50(pretrained=True)\n",
        "        self.backbone = nn.Sequential(*list(self.backbone.children())[:-1])\n",
        "        dummy_out = self.backbone(torch.zeros(size=(3, 40, 40)).unsqueeze(0)).squeeze()\n",
        "        self.fc = nn.Linear(dummy_out.size()[1], 32)\n",
        "    def forward(self, x):\n",
        "        x_ = self.backbone(x).squeeze()\n",
        "        o = self.fc(x_)\n",
        "        return o\n"
      ]
    },
    {
      "cell_type": "code",
      "execution_count": 21,
      "metadata": {
        "id": "Z_G5Fh4-pu3J"
      },
      "outputs": [
        {
          "name": "stdout",
          "output_type": "stream",
          "text": [
            "Epoch 0\n",
            "batch 1650, loss 4.545, train avg prec 0.500\n",
            "Loss train 4.545,  validation 4.446,  val avg prec 0.500\n",
            "Epoch 1\n",
            "batch 1650, loss 4.545, train avg prec 0.500\n",
            "Loss train 4.545,  validation 4.446,  val avg prec 0.500\n",
            "Epoch 2\n",
            "batch 1650, loss 4.545, train avg prec 0.500\n",
            "Loss train 4.545,  validation 4.446,  val avg prec 0.500\n",
            "Epoch 3\n",
            "batch 1650, loss 4.545, train avg prec 0.500\n"
          ]
        },
        {
          "ename": "KeyboardInterrupt",
          "evalue": "",
          "output_type": "error",
          "traceback": [
            "\u001b[0;31m---------------------------------------------------------------------------\u001b[0m",
            "\u001b[0;31mKeyboardInterrupt\u001b[0m                         Traceback (most recent call last)",
            "Cell \u001b[0;32mIn[21], line 59\u001b[0m\n\u001b[1;32m     57\u001b[0m vlabels \u001b[39m=\u001b[39m vlabels\u001b[39m.\u001b[39mtype(torch\u001b[39m.\u001b[39mfloat)\n\u001b[1;32m     58\u001b[0m voutputs \u001b[39m=\u001b[39m model(vinputs)\n\u001b[0;32m---> 59\u001b[0m vavg_prec \u001b[39m=\u001b[39m metric(voutputs, torch\u001b[39m.\u001b[39;49margmax(vlabels, dim\u001b[39m=\u001b[39;49m\u001b[39m1\u001b[39;49m))\n\u001b[1;32m     60\u001b[0m vloss \u001b[39m=\u001b[39m loss_fn(voutputs, vlabels)\n\u001b[1;32m     61\u001b[0m running_vloss \u001b[39m+\u001b[39m\u001b[39m=\u001b[39m vloss\n",
            "File \u001b[0;32m/media/ashatya/Data/work/envs/torch/lib/python3.10/site-packages/torch/nn/modules/module.py:1194\u001b[0m, in \u001b[0;36mModule._call_impl\u001b[0;34m(self, *input, **kwargs)\u001b[0m\n\u001b[1;32m   1190\u001b[0m \u001b[39m# If we don't have any hooks, we want to skip the rest of the logic in\u001b[39;00m\n\u001b[1;32m   1191\u001b[0m \u001b[39m# this function, and just call forward.\u001b[39;00m\n\u001b[1;32m   1192\u001b[0m \u001b[39mif\u001b[39;00m \u001b[39mnot\u001b[39;00m (\u001b[39mself\u001b[39m\u001b[39m.\u001b[39m_backward_hooks \u001b[39mor\u001b[39;00m \u001b[39mself\u001b[39m\u001b[39m.\u001b[39m_forward_hooks \u001b[39mor\u001b[39;00m \u001b[39mself\u001b[39m\u001b[39m.\u001b[39m_forward_pre_hooks \u001b[39mor\u001b[39;00m _global_backward_hooks\n\u001b[1;32m   1193\u001b[0m         \u001b[39mor\u001b[39;00m _global_forward_hooks \u001b[39mor\u001b[39;00m _global_forward_pre_hooks):\n\u001b[0;32m-> 1194\u001b[0m     \u001b[39mreturn\u001b[39;00m forward_call(\u001b[39m*\u001b[39;49m\u001b[39minput\u001b[39;49m, \u001b[39m*\u001b[39;49m\u001b[39m*\u001b[39;49mkwargs)\n\u001b[1;32m   1195\u001b[0m \u001b[39m# Do not call functions when jit is used\u001b[39;00m\n\u001b[1;32m   1196\u001b[0m full_backward_hooks, non_full_backward_hooks \u001b[39m=\u001b[39m [], []\n",
            "File \u001b[0;32m/media/ashatya/Data/work/envs/torch/lib/python3.10/site-packages/torchmetrics/metric.py:236\u001b[0m, in \u001b[0;36mMetric.forward\u001b[0;34m(self, *args, **kwargs)\u001b[0m\n\u001b[1;32m    234\u001b[0m     \u001b[39mself\u001b[39m\u001b[39m.\u001b[39m_forward_cache \u001b[39m=\u001b[39m \u001b[39mself\u001b[39m\u001b[39m.\u001b[39m_forward_full_state_update(\u001b[39m*\u001b[39margs, \u001b[39m*\u001b[39m\u001b[39m*\u001b[39mkwargs)\n\u001b[1;32m    235\u001b[0m \u001b[39melse\u001b[39;00m:\n\u001b[0;32m--> 236\u001b[0m     \u001b[39mself\u001b[39m\u001b[39m.\u001b[39m_forward_cache \u001b[39m=\u001b[39m \u001b[39mself\u001b[39;49m\u001b[39m.\u001b[39;49m_forward_reduce_state_update(\u001b[39m*\u001b[39;49margs, \u001b[39m*\u001b[39;49m\u001b[39m*\u001b[39;49mkwargs)\n\u001b[1;32m    238\u001b[0m \u001b[39mreturn\u001b[39;00m \u001b[39mself\u001b[39m\u001b[39m.\u001b[39m_forward_cache\n",
            "File \u001b[0;32m/media/ashatya/Data/work/envs/torch/lib/python3.10/site-packages/torchmetrics/metric.py:303\u001b[0m, in \u001b[0;36mMetric._forward_reduce_state_update\u001b[0;34m(self, *args, **kwargs)\u001b[0m\n\u001b[1;32m    301\u001b[0m \u001b[39m# calculate batch state and compute batch value\u001b[39;00m\n\u001b[1;32m    302\u001b[0m \u001b[39mself\u001b[39m\u001b[39m.\u001b[39mupdate(\u001b[39m*\u001b[39margs, \u001b[39m*\u001b[39m\u001b[39m*\u001b[39mkwargs)\n\u001b[0;32m--> 303\u001b[0m batch_val \u001b[39m=\u001b[39m \u001b[39mself\u001b[39;49m\u001b[39m.\u001b[39;49mcompute()\n\u001b[1;32m    305\u001b[0m \u001b[39m# reduce batch and global state\u001b[39;00m\n\u001b[1;32m    306\u001b[0m \u001b[39mself\u001b[39m\u001b[39m.\u001b[39m_update_count \u001b[39m=\u001b[39m _update_count \u001b[39m+\u001b[39m \u001b[39m1\u001b[39m\n",
            "File \u001b[0;32m/media/ashatya/Data/work/envs/torch/lib/python3.10/site-packages/torchmetrics/metric.py:532\u001b[0m, in \u001b[0;36mMetric._wrap_compute.<locals>.wrapped_func\u001b[0;34m(*args, **kwargs)\u001b[0m\n\u001b[1;32m    524\u001b[0m \u001b[39m# compute relies on the sync context manager to gather the states across processes and apply reduction\u001b[39;00m\n\u001b[1;32m    525\u001b[0m \u001b[39m# if synchronization happened, the current rank accumulated states will be restored to keep\u001b[39;00m\n\u001b[1;32m    526\u001b[0m \u001b[39m# accumulation going if ``should_unsync=True``,\u001b[39;00m\n\u001b[1;32m    527\u001b[0m \u001b[39mwith\u001b[39;00m \u001b[39mself\u001b[39m\u001b[39m.\u001b[39msync_context(\n\u001b[1;32m    528\u001b[0m     dist_sync_fn\u001b[39m=\u001b[39m\u001b[39mself\u001b[39m\u001b[39m.\u001b[39mdist_sync_fn,\n\u001b[1;32m    529\u001b[0m     should_sync\u001b[39m=\u001b[39m\u001b[39mself\u001b[39m\u001b[39m.\u001b[39m_to_sync,\n\u001b[1;32m    530\u001b[0m     should_unsync\u001b[39m=\u001b[39m\u001b[39mself\u001b[39m\u001b[39m.\u001b[39m_should_unsync,\n\u001b[1;32m    531\u001b[0m ):\n\u001b[0;32m--> 532\u001b[0m     value \u001b[39m=\u001b[39m compute(\u001b[39m*\u001b[39;49margs, \u001b[39m*\u001b[39;49m\u001b[39m*\u001b[39;49mkwargs)\n\u001b[1;32m    533\u001b[0m     \u001b[39mself\u001b[39m\u001b[39m.\u001b[39m_computed \u001b[39m=\u001b[39m _squeeze_if_scalar(value)\n\u001b[1;32m    535\u001b[0m \u001b[39mreturn\u001b[39;00m \u001b[39mself\u001b[39m\u001b[39m.\u001b[39m_computed\n",
            "File \u001b[0;32m/media/ashatya/Data/work/envs/torch/lib/python3.10/site-packages/torchmetrics/classification/average_precision.py:209\u001b[0m, in \u001b[0;36mMulticlassAveragePrecision.compute\u001b[0;34m(self)\u001b[0m\n\u001b[1;32m    207\u001b[0m \u001b[39melse\u001b[39;00m:\n\u001b[1;32m    208\u001b[0m     state \u001b[39m=\u001b[39m \u001b[39mself\u001b[39m\u001b[39m.\u001b[39mconfmat\n\u001b[0;32m--> 209\u001b[0m \u001b[39mreturn\u001b[39;00m _multiclass_average_precision_compute(state, \u001b[39mself\u001b[39;49m\u001b[39m.\u001b[39;49mnum_classes, \u001b[39mself\u001b[39;49m\u001b[39m.\u001b[39;49maverage, \u001b[39mself\u001b[39;49m\u001b[39m.\u001b[39;49mthresholds)\n",
            "File \u001b[0;32m/media/ashatya/Data/work/envs/torch/lib/python3.10/site-packages/torchmetrics/functional/classification/average_precision.py:170\u001b[0m, in \u001b[0;36m_multiclass_average_precision_compute\u001b[0;34m(state, num_classes, average, thresholds)\u001b[0m\n\u001b[1;32m    164\u001b[0m \u001b[39mdef\u001b[39;00m \u001b[39m_multiclass_average_precision_compute\u001b[39m(\n\u001b[1;32m    165\u001b[0m     state: Union[Tensor, Tuple[Tensor, Tensor]],\n\u001b[1;32m    166\u001b[0m     num_classes: \u001b[39mint\u001b[39m,\n\u001b[1;32m    167\u001b[0m     average: Optional[Literal[\u001b[39m\"\u001b[39m\u001b[39mmacro\u001b[39m\u001b[39m\"\u001b[39m, \u001b[39m\"\u001b[39m\u001b[39mweighted\u001b[39m\u001b[39m\"\u001b[39m, \u001b[39m\"\u001b[39m\u001b[39mnone\u001b[39m\u001b[39m\"\u001b[39m]] \u001b[39m=\u001b[39m \u001b[39m\"\u001b[39m\u001b[39mmacro\u001b[39m\u001b[39m\"\u001b[39m,\n\u001b[1;32m    168\u001b[0m     thresholds: Optional[Tensor] \u001b[39m=\u001b[39m \u001b[39mNone\u001b[39;00m,\n\u001b[1;32m    169\u001b[0m ) \u001b[39m-\u001b[39m\u001b[39m>\u001b[39m Tensor:\n\u001b[0;32m--> 170\u001b[0m     precision, recall, _ \u001b[39m=\u001b[39m _multiclass_precision_recall_curve_compute(state, num_classes, thresholds)\n\u001b[1;32m    171\u001b[0m     \u001b[39mreturn\u001b[39;00m _reduce_average_precision(\n\u001b[1;32m    172\u001b[0m         precision,\n\u001b[1;32m    173\u001b[0m         recall,\n\u001b[1;32m    174\u001b[0m         average,\n\u001b[1;32m    175\u001b[0m         weights\u001b[39m=\u001b[39m_bincount(state[\u001b[39m1\u001b[39m], minlength\u001b[39m=\u001b[39mnum_classes)\u001b[39m.\u001b[39mfloat() \u001b[39mif\u001b[39;00m thresholds \u001b[39mis\u001b[39;00m \u001b[39mNone\u001b[39;00m \u001b[39melse\u001b[39;00m state[\u001b[39m0\u001b[39m][:, \u001b[39m1\u001b[39m, :]\u001b[39m.\u001b[39msum(\u001b[39m-\u001b[39m\u001b[39m1\u001b[39m),\n\u001b[1;32m    176\u001b[0m     )\n",
            "File \u001b[0;32m/media/ashatya/Data/work/envs/torch/lib/python3.10/site-packages/torchmetrics/functional/classification/precision_recall_curve.py:448\u001b[0m, in \u001b[0;36m_multiclass_precision_recall_curve_compute\u001b[0;34m(state, num_classes, thresholds)\u001b[0m\n\u001b[1;32m    446\u001b[0m precision, recall, thresholds \u001b[39m=\u001b[39m [], [], []\n\u001b[1;32m    447\u001b[0m \u001b[39mfor\u001b[39;00m i \u001b[39min\u001b[39;00m \u001b[39mrange\u001b[39m(num_classes):\n\u001b[0;32m--> 448\u001b[0m     res \u001b[39m=\u001b[39m _binary_precision_recall_curve_compute([state[\u001b[39m0\u001b[39;49m][:, i], state[\u001b[39m1\u001b[39;49m]], thresholds\u001b[39m=\u001b[39;49m\u001b[39mNone\u001b[39;49;00m, pos_label\u001b[39m=\u001b[39;49mi)\n\u001b[1;32m    449\u001b[0m     precision\u001b[39m.\u001b[39mappend(res[\u001b[39m0\u001b[39m])\n\u001b[1;32m    450\u001b[0m     recall\u001b[39m.\u001b[39mappend(res[\u001b[39m1\u001b[39m])\n",
            "File \u001b[0;32m/media/ashatya/Data/work/envs/torch/lib/python3.10/site-packages/torchmetrics/functional/classification/precision_recall_curve.py:226\u001b[0m, in \u001b[0;36m_binary_precision_recall_curve_compute\u001b[0;34m(state, thresholds, pos_label)\u001b[0m\n\u001b[1;32m    224\u001b[0m     \u001b[39mreturn\u001b[39;00m precision, recall, thresholds\n\u001b[1;32m    225\u001b[0m \u001b[39melse\u001b[39;00m:\n\u001b[0;32m--> 226\u001b[0m     fps, tps, thresholds \u001b[39m=\u001b[39m _binary_clf_curve(state[\u001b[39m0\u001b[39;49m], state[\u001b[39m1\u001b[39;49m], pos_label\u001b[39m=\u001b[39;49mpos_label)\n\u001b[1;32m    227\u001b[0m     precision \u001b[39m=\u001b[39m tps \u001b[39m/\u001b[39m (tps \u001b[39m+\u001b[39m fps)\n\u001b[1;32m    228\u001b[0m     recall \u001b[39m=\u001b[39m tps \u001b[39m/\u001b[39m tps[\u001b[39m-\u001b[39m\u001b[39m1\u001b[39m]\n",
            "File \u001b[0;32m/media/ashatya/Data/work/envs/torch/lib/python3.10/site-packages/torchmetrics/functional/classification/precision_recall_curve.py:47\u001b[0m, in \u001b[0;36m_binary_clf_curve\u001b[0;34m(preds, target, sample_weights, pos_label)\u001b[0m\n\u001b[1;32m     27\u001b[0m \u001b[39mdef\u001b[39;00m \u001b[39m_binary_clf_curve\u001b[39m(\n\u001b[1;32m     28\u001b[0m     preds: Tensor,\n\u001b[1;32m     29\u001b[0m     target: Tensor,\n\u001b[1;32m     30\u001b[0m     sample_weights: Optional[Sequence] \u001b[39m=\u001b[39m \u001b[39mNone\u001b[39;00m,\n\u001b[1;32m     31\u001b[0m     pos_label: \u001b[39mint\u001b[39m \u001b[39m=\u001b[39m \u001b[39m1\u001b[39m,\n\u001b[1;32m     32\u001b[0m ) \u001b[39m-\u001b[39m\u001b[39m>\u001b[39m Tuple[Tensor, Tensor, Tensor]:\n\u001b[1;32m     33\u001b[0m \u001b[39m    \u001b[39m\u001b[39m\"\"\"Calculates the tps and false positives for all unique thresholds in the preds tensor. Adapted from\u001b[39;00m\n\u001b[1;32m     34\u001b[0m \u001b[39m    https://github.com/scikit-learn/scikit-learn/blob/main/sklearn/metrics/_ranking.py.\u001b[39;00m\n\u001b[1;32m     35\u001b[0m \n\u001b[0;32m   (...)\u001b[0m\n\u001b[1;32m     45\u001b[0m \u001b[39m        thresholds: the unique thresholds use for calculating fps and tps\u001b[39;00m\n\u001b[1;32m     46\u001b[0m \u001b[39m    \"\"\"\u001b[39;00m\n\u001b[0;32m---> 47\u001b[0m     \u001b[39mwith\u001b[39;00m torch\u001b[39m.\u001b[39mno_grad():\n\u001b[1;32m     48\u001b[0m         \u001b[39mif\u001b[39;00m sample_weights \u001b[39mis\u001b[39;00m \u001b[39mnot\u001b[39;00m \u001b[39mNone\u001b[39;00m \u001b[39mand\u001b[39;00m \u001b[39mnot\u001b[39;00m \u001b[39misinstance\u001b[39m(sample_weights, Tensor):\n\u001b[1;32m     49\u001b[0m             sample_weights \u001b[39m=\u001b[39m tensor(sample_weights, device\u001b[39m=\u001b[39mpreds\u001b[39m.\u001b[39mdevice, dtype\u001b[39m=\u001b[39mtorch\u001b[39m.\u001b[39mfloat)\n",
            "File \u001b[0;32m/media/ashatya/Data/work/envs/torch/lib/python3.10/site-packages/torch/autograd/grad_mode.py:135\u001b[0m, in \u001b[0;36mno_grad.__exit__\u001b[0;34m(self, exc_type, exc_value, traceback)\u001b[0m\n\u001b[1;32m    132\u001b[0m     \u001b[39mself\u001b[39m\u001b[39m.\u001b[39mprev \u001b[39m=\u001b[39m torch\u001b[39m.\u001b[39mis_grad_enabled()\n\u001b[1;32m    133\u001b[0m     torch\u001b[39m.\u001b[39mset_grad_enabled(\u001b[39mFalse\u001b[39;00m)\n\u001b[0;32m--> 135\u001b[0m \u001b[39mdef\u001b[39;00m \u001b[39m__exit__\u001b[39m(\u001b[39mself\u001b[39m, exc_type: Any, exc_value: Any, traceback: Any) \u001b[39m-\u001b[39m\u001b[39m>\u001b[39m \u001b[39mNone\u001b[39;00m:\n\u001b[1;32m    136\u001b[0m     torch\u001b[39m.\u001b[39mset_grad_enabled(\u001b[39mself\u001b[39m\u001b[39m.\u001b[39mprev)\n",
            "\u001b[0;31mKeyboardInterrupt\u001b[0m: "
          ]
        }
      ],
      "source": [
        "class VanillaConvNet(nn.Module):\n",
        "    def __init__(self, num_inputs, num_layers=5):\n",
        "        super().__init__()\n",
        "        self.model = FeedforwardController(num_inputs, num_layers)\n",
        "        self.fc_ = nn.Linear(in_features = 5184, out_features= 44)\n",
        "    def forward(self, x):\n",
        "        feats = self.model(x)\n",
        "        feats = self.fc_(feats)\n",
        "        return F.softmax(feats, dim=1)\n",
        "\n",
        "\n",
        "model = VanillaConvNet(3, 5)\n",
        "\n",
        "optimizer = torch.optim.Adam(model.parameters(), lr=0.005)\n",
        "\n",
        "loss_fn = torch.nn.BCELoss()\n",
        "\n",
        "metric = AveragePrecision(task=\"multiclass\", num_classes=44)\n",
        "\n",
        "for epoch in range(num_epochs):\n",
        "    print(\"Epoch {}\".format(epoch))\n",
        "\n",
        "    last_loss = 0.0\n",
        "    \n",
        "    # net.train(True)\n",
        "    for i, data in enumerate(train_dataloader):\n",
        "        running_loss = 0.0\n",
        "        \n",
        "        inputs, labels = data[0].to(device_), data[1].to(device_)\n",
        "        labels = labels.type(torch.float)\n",
        "        optimizer.zero_grad()\n",
        "\n",
        "        # net.init_sequence(batch_size)\n",
        "        \n",
        "        training = True\n",
        "        outputs = model(inputs)\n",
        "        avg_loss = loss_fn(outputs, labels)\n",
        "\n",
        "        avg_prec = metric(outputs, torch.argmax(labels, dim=1))\n",
        "        # print(torch.argmax(outputs, dim=1), torch.argmax(labels, dim=1))\n",
        "        avg_loss.backward()\n",
        "\n",
        "        optimizer.step()\n",
        "\n",
        "        running_loss += avg_loss.item()\n",
        "        last_loss = running_loss\n",
        "        last_avg_prec = avg_prec\n",
        "    print(\"batch {}, loss {:.3f}, train avg prec {:.3f}\".format(i+1, last_loss, last_avg_prec))\n",
        "\n",
        "    # validation\n",
        "    with torch.no_grad():\n",
        "        running_vloss = 0.0\n",
        "        for i, data in enumerate(val_dataloader):\n",
        "            net.init_sequence(batch_size)\n",
        "\n",
        "            vinputs, vlabels = data[0].to(device_), data[1].to(device_)\n",
        "            vlabels = vlabels.type(torch.float)\n",
        "            voutputs = model(vinputs)\n",
        "            vavg_prec = metric(voutputs, torch.argmax(vlabels, dim=1))\n",
        "            vloss = loss_fn(voutputs, vlabels)\n",
        "            running_vloss += vloss\n",
        "\n",
        "        avg_vloss = running_vloss / (i+1)\n",
        "        print(\"Loss train {:.3f},  validation {:.3f},  val avg prec {:.3f}\".format(avg_loss, avg_vloss, vavg_prec))\n"
      ]
    },
    {
      "cell_type": "code",
      "execution_count": null,
      "metadata": {
        "id": "N8lEVxCTpu0j"
      },
      "outputs": [],
      "source": [
        "model"
      ]
    },
    {
      "cell_type": "code",
      "execution_count": null,
      "metadata": {
        "id": "9kqOGKcxpuyK"
      },
      "outputs": [],
      "source": []
    },
    {
      "cell_type": "code",
      "execution_count": null,
      "metadata": {
        "id": "zvH5wEJppuo0"
      },
      "outputs": [],
      "source": []
    },
    {
      "cell_type": "code",
      "execution_count": null,
      "metadata": {
        "id": "Rgc0SQzs5eWj"
      },
      "outputs": [],
      "source": [
        "import torch\n",
        "import torch.nn as nn\n",
        "from torchvision.io.image import read_image\n",
        "import torchvision.transforms as transforms\n",
        "from torchvision.models.vgg import VGG16_Weights, vgg16"
      ]
    },
    {
      "cell_type": "code",
      "execution_count": null,
      "metadata": {
        "id": "o_bV9w7ZSjSP"
      },
      "outputs": [],
      "source": [
        "init_r = []\n",
        "num_read_heads = 0\n",
        "M = 120\n",
        "heads = 2\n",
        "for head in range(heads):\n",
        "    # if head.is_read_head():\n",
        "    init_r_bias = torch.randn(1, M) * 0.01\n",
        "    # register_buffer(\"read{}_bias\".format(num_read_heads), init_r_bias.data)\n",
        "    init_r += [init_r_bias]\n",
        "    num_read_heads += 1"
      ]
    },
    {
      "cell_type": "code",
      "execution_count": null,
      "metadata": {
        "id": "WrdJBuqeSjKW"
      },
      "outputs": [],
      "source": [
        "batch_size = 50\n",
        "prev_reads  = [r.clone().repeat(batch_size, 1) for r in init_r]"
      ]
    },
    {
      "cell_type": "code",
      "execution_count": null,
      "metadata": {
        "id": "0k0mJBaRTiMP"
      },
      "outputs": [],
      "source": [
        "transforms_ = transforms.Compose([\n",
        "    transforms.Resize(40),\n",
        "    transforms.CenterCrop(40),\n",
        "    transforms.ConvertImageDtype(torch.float),\n",
        "    # transforms.ToTensor(),\n",
        "    transforms.Normalize(mean=[0.485, 0.456, 0.406], std=[0.229, 0.224, 0.225]),\n",
        "])\n",
        "device = \"cuda\" if torch.cuda.is_available() else \"cpu\"\n",
        "# feature_extractor_ = torch.hub.load('facebookresearch/WSL-Images'\n"
      ]
    },
    {
      "cell_type": "code",
      "execution_count": null,
      "metadata": {
        "id": "OJnExiZTZwmj"
      },
      "outputs": [],
      "source": [
        "feature_extractor.eval()"
      ]
    },
    {
      "cell_type": "code",
      "execution_count": null,
      "metadata": {
        "id": "1aOJJwvKTiJo"
      },
      "outputs": [],
      "source": [
        "# img_path = os.path.join(img_dir, self.image_labels.iloc[index, 0])\n",
        "img_path =\"/content/humanlike-ocr/data/atomic_char/atomic_0_0.jpg\"\n",
        "image = read_image(img_path)\n",
        "image = transforms_(image)\n",
        "features = feature_extractor(image.unsqueeze(0)).squeeze()"
      ]
    },
    {
      "cell_type": "code",
      "execution_count": null,
      "metadata": {
        "id": "L5eNtDJCTiG2"
      },
      "outputs": [],
      "source": [
        "features.shape"
      ]
    },
    {
      "cell_type": "code",
      "execution_count": null,
      "metadata": {
        "id": "HyR2m11ETiEG"
      },
      "outputs": [],
      "source": [
        "features = features[:80]"
      ]
    },
    {
      "cell_type": "code",
      "execution_count": null,
      "metadata": {
        "id": "GmIv_uaxVdjc"
      },
      "outputs": [],
      "source": [
        "inp = torch.cat([features]+prev_reads, dim=1)"
      ]
    },
    {
      "cell_type": "code",
      "execution_count": null,
      "metadata": {
        "id": "KVtMHrUyWUAe"
      },
      "outputs": [],
      "source": [
        "prev_reads[0].shape"
      ]
    },
    {
      "cell_type": "code",
      "execution_count": null,
      "metadata": {
        "id": "0v4llWbzVdhF"
      },
      "outputs": [],
      "source": [
        "[features.unsqueeze(0)]+prev_reads"
      ]
    },
    {
      "cell_type": "code",
      "execution_count": null,
      "metadata": {
        "id": "LixenPeFikCI"
      },
      "outputs": [],
      "source": [
        "from tqdm import tqdm\n",
        "import os\n",
        "import torch\n",
        "import pandas as pd\n",
        "import numpy as np\n"
      ]
    },
    {
      "cell_type": "code",
      "execution_count": null,
      "metadata": {
        "id": "Bl4iJa7Xi7DS"
      },
      "outputs": [],
      "source": [
        "image_labels = pd.read_csv(\"/content/humanlike-ocr/data/imgs_1500.csv\")\n",
        "img_dir = \"/content/humanlike-ocr/data/imgs\""
      ]
    },
    {
      "cell_type": "code",
      "execution_count": null,
      "metadata": {
        "id": "NtbohHC-jNYz"
      },
      "outputs": [],
      "source": [
        "# features index\n",
        "features_= pd.read_csv(\"/content/humanlike-ocr/data/final_80_features.csv\")\n",
        "feats = features_.columns[:-1]\n",
        "feats_idx = np.array(feats).astype(np.int32)"
      ]
    },
    {
      "cell_type": "code",
      "execution_count": null,
      "metadata": {
        "id": "2pp3WA0yVded"
      },
      "outputs": [],
      "source": [
        "device_ = torch.device(\"cuda\")\n",
        "\n",
        "# getting the features\n",
        "feats_stacked_ = []\n",
        "heads, bodys, tails = [], [], []\n",
        "for index in tqdm(range(image_labels.shape[0])):\n",
        "    img_path = os.path.join(img_dir, image_labels.iloc[index, 0])\n",
        "    image = read_image(img_path)\n",
        "    image = transforms_(image)\n",
        "    c, h, w = image.size()\n",
        "    slice_width = h//3\n",
        "    head, body, tail = image[:, :slice_width, :], image[:, slice_width: 2*slice_width, :], image[:, 2*slice_width: 3*slice_width]\n",
        "    heads.append(head)\n",
        "    bodys.append(body)\n",
        "    tails.append(tail)\n",
        "\n",
        "heads = torch.stack(heads, dim=0)\n",
        "bodys = torch.stack(bodys, dim=0)\n",
        "tails = torch.stack(tails, dim=0)\n",
        "    \n",
        "    # stacked_ = torch.stack([head, body, tail], dim=0)\n",
        "\n",
        "    # # getting the features of the three parts of the image\n",
        "    # features = feature_extractor(stacked_).squeeze()[:, feats_idx] # getting the top 80 features only\n",
        "\n",
        "    # # now the features which are stacked are to concatenated to get an array of the features\n",
        "    # feat_list = [features[i, :] for i in range(features.size()[0])]\n",
        "    # feats_catted = torch.cat(feat_list, dim=0)\n",
        "    # # label = image_labels.iloc[index, 1]\n",
        "    # # if target_transform:\n",
        "    # #     label = target_transform(label)\n",
        "    # feats_stacked_.append(feats_catted)"
      ]
    },
    {
      "cell_type": "code",
      "execution_count": null,
      "metadata": {
        "id": "hftg3_Qms7yJ"
      },
      "outputs": [],
      "source": [
        "model_ = vgg16(pretrained=True)\n",
        "model_.classifier = model_.classifier[:-1]"
      ]
    },
    {
      "cell_type": "code",
      "execution_count": null,
      "metadata": {
        "id": "IjT_sSBdVdb9"
      },
      "outputs": [],
      "source": [
        "a_ = torch.stack([heads, bodys, tails], dim=2)"
      ]
    },
    {
      "cell_type": "code",
      "execution_count": null,
      "metadata": {
        "id": "AyrYPZ5GVdZe"
      },
      "outputs": [],
      "source": [
        "heads.size()"
      ]
    },
    {
      "cell_type": "code",
      "execution_count": null,
      "metadata": {
        "id": "6lDB1JlwTh93"
      },
      "outputs": [],
      "source": [
        "a_= torch.cat([heads, bodys, tails], dim=2)\n",
        "a_.to(torch.device(\"cuda\"))"
      ]
    },
    {
      "cell_type": "code",
      "execution_count": null,
      "metadata": {
        "id": "Y4H0vzHVpNtC"
      },
      "outputs": [],
      "source": [
        "heads1, heads2, heads3 = heads[: 500].to(device_), heads[500: 1000].to(device_), heads[1000: 1500].to(device_)"
      ]
    },
    {
      "cell_type": "code",
      "execution_count": null,
      "metadata": {
        "id": "YMxnxIRWrw-r"
      },
      "outputs": [],
      "source": [
        "heads1.size()"
      ]
    },
    {
      "cell_type": "code",
      "execution_count": null,
      "metadata": {
        "id": "oDUzQdgXr3YT"
      },
      "outputs": [],
      "source": [
        "# concatenating heads\n",
        "features_trimmed = []\n",
        "feature_extractor.to(device_)\n",
        "for head in [heads1, heads2, heads3]:\n",
        "    with torch.no_grad():\n",
        "        features = feature_extractor(head).squeeze()\n",
        "    features_trimmed.append(features[:, feats_idx])\n",
        "    # print(features.size())\n"
      ]
    },
    {
      "cell_type": "code",
      "execution_count": null,
      "metadata": {
        "id": "UolGO4iQu_nd"
      },
      "outputs": [],
      "source": [
        "features_trimmed[0].size()\n",
        "heads80 = torch.cat(features_trimmed, dim=0)\n",
        "heads80.size()"
      ]
    },
    {
      "cell_type": "code",
      "execution_count": null,
      "metadata": {
        "id": "fckQW7lbYKAQ"
      },
      "outputs": [],
      "source": [
        "bodys1, bodys2, bodys3 = bodys[: 500].to(device_), bodys[500: 1000].to(device_), bodys[1000: 1500].to(device_)\n",
        "# concatenating body\n",
        "features_trimmed = []\n",
        "feature_extractor.to(device_)\n",
        "for body in [bodys1, bodys2, bodys3]:\n",
        "    with torch.no_grad():\n",
        "        features = feature_extractor(body).squeeze()\n",
        "    features_trimmed.append(features[:, feats_idx])\n",
        "\n",
        "features_trimmed[0].size()\n",
        "bodys80 = torch.cat(features_trimmed, dim=0)\n",
        "bodys80.size()"
      ]
    },
    {
      "cell_type": "code",
      "execution_count": null,
      "metadata": {
        "id": "iVfIj-btYJ9Y"
      },
      "outputs": [],
      "source": [
        "tails1, tails2, tails3 = tails[: 500].to(device_), tails[500: 1000].to(device_), tails[1000: 1500].to(device_)\n",
        "# concatenating tail\n",
        "features_trimmed = []\n",
        "feature_extractor.to(device_)\n",
        "for tail in [tails1, tails2, tails3]:\n",
        "    with torch.no_grad():\n",
        "        features = feature_extractor(tail).squeeze()\n",
        "    features_trimmed.append(features[:, feats_idx])\n",
        "\n",
        "features_trimmed[0].size()\n",
        "tails80 = torch.cat(features_trimmed, dim=0)\n",
        "tails80.size()"
      ]
    },
    {
      "cell_type": "code",
      "execution_count": null,
      "metadata": {
        "id": "bEcTPF9eYJ5l"
      },
      "outputs": [],
      "source": [
        "import gc\n",
        "torch.cuda.empty_cache()\n",
        "gc.collect()"
      ]
    },
    {
      "cell_type": "code",
      "execution_count": null,
      "metadata": {
        "id": "ZRD8aZvpYJzK"
      },
      "outputs": [],
      "source": [
        "catted_features = torch.cat([heads80, bodys80, tails80], dim=1)\n",
        "catted_features.size()"
      ]
    },
    {
      "cell_type": "code",
      "execution_count": null,
      "metadata": {
        "id": "ZzdaCd0riu13"
      },
      "outputs": [],
      "source": []
    },
    {
      "cell_type": "code",
      "execution_count": null,
      "metadata": {
        "id": "qNS7HuHMf5ov"
      },
      "outputs": [],
      "source": [
        "image_labels[[str(i) for i in range(240)]] = catted_features.cpu().detach().numpy()"
      ]
    },
    {
      "cell_type": "code",
      "execution_count": null,
      "metadata": {
        "id": "bdKbRitqgtpo"
      },
      "outputs": [],
      "source": [
        "image_labels.to_csv(\"features240_head_body_tail.csv\", index=False)"
      ]
    },
    {
      "cell_type": "code",
      "execution_count": null,
      "metadata": {
        "id": "nJp09JFonXdW"
      },
      "outputs": [],
      "source": [
        "feature_extractor.to(torch.device(\"cuda\"))\n",
        "feats_stacked_ = []\n",
        "for i in range(3):    \n",
        "    # getting the features of the three parts of the image\n",
        "    features = feature_extractor(a_[500*i:500*i+1].to(torch.device(\"cuda\"))) # getting the top 80 features only\n",
        "    features = features.squeeze()\n",
        "    # now the features which are stacked are to concatenated to get an array of the features\n",
        "    feat_list = [features[i, :] for i in range(features.size()[0])]\n",
        "    feats_catted = torch.cat(feat_list, dim=0)\n",
        "    # label = image_labels.iloc[index, 1]\n",
        "    # if target_transform:\n",
        "    #     label = target_transform(label)\n",
        "    feats_stacked_.append(feats_catted)"
      ]
    },
    {
      "cell_type": "markdown",
      "metadata": {
        "id": "zzbqk5AVjGF7"
      },
      "source": [
        "The head, body and tail division of the image method is not working"
      ]
    },
    {
      "cell_type": "markdown",
      "metadata": {
        "id": "XTcEGU55jGDG"
      },
      "source": [
        "## Trying VGG16 for the features"
      ]
    },
    {
      "cell_type": "code",
      "execution_count": null,
      "metadata": {
        "id": "-N_p681hjUu-"
      },
      "outputs": [],
      "source": [
        "model_ = vgg16(weights=VGG16_Weights)\n",
        "feature_extractor_vgg16 = nn.Sequential(*list(model_.children())[:-2]).to(device_).eval()"
      ]
    },
    {
      "cell_type": "code",
      "execution_count": null,
      "metadata": {
        "id": "YnwGLoJhneYJ"
      },
      "outputs": [],
      "source": [
        "feature_extractor_vgg16 = model_"
      ]
    },
    {
      "cell_type": "code",
      "execution_count": null,
      "metadata": {
        "id": "GpgKSaYUtXg2"
      },
      "outputs": [],
      "source": [
        "feature_extractor_vgg16"
      ]
    },
    {
      "cell_type": "code",
      "execution_count": null,
      "metadata": {
        "id": "70DETftfjUpO"
      },
      "outputs": [],
      "source": [
        "features_vgg16 = []\n",
        "device = \"cuda\" if torch.cuda.is_available() else \"cpu\"\n",
        "for index in tqdm(range(image_labels.shape[0])):\n",
        "    img_path = os.path.join(img_dir, image_labels.iloc[index, 0])\n",
        "    image = read_image(img_path)\n",
        "    image = transforms_(image)\n",
        "    c, h, w = image.size()\n",
        "    with torch.no_grad():\n",
        "        feats = feature_extractor_vgg16(image.unsqueeze(0).to(device))\n",
        "    features_vgg16.append(feats.squeeze())\n",
        "    # slice_width = h//3\n",
        "    # head, body, tail = image[:, :slice_width, :], image[:, slice_width: 2*slice_width, :], image[:, 2*slice_width: 3*slice_width]\n",
        "    # heads.append(head)\n",
        "    # bodys.append(body)\n",
        "    # tails.append(tail)"
      ]
    },
    {
      "cell_type": "code",
      "execution_count": null,
      "metadata": {
        "id": "6uNQnCZhjUfO"
      },
      "outputs": [],
      "source": [
        "feats = torch.stack(features_vgg16, dim=0)"
      ]
    },
    {
      "cell_type": "code",
      "execution_count": null,
      "metadata": {
        "id": "qmJc3o1nmyqs"
      },
      "outputs": [],
      "source": [
        "feats.size()"
      ]
    },
    {
      "cell_type": "code",
      "execution_count": null,
      "metadata": {
        "id": "bLaQ6eQJleGQ"
      },
      "outputs": [],
      "source": [
        "image_labels[[str(i) for i in range(4096)]] = feats.cpu().detach().numpy()"
      ]
    },
    {
      "cell_type": "code",
      "execution_count": null,
      "metadata": {
        "id": "sZ6vZkQ2leDb"
      },
      "outputs": [],
      "source": [
        "image_labels.to_csv(\"feats4096_1500files_vgg16.csv\", index=False)"
      ]
    },
    {
      "cell_type": "code",
      "execution_count": null,
      "metadata": {
        "id": "llMIySyeleAy"
      },
      "outputs": [],
      "source": [
        "cols_to_remove = []\n",
        "for col in image_labels.columns:\n",
        "    if image_labels[col].sum() == 0:\n",
        "        cols_to_remove.append(col)"
      ]
    },
    {
      "cell_type": "code",
      "execution_count": null,
      "metadata": {
        "id": "5iqiHJMSld-V"
      },
      "outputs": [],
      "source": [
        "len(cols_to_remove)"
      ]
    },
    {
      "cell_type": "code",
      "execution_count": null,
      "metadata": {
        "id": "LidksDyUld1u"
      },
      "outputs": [],
      "source": []
    },
    {
      "cell_type": "code",
      "execution_count": null,
      "metadata": {
        "id": "BE7vaLam5h03"
      },
      "outputs": [],
      "source": [
        "class FeedforwardController(nn.Module):\n",
        "    def __init__(self, num_inputs:int, num_layers:int) -> None:\n",
        "        super().__init__()\n",
        "        self.num_inputs = num_inputs\n",
        "        # self.num_outputs = num_outputs\n",
        "        self.num_layers = num_layers\n",
        "        # self.batch_size = batch_size\n",
        "        self.device_ = torch.device(\"cuda:0\" if torch.cuda.is_available() else \"cpu\")\n",
        "        self.layer = [\n",
        "            nn.Conv1d(1, 1, 1, device=self.device_),\n",
        "            nn.LeakyReLU()\n",
        "        ]\n",
        "        \n",
        "        self.feedforward = nn.Sequential(\n",
        "            # nn.LazyLinear(out_features=20, device=self.device_),\n",
        "            # nn.Linear(20, self.num_outputs, device=self.device_)\n",
        "            nn.ModuleList(\n",
        "            self.layer * self.num_layers\n",
        "            )\n",
        "        )\n",
        "\n",
        "    def forward(self, x):\n",
        "        if x.ndim != 3:\n",
        "            raise AssertionError(f\"dimension of the input is {x.ndim} and shape is {x.size()}. It should be a 3d tensor.\")\n",
        "        outp = self.feedforward(x)\n",
        "        return outp"
      ]
    },
    {
      "cell_type": "code",
      "execution_count": null,
      "metadata": {
        "id": "KLN-Fx0ZR-gd"
      },
      "outputs": [],
      "source": []
    }
  ],
  "metadata": {
    "colab": {
      "gpuType": "T4",
      "provenance": []
    },
    "gpuClass": "standard",
    "kernelspec": {
      "display_name": "Python 3",
      "name": "python3"
    },
    "language_info": {
      "codemirror_mode": {
        "name": "ipython",
        "version": 3
      },
      "file_extension": ".py",
      "mimetype": "text/x-python",
      "name": "python",
      "nbconvert_exporter": "python",
      "pygments_lexer": "ipython3",
      "version": "3.10.6"
    }
  },
  "nbformat": 4,
  "nbformat_minor": 0
}
