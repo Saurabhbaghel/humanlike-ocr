{
 "cells": [
  {
   "cell_type": "code",
   "execution_count": 5,
   "metadata": {},
   "outputs": [],
   "source": [
    "import os\n",
    "import torch\n",
    "from torch import nn\n",
    "import torchvision as tv\n",
    "from torchvision import transforms\n",
    "import matplotlib.pyplot as plt\n",
    "import numpy as np\n",
    "from torchsummary import summary\n"
   ]
  },
  {
   "cell_type": "code",
   "execution_count": 2,
   "metadata": {},
   "outputs": [
    {
     "name": "stderr",
     "output_type": "stream",
     "text": [
      "Downloading: \"https://github.com/facebookresearch/WSL-Images/zipball/main\" to /home/ashatya/.cache/torch/hub/main.zip\n",
      "Downloading: \"https://download.pytorch.org/models/ig_resnext101_32x8-c38310e5.pth\" to /home/ashatya/.cache/torch/hub/checkpoints/ig_resnext101_32x8-c38310e5.pth\n"
     ]
    },
    {
     "data": {
      "application/vnd.jupyter.widget-view+json": {
       "model_id": "95a67d61ae024c18821593ca56185ac7",
       "version_major": 2,
       "version_minor": 0
      },
      "text/plain": [
       "  0%|          | 0.00/340M [00:00<?, ?B/s]"
      ]
     },
     "metadata": {},
     "output_type": "display_data"
    }
   ],
   "source": [
    "model = torch.hub.load(\"facebookresearch/WSL-Images\", \"resnext101_32x8d_wsl\")"
   ]
  },
  {
   "cell_type": "code",
   "execution_count": 4,
   "metadata": {},
   "outputs": [],
   "source": [
    "# slicing the model. Removing the last layer of the model\n",
    "model = nn.Sequential(*list(model.children())[:-1])"
   ]
  },
  {
   "cell_type": "code",
   "execution_count": 7,
   "metadata": {},
   "outputs": [
    {
     "name": "stdout",
     "output_type": "stream",
     "text": [
      "----------------------------------------------------------------\n",
      "        Layer (type)               Output Shape         Param #\n",
      "================================================================\n",
      "            Conv2d-1           [-1, 64, 56, 56]           9,408\n",
      "       BatchNorm2d-2           [-1, 64, 56, 56]             128\n",
      "              ReLU-3           [-1, 64, 56, 56]               0\n",
      "         MaxPool2d-4           [-1, 64, 28, 28]               0\n",
      "            Conv2d-5          [-1, 256, 28, 28]          16,384\n",
      "       BatchNorm2d-6          [-1, 256, 28, 28]             512\n",
      "              ReLU-7          [-1, 256, 28, 28]               0\n",
      "            Conv2d-8          [-1, 256, 28, 28]          18,432\n",
      "       BatchNorm2d-9          [-1, 256, 28, 28]             512\n",
      "             ReLU-10          [-1, 256, 28, 28]               0\n",
      "           Conv2d-11          [-1, 256, 28, 28]          65,536\n",
      "      BatchNorm2d-12          [-1, 256, 28, 28]             512\n",
      "           Conv2d-13          [-1, 256, 28, 28]          16,384\n",
      "      BatchNorm2d-14          [-1, 256, 28, 28]             512\n",
      "             ReLU-15          [-1, 256, 28, 28]               0\n",
      "       Bottleneck-16          [-1, 256, 28, 28]               0\n",
      "           Conv2d-17          [-1, 256, 28, 28]          65,536\n",
      "      BatchNorm2d-18          [-1, 256, 28, 28]             512\n",
      "             ReLU-19          [-1, 256, 28, 28]               0\n",
      "           Conv2d-20          [-1, 256, 28, 28]          18,432\n",
      "      BatchNorm2d-21          [-1, 256, 28, 28]             512\n",
      "             ReLU-22          [-1, 256, 28, 28]               0\n",
      "           Conv2d-23          [-1, 256, 28, 28]          65,536\n",
      "      BatchNorm2d-24          [-1, 256, 28, 28]             512\n",
      "             ReLU-25          [-1, 256, 28, 28]               0\n",
      "       Bottleneck-26          [-1, 256, 28, 28]               0\n",
      "           Conv2d-27          [-1, 256, 28, 28]          65,536\n",
      "      BatchNorm2d-28          [-1, 256, 28, 28]             512\n",
      "             ReLU-29          [-1, 256, 28, 28]               0\n",
      "           Conv2d-30          [-1, 256, 28, 28]          18,432\n",
      "      BatchNorm2d-31          [-1, 256, 28, 28]             512\n",
      "             ReLU-32          [-1, 256, 28, 28]               0\n",
      "           Conv2d-33          [-1, 256, 28, 28]          65,536\n",
      "      BatchNorm2d-34          [-1, 256, 28, 28]             512\n",
      "             ReLU-35          [-1, 256, 28, 28]               0\n",
      "       Bottleneck-36          [-1, 256, 28, 28]               0\n",
      "           Conv2d-37          [-1, 512, 28, 28]         131,072\n",
      "      BatchNorm2d-38          [-1, 512, 28, 28]           1,024\n",
      "             ReLU-39          [-1, 512, 28, 28]               0\n",
      "           Conv2d-40          [-1, 512, 14, 14]          73,728\n",
      "      BatchNorm2d-41          [-1, 512, 14, 14]           1,024\n",
      "             ReLU-42          [-1, 512, 14, 14]               0\n",
      "           Conv2d-43          [-1, 512, 14, 14]         262,144\n",
      "      BatchNorm2d-44          [-1, 512, 14, 14]           1,024\n",
      "           Conv2d-45          [-1, 512, 14, 14]         131,072\n",
      "      BatchNorm2d-46          [-1, 512, 14, 14]           1,024\n",
      "             ReLU-47          [-1, 512, 14, 14]               0\n",
      "       Bottleneck-48          [-1, 512, 14, 14]               0\n",
      "           Conv2d-49          [-1, 512, 14, 14]         262,144\n",
      "      BatchNorm2d-50          [-1, 512, 14, 14]           1,024\n",
      "             ReLU-51          [-1, 512, 14, 14]               0\n",
      "           Conv2d-52          [-1, 512, 14, 14]          73,728\n",
      "      BatchNorm2d-53          [-1, 512, 14, 14]           1,024\n",
      "             ReLU-54          [-1, 512, 14, 14]               0\n",
      "           Conv2d-55          [-1, 512, 14, 14]         262,144\n",
      "      BatchNorm2d-56          [-1, 512, 14, 14]           1,024\n",
      "             ReLU-57          [-1, 512, 14, 14]               0\n",
      "       Bottleneck-58          [-1, 512, 14, 14]               0\n",
      "           Conv2d-59          [-1, 512, 14, 14]         262,144\n",
      "      BatchNorm2d-60          [-1, 512, 14, 14]           1,024\n",
      "             ReLU-61          [-1, 512, 14, 14]               0\n",
      "           Conv2d-62          [-1, 512, 14, 14]          73,728\n",
      "      BatchNorm2d-63          [-1, 512, 14, 14]           1,024\n",
      "             ReLU-64          [-1, 512, 14, 14]               0\n",
      "           Conv2d-65          [-1, 512, 14, 14]         262,144\n",
      "      BatchNorm2d-66          [-1, 512, 14, 14]           1,024\n",
      "             ReLU-67          [-1, 512, 14, 14]               0\n",
      "       Bottleneck-68          [-1, 512, 14, 14]               0\n",
      "           Conv2d-69          [-1, 512, 14, 14]         262,144\n",
      "      BatchNorm2d-70          [-1, 512, 14, 14]           1,024\n",
      "             ReLU-71          [-1, 512, 14, 14]               0\n",
      "           Conv2d-72          [-1, 512, 14, 14]          73,728\n",
      "      BatchNorm2d-73          [-1, 512, 14, 14]           1,024\n",
      "             ReLU-74          [-1, 512, 14, 14]               0\n",
      "           Conv2d-75          [-1, 512, 14, 14]         262,144\n",
      "      BatchNorm2d-76          [-1, 512, 14, 14]           1,024\n",
      "             ReLU-77          [-1, 512, 14, 14]               0\n",
      "       Bottleneck-78          [-1, 512, 14, 14]               0\n",
      "           Conv2d-79         [-1, 1024, 14, 14]         524,288\n",
      "      BatchNorm2d-80         [-1, 1024, 14, 14]           2,048\n",
      "             ReLU-81         [-1, 1024, 14, 14]               0\n",
      "           Conv2d-82           [-1, 1024, 7, 7]         294,912\n",
      "      BatchNorm2d-83           [-1, 1024, 7, 7]           2,048\n",
      "             ReLU-84           [-1, 1024, 7, 7]               0\n",
      "           Conv2d-85           [-1, 1024, 7, 7]       1,048,576\n",
      "      BatchNorm2d-86           [-1, 1024, 7, 7]           2,048\n",
      "           Conv2d-87           [-1, 1024, 7, 7]         524,288\n",
      "      BatchNorm2d-88           [-1, 1024, 7, 7]           2,048\n",
      "             ReLU-89           [-1, 1024, 7, 7]               0\n",
      "       Bottleneck-90           [-1, 1024, 7, 7]               0\n",
      "           Conv2d-91           [-1, 1024, 7, 7]       1,048,576\n",
      "      BatchNorm2d-92           [-1, 1024, 7, 7]           2,048\n",
      "             ReLU-93           [-1, 1024, 7, 7]               0\n",
      "           Conv2d-94           [-1, 1024, 7, 7]         294,912\n",
      "      BatchNorm2d-95           [-1, 1024, 7, 7]           2,048\n",
      "             ReLU-96           [-1, 1024, 7, 7]               0\n",
      "           Conv2d-97           [-1, 1024, 7, 7]       1,048,576\n",
      "      BatchNorm2d-98           [-1, 1024, 7, 7]           2,048\n",
      "             ReLU-99           [-1, 1024, 7, 7]               0\n",
      "      Bottleneck-100           [-1, 1024, 7, 7]               0\n",
      "          Conv2d-101           [-1, 1024, 7, 7]       1,048,576\n",
      "     BatchNorm2d-102           [-1, 1024, 7, 7]           2,048\n",
      "            ReLU-103           [-1, 1024, 7, 7]               0\n",
      "          Conv2d-104           [-1, 1024, 7, 7]         294,912\n",
      "     BatchNorm2d-105           [-1, 1024, 7, 7]           2,048\n",
      "            ReLU-106           [-1, 1024, 7, 7]               0\n",
      "          Conv2d-107           [-1, 1024, 7, 7]       1,048,576\n",
      "     BatchNorm2d-108           [-1, 1024, 7, 7]           2,048\n",
      "            ReLU-109           [-1, 1024, 7, 7]               0\n",
      "      Bottleneck-110           [-1, 1024, 7, 7]               0\n",
      "          Conv2d-111           [-1, 1024, 7, 7]       1,048,576\n",
      "     BatchNorm2d-112           [-1, 1024, 7, 7]           2,048\n",
      "            ReLU-113           [-1, 1024, 7, 7]               0\n",
      "          Conv2d-114           [-1, 1024, 7, 7]         294,912\n",
      "     BatchNorm2d-115           [-1, 1024, 7, 7]           2,048\n",
      "            ReLU-116           [-1, 1024, 7, 7]               0\n",
      "          Conv2d-117           [-1, 1024, 7, 7]       1,048,576\n",
      "     BatchNorm2d-118           [-1, 1024, 7, 7]           2,048\n",
      "            ReLU-119           [-1, 1024, 7, 7]               0\n",
      "      Bottleneck-120           [-1, 1024, 7, 7]               0\n",
      "          Conv2d-121           [-1, 1024, 7, 7]       1,048,576\n",
      "     BatchNorm2d-122           [-1, 1024, 7, 7]           2,048\n",
      "            ReLU-123           [-1, 1024, 7, 7]               0\n",
      "          Conv2d-124           [-1, 1024, 7, 7]         294,912\n",
      "     BatchNorm2d-125           [-1, 1024, 7, 7]           2,048\n",
      "            ReLU-126           [-1, 1024, 7, 7]               0\n",
      "          Conv2d-127           [-1, 1024, 7, 7]       1,048,576\n",
      "     BatchNorm2d-128           [-1, 1024, 7, 7]           2,048\n",
      "            ReLU-129           [-1, 1024, 7, 7]               0\n",
      "      Bottleneck-130           [-1, 1024, 7, 7]               0\n",
      "          Conv2d-131           [-1, 1024, 7, 7]       1,048,576\n",
      "     BatchNorm2d-132           [-1, 1024, 7, 7]           2,048\n",
      "            ReLU-133           [-1, 1024, 7, 7]               0\n",
      "          Conv2d-134           [-1, 1024, 7, 7]         294,912\n",
      "     BatchNorm2d-135           [-1, 1024, 7, 7]           2,048\n",
      "            ReLU-136           [-1, 1024, 7, 7]               0\n",
      "          Conv2d-137           [-1, 1024, 7, 7]       1,048,576\n",
      "     BatchNorm2d-138           [-1, 1024, 7, 7]           2,048\n",
      "            ReLU-139           [-1, 1024, 7, 7]               0\n",
      "      Bottleneck-140           [-1, 1024, 7, 7]               0\n",
      "          Conv2d-141           [-1, 1024, 7, 7]       1,048,576\n",
      "     BatchNorm2d-142           [-1, 1024, 7, 7]           2,048\n",
      "            ReLU-143           [-1, 1024, 7, 7]               0\n",
      "          Conv2d-144           [-1, 1024, 7, 7]         294,912\n",
      "     BatchNorm2d-145           [-1, 1024, 7, 7]           2,048\n",
      "            ReLU-146           [-1, 1024, 7, 7]               0\n",
      "          Conv2d-147           [-1, 1024, 7, 7]       1,048,576\n",
      "     BatchNorm2d-148           [-1, 1024, 7, 7]           2,048\n",
      "            ReLU-149           [-1, 1024, 7, 7]               0\n",
      "      Bottleneck-150           [-1, 1024, 7, 7]               0\n",
      "          Conv2d-151           [-1, 1024, 7, 7]       1,048,576\n",
      "     BatchNorm2d-152           [-1, 1024, 7, 7]           2,048\n",
      "            ReLU-153           [-1, 1024, 7, 7]               0\n",
      "          Conv2d-154           [-1, 1024, 7, 7]         294,912\n",
      "     BatchNorm2d-155           [-1, 1024, 7, 7]           2,048\n",
      "            ReLU-156           [-1, 1024, 7, 7]               0\n",
      "          Conv2d-157           [-1, 1024, 7, 7]       1,048,576\n",
      "     BatchNorm2d-158           [-1, 1024, 7, 7]           2,048\n",
      "            ReLU-159           [-1, 1024, 7, 7]               0\n",
      "      Bottleneck-160           [-1, 1024, 7, 7]               0\n",
      "          Conv2d-161           [-1, 1024, 7, 7]       1,048,576\n",
      "     BatchNorm2d-162           [-1, 1024, 7, 7]           2,048\n",
      "            ReLU-163           [-1, 1024, 7, 7]               0\n",
      "          Conv2d-164           [-1, 1024, 7, 7]         294,912\n",
      "     BatchNorm2d-165           [-1, 1024, 7, 7]           2,048\n",
      "            ReLU-166           [-1, 1024, 7, 7]               0\n",
      "          Conv2d-167           [-1, 1024, 7, 7]       1,048,576\n",
      "     BatchNorm2d-168           [-1, 1024, 7, 7]           2,048\n",
      "            ReLU-169           [-1, 1024, 7, 7]               0\n",
      "      Bottleneck-170           [-1, 1024, 7, 7]               0\n",
      "          Conv2d-171           [-1, 1024, 7, 7]       1,048,576\n",
      "     BatchNorm2d-172           [-1, 1024, 7, 7]           2,048\n",
      "            ReLU-173           [-1, 1024, 7, 7]               0\n",
      "          Conv2d-174           [-1, 1024, 7, 7]         294,912\n",
      "     BatchNorm2d-175           [-1, 1024, 7, 7]           2,048\n",
      "            ReLU-176           [-1, 1024, 7, 7]               0\n",
      "          Conv2d-177           [-1, 1024, 7, 7]       1,048,576\n",
      "     BatchNorm2d-178           [-1, 1024, 7, 7]           2,048\n",
      "            ReLU-179           [-1, 1024, 7, 7]               0\n",
      "      Bottleneck-180           [-1, 1024, 7, 7]               0\n",
      "          Conv2d-181           [-1, 1024, 7, 7]       1,048,576\n",
      "     BatchNorm2d-182           [-1, 1024, 7, 7]           2,048\n",
      "            ReLU-183           [-1, 1024, 7, 7]               0\n",
      "          Conv2d-184           [-1, 1024, 7, 7]         294,912\n",
      "     BatchNorm2d-185           [-1, 1024, 7, 7]           2,048\n",
      "            ReLU-186           [-1, 1024, 7, 7]               0\n",
      "          Conv2d-187           [-1, 1024, 7, 7]       1,048,576\n",
      "     BatchNorm2d-188           [-1, 1024, 7, 7]           2,048\n",
      "            ReLU-189           [-1, 1024, 7, 7]               0\n",
      "      Bottleneck-190           [-1, 1024, 7, 7]               0\n",
      "          Conv2d-191           [-1, 1024, 7, 7]       1,048,576\n",
      "     BatchNorm2d-192           [-1, 1024, 7, 7]           2,048\n",
      "            ReLU-193           [-1, 1024, 7, 7]               0\n",
      "          Conv2d-194           [-1, 1024, 7, 7]         294,912\n",
      "     BatchNorm2d-195           [-1, 1024, 7, 7]           2,048\n",
      "            ReLU-196           [-1, 1024, 7, 7]               0\n",
      "          Conv2d-197           [-1, 1024, 7, 7]       1,048,576\n",
      "     BatchNorm2d-198           [-1, 1024, 7, 7]           2,048\n",
      "            ReLU-199           [-1, 1024, 7, 7]               0\n",
      "      Bottleneck-200           [-1, 1024, 7, 7]               0\n",
      "          Conv2d-201           [-1, 1024, 7, 7]       1,048,576\n",
      "     BatchNorm2d-202           [-1, 1024, 7, 7]           2,048\n",
      "            ReLU-203           [-1, 1024, 7, 7]               0\n",
      "          Conv2d-204           [-1, 1024, 7, 7]         294,912\n",
      "     BatchNorm2d-205           [-1, 1024, 7, 7]           2,048\n",
      "            ReLU-206           [-1, 1024, 7, 7]               0\n",
      "          Conv2d-207           [-1, 1024, 7, 7]       1,048,576\n",
      "     BatchNorm2d-208           [-1, 1024, 7, 7]           2,048\n",
      "            ReLU-209           [-1, 1024, 7, 7]               0\n",
      "      Bottleneck-210           [-1, 1024, 7, 7]               0\n",
      "          Conv2d-211           [-1, 1024, 7, 7]       1,048,576\n",
      "     BatchNorm2d-212           [-1, 1024, 7, 7]           2,048\n",
      "            ReLU-213           [-1, 1024, 7, 7]               0\n",
      "          Conv2d-214           [-1, 1024, 7, 7]         294,912\n",
      "     BatchNorm2d-215           [-1, 1024, 7, 7]           2,048\n",
      "            ReLU-216           [-1, 1024, 7, 7]               0\n",
      "          Conv2d-217           [-1, 1024, 7, 7]       1,048,576\n",
      "     BatchNorm2d-218           [-1, 1024, 7, 7]           2,048\n",
      "            ReLU-219           [-1, 1024, 7, 7]               0\n",
      "      Bottleneck-220           [-1, 1024, 7, 7]               0\n",
      "          Conv2d-221           [-1, 1024, 7, 7]       1,048,576\n",
      "     BatchNorm2d-222           [-1, 1024, 7, 7]           2,048\n",
      "            ReLU-223           [-1, 1024, 7, 7]               0\n",
      "          Conv2d-224           [-1, 1024, 7, 7]         294,912\n",
      "     BatchNorm2d-225           [-1, 1024, 7, 7]           2,048\n",
      "            ReLU-226           [-1, 1024, 7, 7]               0\n",
      "          Conv2d-227           [-1, 1024, 7, 7]       1,048,576\n",
      "     BatchNorm2d-228           [-1, 1024, 7, 7]           2,048\n",
      "            ReLU-229           [-1, 1024, 7, 7]               0\n",
      "      Bottleneck-230           [-1, 1024, 7, 7]               0\n",
      "          Conv2d-231           [-1, 1024, 7, 7]       1,048,576\n",
      "     BatchNorm2d-232           [-1, 1024, 7, 7]           2,048\n",
      "            ReLU-233           [-1, 1024, 7, 7]               0\n",
      "          Conv2d-234           [-1, 1024, 7, 7]         294,912\n",
      "     BatchNorm2d-235           [-1, 1024, 7, 7]           2,048\n",
      "            ReLU-236           [-1, 1024, 7, 7]               0\n",
      "          Conv2d-237           [-1, 1024, 7, 7]       1,048,576\n",
      "     BatchNorm2d-238           [-1, 1024, 7, 7]           2,048\n",
      "            ReLU-239           [-1, 1024, 7, 7]               0\n",
      "      Bottleneck-240           [-1, 1024, 7, 7]               0\n",
      "          Conv2d-241           [-1, 1024, 7, 7]       1,048,576\n",
      "     BatchNorm2d-242           [-1, 1024, 7, 7]           2,048\n",
      "            ReLU-243           [-1, 1024, 7, 7]               0\n",
      "          Conv2d-244           [-1, 1024, 7, 7]         294,912\n",
      "     BatchNorm2d-245           [-1, 1024, 7, 7]           2,048\n",
      "            ReLU-246           [-1, 1024, 7, 7]               0\n",
      "          Conv2d-247           [-1, 1024, 7, 7]       1,048,576\n",
      "     BatchNorm2d-248           [-1, 1024, 7, 7]           2,048\n",
      "            ReLU-249           [-1, 1024, 7, 7]               0\n",
      "      Bottleneck-250           [-1, 1024, 7, 7]               0\n",
      "          Conv2d-251           [-1, 1024, 7, 7]       1,048,576\n",
      "     BatchNorm2d-252           [-1, 1024, 7, 7]           2,048\n",
      "            ReLU-253           [-1, 1024, 7, 7]               0\n",
      "          Conv2d-254           [-1, 1024, 7, 7]         294,912\n",
      "     BatchNorm2d-255           [-1, 1024, 7, 7]           2,048\n",
      "            ReLU-256           [-1, 1024, 7, 7]               0\n",
      "          Conv2d-257           [-1, 1024, 7, 7]       1,048,576\n",
      "     BatchNorm2d-258           [-1, 1024, 7, 7]           2,048\n",
      "            ReLU-259           [-1, 1024, 7, 7]               0\n",
      "      Bottleneck-260           [-1, 1024, 7, 7]               0\n",
      "          Conv2d-261           [-1, 1024, 7, 7]       1,048,576\n",
      "     BatchNorm2d-262           [-1, 1024, 7, 7]           2,048\n",
      "            ReLU-263           [-1, 1024, 7, 7]               0\n",
      "          Conv2d-264           [-1, 1024, 7, 7]         294,912\n",
      "     BatchNorm2d-265           [-1, 1024, 7, 7]           2,048\n",
      "            ReLU-266           [-1, 1024, 7, 7]               0\n",
      "          Conv2d-267           [-1, 1024, 7, 7]       1,048,576\n",
      "     BatchNorm2d-268           [-1, 1024, 7, 7]           2,048\n",
      "            ReLU-269           [-1, 1024, 7, 7]               0\n",
      "      Bottleneck-270           [-1, 1024, 7, 7]               0\n",
      "          Conv2d-271           [-1, 1024, 7, 7]       1,048,576\n",
      "     BatchNorm2d-272           [-1, 1024, 7, 7]           2,048\n",
      "            ReLU-273           [-1, 1024, 7, 7]               0\n",
      "          Conv2d-274           [-1, 1024, 7, 7]         294,912\n",
      "     BatchNorm2d-275           [-1, 1024, 7, 7]           2,048\n",
      "            ReLU-276           [-1, 1024, 7, 7]               0\n",
      "          Conv2d-277           [-1, 1024, 7, 7]       1,048,576\n",
      "     BatchNorm2d-278           [-1, 1024, 7, 7]           2,048\n",
      "            ReLU-279           [-1, 1024, 7, 7]               0\n",
      "      Bottleneck-280           [-1, 1024, 7, 7]               0\n",
      "          Conv2d-281           [-1, 1024, 7, 7]       1,048,576\n",
      "     BatchNorm2d-282           [-1, 1024, 7, 7]           2,048\n",
      "            ReLU-283           [-1, 1024, 7, 7]               0\n",
      "          Conv2d-284           [-1, 1024, 7, 7]         294,912\n",
      "     BatchNorm2d-285           [-1, 1024, 7, 7]           2,048\n",
      "            ReLU-286           [-1, 1024, 7, 7]               0\n",
      "          Conv2d-287           [-1, 1024, 7, 7]       1,048,576\n",
      "     BatchNorm2d-288           [-1, 1024, 7, 7]           2,048\n",
      "            ReLU-289           [-1, 1024, 7, 7]               0\n",
      "      Bottleneck-290           [-1, 1024, 7, 7]               0\n",
      "          Conv2d-291           [-1, 1024, 7, 7]       1,048,576\n",
      "     BatchNorm2d-292           [-1, 1024, 7, 7]           2,048\n",
      "            ReLU-293           [-1, 1024, 7, 7]               0\n",
      "          Conv2d-294           [-1, 1024, 7, 7]         294,912\n",
      "     BatchNorm2d-295           [-1, 1024, 7, 7]           2,048\n",
      "            ReLU-296           [-1, 1024, 7, 7]               0\n",
      "          Conv2d-297           [-1, 1024, 7, 7]       1,048,576\n",
      "     BatchNorm2d-298           [-1, 1024, 7, 7]           2,048\n",
      "            ReLU-299           [-1, 1024, 7, 7]               0\n",
      "      Bottleneck-300           [-1, 1024, 7, 7]               0\n",
      "          Conv2d-301           [-1, 1024, 7, 7]       1,048,576\n",
      "     BatchNorm2d-302           [-1, 1024, 7, 7]           2,048\n",
      "            ReLU-303           [-1, 1024, 7, 7]               0\n",
      "          Conv2d-304           [-1, 1024, 7, 7]         294,912\n",
      "     BatchNorm2d-305           [-1, 1024, 7, 7]           2,048\n",
      "            ReLU-306           [-1, 1024, 7, 7]               0\n",
      "          Conv2d-307           [-1, 1024, 7, 7]       1,048,576\n",
      "     BatchNorm2d-308           [-1, 1024, 7, 7]           2,048\n",
      "            ReLU-309           [-1, 1024, 7, 7]               0\n",
      "      Bottleneck-310           [-1, 1024, 7, 7]               0\n",
      "          Conv2d-311           [-1, 2048, 7, 7]       2,097,152\n",
      "     BatchNorm2d-312           [-1, 2048, 7, 7]           4,096\n",
      "            ReLU-313           [-1, 2048, 7, 7]               0\n",
      "          Conv2d-314           [-1, 2048, 4, 4]       1,179,648\n",
      "     BatchNorm2d-315           [-1, 2048, 4, 4]           4,096\n",
      "            ReLU-316           [-1, 2048, 4, 4]               0\n",
      "          Conv2d-317           [-1, 2048, 4, 4]       4,194,304\n",
      "     BatchNorm2d-318           [-1, 2048, 4, 4]           4,096\n",
      "          Conv2d-319           [-1, 2048, 4, 4]       2,097,152\n",
      "     BatchNorm2d-320           [-1, 2048, 4, 4]           4,096\n",
      "            ReLU-321           [-1, 2048, 4, 4]               0\n",
      "      Bottleneck-322           [-1, 2048, 4, 4]               0\n",
      "          Conv2d-323           [-1, 2048, 4, 4]       4,194,304\n",
      "     BatchNorm2d-324           [-1, 2048, 4, 4]           4,096\n",
      "            ReLU-325           [-1, 2048, 4, 4]               0\n",
      "          Conv2d-326           [-1, 2048, 4, 4]       1,179,648\n",
      "     BatchNorm2d-327           [-1, 2048, 4, 4]           4,096\n",
      "            ReLU-328           [-1, 2048, 4, 4]               0\n",
      "          Conv2d-329           [-1, 2048, 4, 4]       4,194,304\n",
      "     BatchNorm2d-330           [-1, 2048, 4, 4]           4,096\n",
      "            ReLU-331           [-1, 2048, 4, 4]               0\n",
      "      Bottleneck-332           [-1, 2048, 4, 4]               0\n",
      "          Conv2d-333           [-1, 2048, 4, 4]       4,194,304\n",
      "     BatchNorm2d-334           [-1, 2048, 4, 4]           4,096\n",
      "            ReLU-335           [-1, 2048, 4, 4]               0\n",
      "          Conv2d-336           [-1, 2048, 4, 4]       1,179,648\n",
      "     BatchNorm2d-337           [-1, 2048, 4, 4]           4,096\n",
      "            ReLU-338           [-1, 2048, 4, 4]               0\n",
      "          Conv2d-339           [-1, 2048, 4, 4]       4,194,304\n",
      "     BatchNorm2d-340           [-1, 2048, 4, 4]           4,096\n",
      "            ReLU-341           [-1, 2048, 4, 4]               0\n",
      "      Bottleneck-342           [-1, 2048, 4, 4]               0\n",
      "AdaptiveAvgPool2d-343           [-1, 2048, 1, 1]               0\n",
      "================================================================\n",
      "Total params: 86,742,336\n",
      "Trainable params: 86,742,336\n",
      "Non-trainable params: 0\n",
      "----------------------------------------------------------------\n",
      "Input size (MB): 0.14\n",
      "Forward/backward pass size (MB): 194.84\n",
      "Params size (MB): 330.90\n",
      "Estimated Total Size (MB): 525.88\n",
      "----------------------------------------------------------------\n"
     ]
    }
   ],
   "source": [
    "summary(model, input_size=(3, 112, 112))"
   ]
  },
  {
   "attachments": {},
   "cell_type": "markdown",
   "metadata": {},
   "source": [
    "## Preprocessing"
   ]
  },
  {
   "cell_type": "code",
   "execution_count": 8,
   "metadata": {},
   "outputs": [],
   "source": [
    "preprocess = transforms.Compose([\n",
    "    transforms.Resize(112),\n",
    "    transforms.ToTensor(),\n",
    "    transforms.Normalize(mean=[0.485, 0.456, 0.406], std=[0.229, 0.224, 0.225])\n",
    "])"
   ]
  },
  {
   "attachments": {},
   "cell_type": "markdown",
   "metadata": {},
   "source": [
    "## Dataset Preparation"
   ]
  },
  {
   "cell_type": "code",
   "execution_count": 2,
   "metadata": {},
   "outputs": [],
   "source": [
    "import torch\n",
    "\n",
    "from torch.utils.data import Dataset, DataLoader\n",
    "from torchvision.transforms import ToTensor, Compose, RandomAffine, ColorJitter\n",
    "from torchvision.io import read_image, write_jpeg"
   ]
  },
  {
   "cell_type": "code",
   "execution_count": 3,
   "metadata": {},
   "outputs": [],
   "source": [
    "import os\n",
    "os.chdir(\"/media/ashatya/Data/work/self/thesis/humanlike-ocr\")\n",
    "from generator import CharacterGenerator\n",
    "import matplotlib.pyplot as plt\n",
    "import tqdm\n",
    "import pandas as  pd"
   ]
  },
  {
   "cell_type": "code",
   "execution_count": 4,
   "metadata": {},
   "outputs": [],
   "source": [
    "vocab = \"कखग‍ङचछजझ‍ञ‌‌‍टठडढणतथदधनपफबभमयरलवशषसह\"\n",
    "num_samples = 10\n",
    "font_family = [ \"Samyak-Devanagari.ttf\", \"Lohit-Devanagari.ttf\"]"
   ]
  },
  {
   "cell_type": "code",
   "execution_count": 5,
   "metadata": {},
   "outputs": [],
   "source": [
    "trans = Compose([\n",
    "    RandomAffine(degrees=0, translate=(0.2, 0)),\n",
    "    ColorJitter()\n",
    "])"
   ]
  },
  {
   "cell_type": "code",
   "execution_count": 6,
   "metadata": {},
   "outputs": [],
   "source": [
    "gen = CharacterGenerator(vocab=vocab, num_samples=num_samples, font_family=font_family, img_transforms=trans)"
   ]
  },
  {
   "cell_type": "code",
   "execution_count": 88,
   "metadata": {},
   "outputs": [
    {
     "data": {
      "text/plain": [
       "[]"
      ]
     },
     "execution_count": 88,
     "metadata": {},
     "output_type": "execute_result"
    }
   ],
   "source": [
    "gen.data"
   ]
  },
  {
   "cell_type": "code",
   "execution_count": 91,
   "metadata": {},
   "outputs": [
    {
     "data": {
      "text/plain": [
       "10"
      ]
     },
     "execution_count": 91,
     "metadata": {},
     "output_type": "execute_result"
    }
   ],
   "source": [
    "len(gen)"
   ]
  },
  {
   "cell_type": "code",
   "execution_count": 8,
   "metadata": {},
   "outputs": [
    {
     "data": {
      "text/plain": [
       "'torch.ByteTensor'"
      ]
     },
     "execution_count": 8,
     "metadata": {},
     "output_type": "execute_result"
    }
   ],
   "source": [
    "gen[0][0]"
   ]
  },
  {
   "cell_type": "code",
   "execution_count": 9,
   "metadata": {},
   "outputs": [],
   "source": [
    "img_dir = \"data/atomic_char\""
   ]
  },
  {
   "cell_type": "code",
   "execution_count": 10,
   "metadata": {},
   "outputs": [
    {
     "name": "stderr",
     "output_type": "stream",
     "text": [
      "100%|██████████| 37/37 [00:00<00:00, 222.59it/s]\n",
      "100%|██████████| 37/37 [00:00<00:00, 244.88it/s]\n",
      "100%|██████████| 37/37 [00:00<00:00, 266.04it/s]\n",
      "100%|██████████| 37/37 [00:00<00:00, 265.57it/s]\n",
      "100%|██████████| 37/37 [00:00<00:00, 257.29it/s]\n"
     ]
    }
   ],
   "source": [
    "dict_annotations : dict[str, list[str, int]] = {\"filename\": [], \"label\": []}\n",
    "corrupt_labels = {3, 9, 11, 12, 13}\n",
    "for iteration in range(5):\n",
    "    for i in tqdm.tqdm(range(len(vocab))):\n",
    "        img, target = gen[len(vocab) * iteration + i]\n",
    "        # save the image\n",
    "        if target not in corrupt_labels:\n",
    "            name_file = f\"atomic_{target}_{iteration}.jpg\"\n",
    "            write_jpeg(img, filename=os.path.join(img_dir, name_file))\n",
    "            dict_annotations[\"filename\"].append(name_file)\n",
    "            dict_annotations[\"label\"].append(target)\n",
    "        "
   ]
  },
  {
   "cell_type": "code",
   "execution_count": 11,
   "metadata": {},
   "outputs": [],
   "source": [
    "annotations = pd.DataFrame(dict_annotations)\n",
    "annotations.to_csv(\"data/annotations_atomic_char_5iter.csv\", index=False)"
   ]
  },
  {
   "cell_type": "code",
   "execution_count": 116,
   "metadata": {},
   "outputs": [
    {
     "data": {
      "image/png": "[encoded data removed]",
      "text/plain": [
       "<Figure size 2000x2000 with 36 Axes>"
      ]
     },
     "metadata": {},
     "output_type": "display_data"
    }
   ],
   "source": [
    "plt.figure(figsize=(20,20))\n",
    "for i in range(1,len(vocab)):\n",
    "    img, target = gen[i-1] #11, 12, 13\n",
    "    # print(target)\n",
    "    plt.subplot(6, 6, i)\n",
    "    plt.title(target)\n",
    "    plt.imshow(img.permute(1, 2, 0))\n",
    "    # 3, 9, 11, 12, 13"
   ]
  },
  {
   "attachments": {},
   "cell_type": "markdown",
   "metadata": {},
   "source": [
    "# Creating Torch Dataset"
   ]
  },
  {
   "cell_type": "code",
   "execution_count": 133,
   "metadata": {},
   "outputs": [],
   "source": [
    "class dataAtomicChars(Dataset):\n",
    "    def __init__(self, annotations_file, img_dir) -> None:\n",
    "        super().__init__()\n",
    "        self.img_labels = pd.read_csv(annotations_file)\n",
    "        self.img_dir = img_dir\n",
    "        \n",
    "    def __len__(self):\n",
    "        return len(self.img_labels)\n",
    "    \n",
    "    def __getitem__(self, index):\n",
    "        img_path = os.path.join(self.img_dir, self.img_labels.iloc[index, 0])\n",
    "        image = read_image(img_path)\n",
    "        label = self.img_labels.iloc[index, 1]\n",
    "        return image, label\n",
    "    \n",
    "train_data = dataAtomicChars(\"data/annotations_atomic_char_5iter.csv\", \"data/atomic_char\")"
   ]
  },
  {
   "cell_type": "code",
   "execution_count": 12,
   "metadata": {},
   "outputs": [],
   "source": [
    "img = read_image(\"data/atomic_char/atomic_0_0.jpg\")"
   ]
  },
  {
   "cell_type": "code",
   "execution_count": 13,
   "metadata": {},
   "outputs": [
    {
     "data": {
      "text/plain": [
       "<matplotlib.image.AxesImage at 0x7f0c8a71b160>"
      ]
     },
     "execution_count": 13,
     "metadata": {},
     "output_type": "execute_result"
    },
    {
     "data": {
      "image/png": "[encoded data removed]",
      "text/plain": [
       "<Figure size 640x480 with 1 Axes>"
      ]
     },
     "metadata": {},
     "output_type": "display_data"
    }
   ],
   "source": [
    "plt.imshow(img.permute(1, 2, 0))"
   ]
  },
  {
   "attachments": {},
   "cell_type": "markdown",
   "metadata": {},
   "source": [
    "## Using DataLoader to create a pipeline"
   ]
  },
  {
   "cell_type": "code",
   "execution_count": 134,
   "metadata": {},
   "outputs": [],
   "source": [
    "train_dataloader = DataLoader(train_data, batch_size=4, shuffle=True)\n"
   ]
  },
  {
   "cell_type": "code",
   "execution_count": null,
   "metadata": {},
   "outputs": [],
   "source": [
    "# loading model\n",
    "model = torch.hub.load('facebookresearch/WSL-Images', 'resnext101_32x8d_wsl')"
   ]
  },
  {
   "cell_type": "code",
   "execution_count": null,
   "metadata": {},
   "outputs": [],
   "source": [
    "from torch import nn\n",
    "from torchsummary import summary\n",
    "\n",
    "# Dropping output layer (the ImageNet classifier)\n",
    "\n",
    "def slice_model(original_model, from_layer=None, to_layer=None):\n",
    "    return nn.Sequential(*list(original_model.children())[from_layer:to_layer])\n",
    "model_conv_features = slice_model(model, to_layer=-1).to(device)\n",
    "summary(model_conv_features, input_size=(3,224,224))"
   ]
  },
  {
   "cell_type": "code",
   "execution_count": null,
   "metadata": {},
   "outputs": [],
   "source": [
    "from PIL import Image\n",
    "from torchvision import transforms\n",
    "# pre-processing required by ResNext\n",
    "preprocess = transforms.Compose([\n",
    "    transforms.Resize(40),\n",
    "    transforms.CenterCrop(224),\n",
    "    transforms.ConvertImageDtype(torch.float),\n",
    "    # transforms.ToTensor(),\n",
    "    transforms.Normalize(mean=[0.485, 0.456, 0.406], std=[0.229, 0.224, 0.225]),\n",
    "])"
   ]
  },
  {
   "cell_type": "code",
   "execution_count": null,
   "metadata": {},
   "outputs": [],
   "source": [
    "root = \"/data/atomic_char\"\n",
    "annFile = \"/data/annotations_atomic_char_5iter.csv\""
   ]
  },
  {
   "cell_type": "code",
   "execution_count": null,
   "metadata": {},
   "outputs": [],
   "source": [
    "from torch.utils.data import Dataset\n",
    "from torchvision.io.image import read_image\n",
    "import pandas as pd\n",
    "import os\n",
    "\n",
    "\n",
    "class dataAtomicChars(Dataset):\n",
    "    def __init__(self, annotations_file, img_dir, transforms) -> None:\n",
    "        super().__init__()\n",
    "        self.img_labels = pd.read_csv(annotations_file)\n",
    "        self.img_dir = img_dir\n",
    "        self.transforms = transforms\n",
    "    \n",
    "    def __len__(self):\n",
    "        return len(self.img_labels)\n",
    "    \n",
    "    def __getitem__(self, index):\n",
    "        img_path = os.path.join(self.img_dir, self.img_labels.iloc[index, 0])\n",
    "        image = read_image(img_path)\n",
    "        if self.transforms:\n",
    "          image = self.transforms(image)\n",
    "        label = self.img_labels.iloc[index, 1]\n",
    "        return image, label\n",
    "    \n",
    "train_data = dataAtomicChars(annFile, root, preprocess)"
   ]
  },
  {
   "cell_type": "code",
   "execution_count": null,
   "metadata": {},
   "outputs": [],
   "source": [
    "import multiprocessing\n",
    "\n",
    "cpu_count = multiprocessing.cpu_count()\n",
    "print('cpus', cpu_count)\n",
    "batch_size = 10\n",
    "\n",
    "data_loader = torch.utils.data.DataLoader(dataset=train_data, \n",
    "                                          batch_size=batch_size,\n",
    "                                          shuffle=False,\n",
    "                                          num_workers=cpu_count,\n",
    "                                          collate_fn=lambda x: x)"
   ]
  },
  {
   "cell_type": "code",
   "execution_count": null,
   "metadata": {},
   "outputs": [],
   "source": [
    "from tqdm import tqdm\n",
    "features_list = []\n",
    "labels_list = []\n",
    "\n",
    "# Use GPUs to speed up the inference, this should take around 10 minutes\n",
    "\n",
    "model_conv_features.to(device)\n",
    "for batch in tqdm(data_loader):\n",
    "    image_batch, label_batch = [x[0] for x in batch], [x[1] for x in batch]\n",
    "    image_batch = torch.stack(image_batch).to(device) \n",
    "\n",
    "    with torch.no_grad():\n",
    "        features_batch = model_conv_features(image_batch).flatten(start_dim=1)\n",
    "    features_list.append(features_batch)\n",
    "    labels_list.extend(label_batch)\n",
    "        "
   ]
  },
  {
   "cell_type": "code",
   "execution_count": null,
   "metadata": {},
   "outputs": [],
   "source": [
    "import os\n",
    "# concat features\n",
    "features = torch.cat(features_list)\n",
    "features.shape"
   ]
  },
  {
   "cell_type": "code",
   "execution_count": null,
   "metadata": {},
   "outputs": [],
   "source": [
    "X = features.to(\"cpu\").numpy()"
   ]
  },
  {
   "cell_type": "code",
   "execution_count": null,
   "metadata": {},
   "outputs": [],
   "source": [
    "df = pd.read_csv(\"/data/annotations_atomic_char_5iter.csv\")\n",
    "Y = df['label']"
   ]
  },
  {
   "cell_type": "code",
   "execution_count": null,
   "metadata": {},
   "outputs": [],
   "source": [
    "# let's try to use the embedding feature space to predict the 80 COCO categories using a Random Forest\n",
    "import numpy as np\n",
    "import pandas as pd\n",
    "from sklearn.ensemble import RandomForestClassifier\n",
    "from sklearn.preprocessing import LabelBinarizer\n",
    "from sklearn.model_selection import train_test_split\n",
    "\n",
    "rfc = RandomForestClassifier(random_state=46, n_estimators=100, verbose=3)\n",
    "\n",
    "X_rf = X\n",
    "\n",
    "mlb = LabelBinarizer()\n",
    "y_rf = mlb.fit_transform(np.array(Y))\n",
    "\n",
    "y = np.array(Y)\n",
    "y = np.where(y == None, 'NA', y)\n",
    "# labels_frequency = pd.Series(y).value_counts()\n",
    "# low_frequency_labels = labels_frequency[labels_frequency < 5].index\n",
    "# y = np.where(np.isin(y, low_frequency_labels), 'other', y)\n",
    "\n",
    "# split train and test stratyifing on the single-label target y\n",
    "X_rf_train, X_rf_test, y_rf_train, y_rf_test = train_test_split(X_rf, y_rf,\n",
    "                                               test_size=0.2, random_state=46)\n",
    "\n",
    "print(X_rf_train.shape, y_rf_train.shape,  X_rf_test.shape, y_rf_test.shape)\n",
    "# train on the multi-label target y_multi\n",
    "rfc.fit(X_rf_train, y_rf_train)\n",
    "# shrink()"
   ]
  },
  {
   "cell_type": "code",
   "execution_count": null,
   "metadata": {},
   "outputs": [],
   "source": [
    "rfc.score(X_rf_train, y_rf_train), rfc.score(X_rf_test, y_rf_test)"
   ]
  },
  {
   "cell_type": "code",
   "execution_count": null,
   "metadata": {},
   "outputs": [],
   "source": [
    "# top 25 features selected by the random forest multiclass classifier\n",
    "top_features = np.argsort(rfc.feature_importances_)[::-1][:80]\n",
    "top_features  \n",
    "\"\"\"\"array([ 719,  862, 1736,  634,  655,  419,  183, 1937,  405,  588,  132,\n",
    "       1080,  507,  882,  196, 1445, 1251, 1542,  863,  633,   67, 1716,\n",
    "       1204,  878,  600, 1166,  423, 1693, 1876,  245, 1120,  185, 1040,\n",
    "       1819, 1747, 1617,  459, 1280,  279, 1593,  785,  289,  705,  713,\n",
    "        340, 1208, 1224,  975, 1265,  837, 1037, 1930,  685, 1469,  179,\n",
    "        239, 1154,  542,  636,  945, 1125, 1107, 1530,  763, 1175,   49,\n",
    "        874, 1170, 1737, 1156, 1161, 1332, 1078,  946, 1400,  689, 1289,\n",
    "       1540, 1228, 1535])\"\"\""
   ]
  },
  {
   "cell_type": "code",
   "execution_count": null,
   "metadata": {},
   "outputs": [],
   "source": [
    "# Extracting all of the principal components \n",
    "\n",
    "from sklearn.decomposition import PCA\n",
    "pca = PCA(n_components=160)\n",
    "X_pca = pca.fit_transform(X)\n",
    "plt.plot(range(X_pca.shape[1]), np.cumsum(pca.explained_variance_ratio_))\n",
    "plt.title('Cumulative sum of explained variance by each component')\n",
    "plt.show()"
   ]
  }
 ],
 "metadata": {
  "kernelspec": {
   "display_name": "torch",
   "language": "python",
   "name": "python3"
  },
  "language_info": {
   "codemirror_mode": {
    "name": "ipython",
    "version": 3
   },
   "file_extension": ".py",
   "mimetype": "text/x-python",
   "name": "python",
   "nbconvert_exporter": "python",
   "pygments_lexer": "ipython3",
   "version": "3.10.6 (main, Mar 10 2023, 10:55:28) [GCC 11.3.0]"
  },
  "orig_nbformat": 4,
  "vscode": {
   "interpreter": {
    "hash": "950bd48d5df7661c49664b65d899f9df442163113fe67b13946103086fe16d50"
   }
  }
 },
 "nbformat": 4,
 "nbformat_minor": 2
}
